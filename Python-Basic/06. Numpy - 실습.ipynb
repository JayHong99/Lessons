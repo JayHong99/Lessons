{
 "cells": [
  {
   "cell_type": "markdown",
   "metadata": {},
   "source": [
    "pip install --user numpy"
   ]
  },
  {
   "cell_type": "code",
   "execution_count": 1,
   "metadata": {},
   "outputs": [],
   "source": [
    "import numpy as np"
   ]
  },
  {
   "cell_type": "code",
   "execution_count": 2,
   "metadata": {},
   "outputs": [],
   "source": [
    "def print_obj(obj, name):\n",
    "    print(\"%s:\\n%s\\n\" % (name, obj))\n",
    "    \n",
    "def check_each(a, b):\n",
    "    return (a == b).astype('bool')\n",
    "\n",
    "def check_mean(a, b):\n",
    "    return np.mean(a == b).astype('bool')"
   ]
  },
  {
   "cell_type": "markdown",
   "metadata": {},
   "source": [
    "# 1. Scalars, Vectors, Matricies\n"
   ]
  },
  {
   "cell_type": "code",
   "execution_count": 3,
   "metadata": {},
   "outputs": [],
   "source": [
    "a = np.array(1.)\n",
    "b = np.array([1.,2.,3.])\n",
    "c = np.array([[1., 2., 3.], [4., 5., 6.]])"
   ]
  },
  {
   "cell_type": "markdown",
   "metadata": {},
   "source": [
    "Check"
   ]
  },
  {
   "cell_type": "code",
   "execution_count": 4,
   "metadata": {},
   "outputs": [
    {
     "name": "stdout",
     "output_type": "stream",
     "text": [
      "a:\n",
      "1.0\n",
      "\n",
      "b:\n",
      "[1. 2. 3.]\n",
      "\n",
      "c:\n",
      "[[1. 2. 3.]\n",
      " [4. 5. 6.]]\n",
      "\n"
     ]
    }
   ],
   "source": [
    "print_obj(a, \"a\")\n",
    "print_obj(b, \"b\")\n",
    "print_obj(c, \"c\")"
   ]
  },
  {
   "cell_type": "markdown",
   "metadata": {},
   "source": [
    "Dimmension"
   ]
  },
  {
   "cell_type": "code",
   "execution_count": 5,
   "metadata": {},
   "outputs": [
    {
     "name": "stdout",
     "output_type": "stream",
     "text": [
      "a.ndim:\n",
      "0\n",
      "\n",
      "b.ndim:\n",
      "1\n",
      "\n",
      "c.ndim:\n",
      "2\n",
      "\n"
     ]
    }
   ],
   "source": [
    "print_obj(a.ndim, \"a.ndim\")\n",
    "print_obj(b.ndim, \"b.ndim\")\n",
    "print_obj(c.ndim, \"c.ndim\")"
   ]
  },
  {
   "cell_type": "markdown",
   "metadata": {},
   "source": [
    "Shape"
   ]
  },
  {
   "cell_type": "code",
   "execution_count": 6,
   "metadata": {},
   "outputs": [
    {
     "name": "stdout",
     "output_type": "stream",
     "text": [
      "a.shape:\n",
      "()\n",
      "\n",
      "b.shape:\n",
      "(3,)\n",
      "\n",
      "c.shape:\n",
      "(2, 3)\n",
      "\n",
      "c.shape[0]:\n",
      "2\n",
      "\n"
     ]
    }
   ],
   "source": [
    "print_obj(a.shape, \"a.shape\")\n",
    "print_obj(b.shape, \"b.shape\")\n",
    "print_obj(c.shape, \"c.shape\")\n",
    "print_obj(c.shape[0], \"c.shape[0]\")"
   ]
  },
  {
   "cell_type": "markdown",
   "metadata": {},
   "source": [
    "# 2. Tensors"
   ]
  },
  {
   "cell_type": "code",
   "execution_count": 7,
   "metadata": {},
   "outputs": [],
   "source": [
    "d = np.array([[[1., 2., 3.], [4., 5., 6.]], [[7., 8., 9.], [10., 11., 12.]]])\n",
    "e = np.array([[[[1., 2., 3.], [1., 2., 3.]], [[4., 5., 6.], [4., 5., 6.]]],\n",
    "              [[[7., 8., 9.], [7., 8., 9.]], [[10., 11., 12.], [10., 11., 12.]]]])"
   ]
  },
  {
   "cell_type": "code",
   "execution_count": 8,
   "metadata": {},
   "outputs": [
    {
     "name": "stdout",
     "output_type": "stream",
     "text": [
      "d:\n",
      "[[[ 1.  2.  3.]\n",
      "  [ 4.  5.  6.]]\n",
      "\n",
      " [[ 7.  8.  9.]\n",
      "  [10. 11. 12.]]]\n",
      "\n",
      "d.ndim:\n",
      "3\n",
      "\n",
      "d.shape:\n",
      "(2, 2, 3)\n",
      "\n",
      "e:\n",
      "[[[[ 1.  2.  3.]\n",
      "   [ 1.  2.  3.]]\n",
      "\n",
      "  [[ 4.  5.  6.]\n",
      "   [ 4.  5.  6.]]]\n",
      "\n",
      "\n",
      " [[[ 7.  8.  9.]\n",
      "   [ 7.  8.  9.]]\n",
      "\n",
      "  [[10. 11. 12.]\n",
      "   [10. 11. 12.]]]]\n",
      "\n",
      "e.ndim:\n",
      "4\n",
      "\n",
      "e.shape:\n",
      "(2, 2, 2, 3)\n",
      "\n"
     ]
    }
   ],
   "source": [
    "print_obj(d, \"d\")\n",
    "print_obj(d.ndim, \"d.ndim\")\n",
    "print_obj(d.shape, \"d.shape\")\n",
    "\n",
    "print_obj(e, \"e\")\n",
    "print_obj(e.ndim, \"e.ndim\")\n",
    "print_obj(e.shape, \"e.shape\")"
   ]
  },
  {
   "cell_type": "markdown",
   "metadata": {},
   "source": [
    "Q) 문제\n",
    "\n",
    "[[[1], [2], [3]], [[4], [5], [6]]]의 shape는?"
   ]
  },
  {
   "cell_type": "code",
   "execution_count": null,
   "metadata": {},
   "outputs": [],
   "source": []
  },
  {
   "cell_type": "markdown",
   "metadata": {},
   "source": [
    "# 3. Defining Numpy Arrays"
   ]
  },
  {
   "cell_type": "code",
   "execution_count": 9,
   "metadata": {},
   "outputs": [
    {
     "data": {
      "text/plain": [
       "array([1., 1., 1., 1., 1., 1., 1., 1., 1., 1.])"
      ]
     },
     "execution_count": 9,
     "metadata": {},
     "output_type": "execute_result"
    }
   ],
   "source": [
    "a = np.ones(10)\n",
    "a"
   ]
  },
  {
   "cell_type": "code",
   "execution_count": 10,
   "metadata": {},
   "outputs": [
    {
     "data": {
      "text/plain": [
       "array([[0., 0., 0., 0., 0.],\n",
       "       [0., 0., 0., 0., 0.]])"
      ]
     },
     "execution_count": 10,
     "metadata": {},
     "output_type": "execute_result"
    }
   ],
   "source": [
    "b = np.zeros((2,5))\n",
    "b"
   ]
  },
  {
   "cell_type": "code",
   "execution_count": 11,
   "metadata": {},
   "outputs": [
    {
     "data": {
      "text/plain": [
       "array([[[2, 2],\n",
       "        [2, 2]],\n",
       "\n",
       "       [[2, 2],\n",
       "        [2, 2]]])"
      ]
     },
     "execution_count": 11,
     "metadata": {},
     "output_type": "execute_result"
    }
   ],
   "source": [
    "c = np.full((2,2,2), 2)\n",
    "c"
   ]
  },
  {
   "cell_type": "code",
   "execution_count": 12,
   "metadata": {},
   "outputs": [
    {
     "data": {
      "text/plain": [
       "array([[[0.03268236, 0.9060004 , 0.93250689, 0.41577068],\n",
       "        [0.87185253, 0.15208332, 0.75214191, 0.85732967],\n",
       "        [0.57570465, 0.4635551 , 0.92549291, 0.81544879]],\n",
       "\n",
       "       [[0.17787306, 0.11752518, 0.58077731, 0.07982408],\n",
       "        [0.47066069, 0.24839922, 0.04327266, 0.11064811],\n",
       "        [0.95097705, 0.71898001, 0.49628995, 0.89706121]]])"
      ]
     },
     "execution_count": 12,
     "metadata": {},
     "output_type": "execute_result"
    }
   ],
   "source": [
    "d = np.random.random((2,3,4))\n",
    "d"
   ]
  },
  {
   "cell_type": "code",
   "execution_count": 13,
   "metadata": {},
   "outputs": [
    {
     "data": {
      "text/plain": [
       "array([0, 1, 2, 3, 4, 5, 6, 7, 8, 9])"
      ]
     },
     "execution_count": 13,
     "metadata": {},
     "output_type": "execute_result"
    }
   ],
   "source": [
    "e = np.arange(10)\n",
    "e"
   ]
  },
  {
   "cell_type": "code",
   "execution_count": 14,
   "metadata": {},
   "outputs": [
    {
     "data": {
      "text/plain": [
       "array([0. , 0.5, 1. , 1.5, 2. , 2.5, 3. , 3.5, 4. , 4.5, 5. , 5.5, 6. ,\n",
       "       6.5, 7. , 7.5, 8. , 8.5, 9. , 9.5])"
      ]
     },
     "execution_count": 14,
     "metadata": {},
     "output_type": "execute_result"
    }
   ],
   "source": [
    "f = np.arange(0,10,0.5)\n",
    "f"
   ]
  },
  {
   "cell_type": "code",
   "execution_count": 15,
   "metadata": {},
   "outputs": [
    {
     "data": {
      "text/plain": [
       "array([[0., 1.],\n",
       "       [2., 3.],\n",
       "       [4., 5.],\n",
       "       [6., 7.],\n",
       "       [8., 9.]])"
      ]
     },
     "execution_count": 15,
     "metadata": {},
     "output_type": "execute_result"
    }
   ],
   "source": [
    "g = np.arange(10).astype(float).reshape(5,2)\n",
    "g"
   ]
  },
  {
   "cell_type": "markdown",
   "metadata": {},
   "source": [
    "Quiz)\n",
    "\n",
    "0.0부터 23.0까지 채워진 (4,3,2) tensor를 만들어주세요"
   ]
  },
  {
   "cell_type": "code",
   "execution_count": 16,
   "metadata": {},
   "outputs": [
    {
     "data": {
      "text/plain": [
       "array([[[ 0.,  1.],\n",
       "        [ 2.,  3.],\n",
       "        [ 4.,  5.]],\n",
       "\n",
       "       [[ 6.,  7.],\n",
       "        [ 8.,  9.],\n",
       "        [10., 11.]],\n",
       "\n",
       "       [[12., 13.],\n",
       "        [14., 15.],\n",
       "        [16., 17.]],\n",
       "\n",
       "       [[18., 19.],\n",
       "        [20., 21.],\n",
       "        [22., 23.]]])"
      ]
     },
     "execution_count": 16,
     "metadata": {},
     "output_type": "execute_result"
    }
   ],
   "source": [
    "np.arange(24.).reshape(4,3,2)"
   ]
  },
  {
   "cell_type": "markdown",
   "metadata": {},
   "source": [
    "# 4. Indexing & Slicing"
   ]
  },
  {
   "cell_type": "markdown",
   "metadata": {},
   "source": [
    "### Indexing Array"
   ]
  },
  {
   "cell_type": "code",
   "execution_count": 17,
   "metadata": {},
   "outputs": [
    {
     "name": "stdout",
     "output_type": "stream",
     "text": [
      "a:\n",
      "[0 1 2 3 4 5 6 7 8 9]\n",
      "\n"
     ]
    }
   ],
   "source": [
    "a = np.arange(10)\n",
    "print_obj(a, \"a\")"
   ]
  },
  {
   "cell_type": "code",
   "execution_count": 18,
   "metadata": {},
   "outputs": [
    {
     "name": "stdout",
     "output_type": "stream",
     "text": [
      "a[0]:\n",
      "0\n",
      "\n",
      "a[1]:\n",
      "1\n",
      "\n",
      "a[-1]:\n",
      "9\n",
      "\n",
      "a[-3]:\n",
      "7\n",
      "\n"
     ]
    }
   ],
   "source": [
    "print_obj(a[0], \"a[0]\")\n",
    "print_obj(a[1], \"a[1]\")\n",
    "print_obj(a[-1], \"a[-1]\")\n",
    "print_obj(a[-3], \"a[-3]\")"
   ]
  },
  {
   "cell_type": "code",
   "execution_count": 19,
   "metadata": {},
   "outputs": [
    {
     "name": "stdout",
     "output_type": "stream",
     "text": [
      "a[0:10]:\n",
      "[0 1 2 3 4 5 6 7 8 9]\n",
      "\n",
      "a[0:]:\n",
      "[0 1 2 3 4 5 6 7 8 9]\n",
      "\n",
      "a[:10]:\n",
      "[0 1 2 3 4 5 6 7 8 9]\n",
      "\n",
      "a[:]:\n",
      "[0 1 2 3 4 5 6 7 8 9]\n",
      "\n"
     ]
    }
   ],
   "source": [
    "print_obj(a[0:10], \"a[0:10]\")\n",
    "print_obj(a[0:], \"a[0:]\")\n",
    "print_obj(a[:10], \"a[:10]\")\n",
    "print_obj(a[:], \"a[:]\")"
   ]
  },
  {
   "cell_type": "code",
   "execution_count": 20,
   "metadata": {},
   "outputs": [
    {
     "name": "stdout",
     "output_type": "stream",
     "text": [
      "a[7:]:\n",
      "[7 8 9]\n",
      "\n",
      "a[:5]:\n",
      "[0 1 2 3 4]\n",
      "\n",
      "a[2:5]:\n",
      "[2 3 4]\n",
      "\n"
     ]
    }
   ],
   "source": [
    "print_obj(a[7:], \"a[7:]\")\n",
    "print_obj(a[:5], \"a[:5]\")\n",
    "print_obj(a[2:5], \"a[2:5]\")"
   ]
  },
  {
   "cell_type": "markdown",
   "metadata": {},
   "source": [
    "Quiz)\n",
    "\n",
    "- a[-4 :]의 값은?\n",
    "\n",
    "- a[:-6]의 값은?"
   ]
  },
  {
   "cell_type": "code",
   "execution_count": 21,
   "metadata": {},
   "outputs": [
    {
     "name": "stdout",
     "output_type": "stream",
     "text": [
      "a[0:10:2]:\n",
      "[0 2 4 6 8]\n",
      "\n",
      "a[0:10:3]:\n",
      "[0 3 6 9]\n",
      "\n",
      "a[2:6:3]:\n",
      "[2 5]\n",
      "\n"
     ]
    }
   ],
   "source": [
    "print_obj(a[0:10:2], \"a[0:10:2]\")\n",
    "print_obj(a[0:10:3], \"a[0:10:3]\")\n",
    "print_obj(a[2:6:3], \"a[2:6:3]\")"
   ]
  },
  {
   "cell_type": "code",
   "execution_count": 22,
   "metadata": {},
   "outputs": [
    {
     "name": "stdout",
     "output_type": "stream",
     "text": [
      "a[::-1]:\n",
      "[9 8 7 6 5 4 3 2 1 0]\n",
      "\n",
      "a[8:5:-1]:\n",
      "[8 7 6]\n",
      "\n",
      "a[8:5]:\n",
      "[]\n",
      "\n"
     ]
    }
   ],
   "source": [
    "print_obj(a[::-1], \"a[::-1]\")\n",
    "print_obj(a[8:5:-1], \"a[8:5:-1]\")\n",
    "print_obj(a[8:5], \"a[8:5]\")"
   ]
  },
  {
   "cell_type": "markdown",
   "metadata": {},
   "source": [
    "Quiz)\n",
    "\n",
    "a를 이용해서 [9,6,3]을 만들어주세요"
   ]
  },
  {
   "cell_type": "markdown",
   "metadata": {},
   "source": [
    "### Indexing Matrix"
   ]
  },
  {
   "cell_type": "code",
   "execution_count": 23,
   "metadata": {},
   "outputs": [
    {
     "name": "stdout",
     "output_type": "stream",
     "text": [
      "a:\n",
      "[[0 1 2]\n",
      " [3 4 5]\n",
      " [6 7 8]]\n",
      "\n",
      "a[0][0]:\n",
      "0\n",
      "\n",
      "a[0,0]:\n",
      "0\n",
      "\n",
      "a[1,1]:\n",
      "4\n",
      "\n"
     ]
    }
   ],
   "source": [
    "a = np.arange(9).reshape((3,3))\n",
    "print_obj(a, \"a\")\n",
    "print_obj(a[0][0], \"a[0][0]\")\n",
    "print_obj(a[0,0], \"a[0,0]\")\n",
    "print_obj(a[1,1], \"a[1,1]\")"
   ]
  },
  {
   "cell_type": "markdown",
   "metadata": {},
   "source": [
    "Quiz ) \n",
    "\n",
    "- 마지막 row에 접근하는 방법은?\n",
    "- 2번째 column에 접근하는 방법은?\n",
    "- [6,5]를 만드는 방법은?"
   ]
  },
  {
   "cell_type": "markdown",
   "metadata": {},
   "source": [
    "### Conditional Indexing"
   ]
  },
  {
   "cell_type": "code",
   "execution_count": 24,
   "metadata": {},
   "outputs": [
    {
     "name": "stdout",
     "output_type": "stream",
     "text": [
      "a:\n",
      "[[0 1]\n",
      " [2 3]\n",
      " [4 5]]\n",
      "\n",
      "idx:\n",
      "[[ True False]\n",
      " [ True False]\n",
      " [ True False]]\n",
      "\n"
     ]
    }
   ],
   "source": [
    "a = np.arange(3*2).reshape((3,2))\n",
    "print_obj(a, \"a\")\n",
    "\n",
    "idx = a % 2 == 0\n",
    "print_obj(idx, \"idx\")"
   ]
  },
  {
   "cell_type": "markdown",
   "metadata": {},
   "source": [
    "Quiz)\n",
    "\n",
    "a를 이용해서 [3,4,5]를 만드는 법은?"
   ]
  },
  {
   "cell_type": "markdown",
   "metadata": {},
   "source": [
    "# 5. Math Operations"
   ]
  },
  {
   "cell_type": "markdown",
   "metadata": {},
   "source": [
    "- 사칙연산"
   ]
  },
  {
   "cell_type": "code",
   "execution_count": 25,
   "metadata": {},
   "outputs": [
    {
     "name": "stdout",
     "output_type": "stream",
     "text": [
      "a:\n",
      "[[0 1]\n",
      " [2 3]\n",
      " [4 5]]\n",
      "\n",
      "b:\n",
      "[[1. 1.]\n",
      " [1. 1.]\n",
      " [1. 1.]]\n",
      "\n",
      "a+b:\n",
      "[[1. 2.]\n",
      " [3. 4.]\n",
      " [5. 6.]]\n",
      "\n",
      "a-b:\n",
      "[[-1.  0.]\n",
      " [ 1.  2.]\n",
      " [ 3.  4.]]\n",
      "\n",
      "a*b:\n",
      "[[0. 1.]\n",
      " [2. 3.]\n",
      " [4. 5.]]\n",
      "\n",
      "a/b:\n",
      "[[0. 1.]\n",
      " [2. 3.]\n",
      " [4. 5.]]\n",
      "\n"
     ]
    }
   ],
   "source": [
    "a = np.arange(6).reshape((3, 2))\n",
    "b = np.ones((3, 2))\n",
    "print_obj(a, \"a\")\n",
    "print_obj(b, \"b\")\n",
    "\n",
    "# +, -, *, /\n",
    "print_obj(a+b, \"a+b\")\n",
    "print_obj(a-b, \"a-b\")\n",
    "print_obj(a*b, \"a*b\")\n",
    "print_obj(a/b, \"a/b\")"
   ]
  },
  {
   "cell_type": "code",
   "execution_count": 26,
   "metadata": {},
   "outputs": [
    {
     "name": "stdout",
     "output_type": "stream",
     "text": [
      "a:\n",
      "[[0 1]\n",
      " [2 3]\n",
      " [4 5]]\n",
      "\n",
      "a.sum():\n",
      "15\n",
      "\n",
      "a.sum(axis=0):\n",
      "[6 9]\n",
      "\n",
      "a.sum(axis=1):\n",
      "[1 5 9]\n",
      "\n",
      "a.mean():\n",
      "2.5\n",
      "\n",
      "a.max():\n",
      "5\n",
      "\n",
      "a.min():\n",
      "0\n",
      "\n"
     ]
    }
   ],
   "source": [
    "a = np.arange(6).reshape((3,2))\n",
    "print_obj(a, \"a\")\n",
    "\n",
    "print_obj(a.sum(), \"a.sum()\")\n",
    "print_obj(a.sum(axis=0), \"a.sum(axis=0)\") # row wise\n",
    "print_obj(a.sum(axis=1), \"a.sum(axis=1)\") # col wise = horizontal\n",
    "\n",
    "print_obj(a.mean(), \"a.mean()\")\n",
    "print_obj(a.max(), \"a.max()\")\n",
    "print_obj(a.min(), \"a.min()\")\n"
   ]
  },
  {
   "cell_type": "markdown",
   "metadata": {},
   "source": [
    "Quiz)"
   ]
  },
  {
   "cell_type": "markdown",
   "metadata": {},
   "source": [
    "a = np.arange(24).reshape((2,3,4)) 일 때, 마지막 차원의 관점에서의 합의 평균은?"
   ]
  },
  {
   "cell_type": "code",
   "execution_count": 27,
   "metadata": {},
   "outputs": [
    {
     "data": {
      "text/plain": [
       "array([[[ 0,  1,  2,  3],\n",
       "        [ 4,  5,  6,  7],\n",
       "        [ 8,  9, 10, 11]],\n",
       "\n",
       "       [[12, 13, 14, 15],\n",
       "        [16, 17, 18, 19],\n",
       "        [20, 21, 22, 23]]])"
      ]
     },
     "execution_count": 27,
     "metadata": {},
     "output_type": "execute_result"
    }
   ],
   "source": [
    "a = np.arange(24).reshape(2,3,4)\n",
    "a"
   ]
  },
  {
   "cell_type": "code",
   "execution_count": 28,
   "metadata": {},
   "outputs": [
    {
     "data": {
      "text/plain": [
       "array([[ 6, 22, 38],\n",
       "       [54, 70, 86]])"
      ]
     },
     "execution_count": 28,
     "metadata": {},
     "output_type": "execute_result"
    }
   ],
   "source": [
    "a.sum(axis = -1)"
   ]
  },
  {
   "cell_type": "markdown",
   "metadata": {},
   "source": [
    "- dot product"
   ]
  },
  {
   "cell_type": "code",
   "execution_count": 29,
   "metadata": {},
   "outputs": [
    {
     "name": "stdout",
     "output_type": "stream",
     "text": [
      "a:\n",
      "[0. 1. 2.]\n",
      "\n",
      "b:\n",
      "[1. 1. 1.]\n",
      "\n",
      "a dot b:\n",
      "3.0\n",
      "\n"
     ]
    }
   ],
   "source": [
    "a = np.arange(3).astype('float')\n",
    "b = np.ones(3)\n",
    "print_obj(a, \"a\")\n",
    "print_obj(b, \"b\")\n",
    "\n",
    "print_obj(np.dot(a, b), \"a dot b\")"
   ]
  },
  {
   "cell_type": "code",
   "execution_count": 30,
   "metadata": {},
   "outputs": [
    {
     "name": "stdout",
     "output_type": "stream",
     "text": [
      "a:\n",
      "[[0 1]\n",
      " [2 3]\n",
      " [4 5]]\n",
      "\n",
      "b:\n",
      "[[1. 1. 1.]\n",
      " [1. 1. 1.]]\n",
      "\n",
      "a dot b:\n",
      "[[1. 1. 1.]\n",
      " [5. 5. 5.]\n",
      " [9. 9. 9.]]\n",
      "\n"
     ]
    }
   ],
   "source": [
    "a = np.arange(6).reshape((3, 2)) # (3*2) @ (2 *3) -> (3*3)\n",
    "b = np.ones((2, 3))\n",
    "print_obj(a, \"a\")\n",
    "print_obj(b, \"b\")\n",
    "\n",
    "print_obj(np.dot(a,b), \"a dot b\")"
   ]
  },
  {
   "cell_type": "markdown",
   "metadata": {},
   "source": [
    "# 6. Shape Manipulation"
   ]
  },
  {
   "cell_type": "code",
   "execution_count": 31,
   "metadata": {},
   "outputs": [
    {
     "name": "stdout",
     "output_type": "stream",
     "text": [
      "a:\n",
      "[[[ 0  1  2  3]\n",
      "  [ 4  5  6  7]\n",
      "  [ 8  9 10 11]]\n",
      "\n",
      " [[12 13 14 15]\n",
      "  [16 17 18 19]\n",
      "  [20 21 22 23]]]\n",
      "\n",
      "b:\n",
      "[[ 0  1  2  3]\n",
      " [ 4  5  6  7]\n",
      " [ 8  9 10 11]\n",
      " [12 13 14 15]\n",
      " [16 17 18 19]\n",
      " [20 21 22 23]]\n",
      "\n",
      "c:\n",
      "[[ 0  1  2  3]\n",
      " [ 4  5  6  7]\n",
      " [ 8  9 10 11]\n",
      " [12 13 14 15]\n",
      " [16 17 18 19]\n",
      " [20 21 22 23]]\n",
      "\n"
     ]
    }
   ],
   "source": [
    "a = np.arange(24).reshape((2, 3, 4))\n",
    "print_obj(a, \"a\")\n",
    "\n",
    "b = a.reshape((6, 4))\n",
    "print_obj(b, \"b\")\n",
    "\n",
    "c = a.reshape((6, -1)) # -1은 6으로만들고 남는 값으로 채움\n",
    "print_obj(c, \"c\")"
   ]
  },
  {
   "cell_type": "markdown",
   "metadata": {},
   "source": [
    "Quiz) \n",
    "\n",
    "a.reshape(6,4,-1)의 shape는?"
   ]
  },
  {
   "cell_type": "code",
   "execution_count": null,
   "metadata": {},
   "outputs": [],
   "source": []
  },
  {
   "cell_type": "code",
   "execution_count": 32,
   "metadata": {},
   "outputs": [
    {
     "name": "stdout",
     "output_type": "stream",
     "text": [
      "a:\n",
      "[0 1 2]\n",
      "\n",
      "a[:, None]:\n",
      "[[0]\n",
      " [1]\n",
      " [2]]\n",
      "\n"
     ]
    }
   ],
   "source": [
    "a = np.arange(3)\n",
    "print_obj(a, \"a\")\n",
    "\n",
    "print_obj(a[:, None], \"a[:, None]\")"
   ]
  },
  {
   "cell_type": "markdown",
   "metadata": {},
   "source": [
    "Quiz)\n",
    "\n",
    "np.ones((3,4))를 (3, 1, 1, 4)로 None을 이용해 만드는 방법은?"
   ]
  },
  {
   "cell_type": "code",
   "execution_count": 33,
   "metadata": {},
   "outputs": [
    {
     "data": {
      "text/plain": [
       "(3, 1, 1, 4)"
      ]
     },
     "execution_count": 33,
     "metadata": {},
     "output_type": "execute_result"
    }
   ],
   "source": [
    "a = np.ones((3,4))\n",
    "a[:,None,None].shape"
   ]
  },
  {
   "cell_type": "code",
   "execution_count": 34,
   "metadata": {},
   "outputs": [
    {
     "name": "stdout",
     "output_type": "stream",
     "text": [
      "a:\n",
      "[[1. 1.]\n",
      " [1. 1.]\n",
      " [1. 1.]]\n",
      "\n",
      "b:\n",
      "[[0. 0.]\n",
      " [0. 0.]\n",
      " [0. 0.]]\n",
      "\n"
     ]
    }
   ],
   "source": [
    "# Stack, concatenation\n",
    "a = np.ones((3,2))\n",
    "b = np.zeros((3,2))\n",
    "print_obj(a, \"a\")\n",
    "print_obj(b, \"b\")"
   ]
  },
  {
   "cell_type": "code",
   "execution_count": 35,
   "metadata": {},
   "outputs": [
    {
     "name": "stdout",
     "output_type": "stream",
     "text": [
      "a,b vstack:\n",
      "[[1. 1.]\n",
      " [1. 1.]\n",
      " [1. 1.]\n",
      " [0. 0.]\n",
      " [0. 0.]\n",
      " [0. 0.]]\n",
      "\n",
      "a,b hstack:\n",
      "[[1. 1. 0. 0.]\n",
      " [1. 1. 0. 0.]\n",
      " [1. 1. 0. 0.]]\n",
      "\n",
      "a,b,a hstack:\n",
      "[[1. 1. 0. 0. 1. 1.]\n",
      " [1. 1. 0. 0. 1. 1.]\n",
      " [1. 1. 0. 0. 1. 1.]]\n",
      "\n"
     ]
    }
   ],
   "source": [
    "print_obj(np.vstack([a, b]), \"a,b vstack\") # Vertical\n",
    "print_obj(np.hstack([a, b]), \"a,b hstack\") # Horizontal\n",
    "print_obj(np.hstack([a, b, a]), \"a,b,a hstack\") # "
   ]
  },
  {
   "cell_type": "code",
   "execution_count": 36,
   "metadata": {},
   "outputs": [
    {
     "name": "stdout",
     "output_type": "stream",
     "text": [
      "a,b concat axis=0:\n",
      "[[1. 1.]\n",
      " [1. 1.]\n",
      " [1. 1.]\n",
      " [0. 0.]\n",
      " [0. 0.]\n",
      " [0. 0.]]\n",
      "\n",
      "a,b concat axis=1:\n",
      "[[1. 1. 0. 0.]\n",
      " [1. 1. 0. 0.]\n",
      " [1. 1. 0. 0.]]\n",
      "\n"
     ]
    }
   ],
   "source": [
    "print_obj(np.concatenate([a, b], axis=0), \"a,b concat axis=0\") # Generalization of vstack\n",
    "print_obj(np.concatenate([a, b], axis=1), \"a,b concat axis=1\") # Generalization of hstack"
   ]
  },
  {
   "cell_type": "markdown",
   "metadata": {},
   "source": [
    "Quiz)\n",
    "\n",
    "(4,3,2)와 (5,4,2)를 axis = 2의 관점에서 concat 할 수 있을까?"
   ]
  },
  {
   "cell_type": "code",
   "execution_count": null,
   "metadata": {},
   "outputs": [],
   "source": []
  },
  {
   "cell_type": "code",
   "execution_count": 37,
   "metadata": {},
   "outputs": [
    {
     "name": "stdout",
     "output_type": "stream",
     "text": [
      "a:\n",
      "[[0 1]\n",
      " [2 3]\n",
      " [4 5]]\n",
      "\n",
      "a.T:\n",
      "[[0 2 4]\n",
      " [1 3 5]]\n",
      "\n"
     ]
    }
   ],
   "source": [
    "# Matrix transpose : 행렬 연산을 하기 위해서는 차원을 맞춰줄 필요가 있음\n",
    "a = np.arange(6).reshape((3, 2))\n",
    "print_obj(a, \"a\")\n",
    "\n",
    "print_obj(a.T, \"a.T\")"
   ]
  },
  {
   "cell_type": "code",
   "execution_count": 38,
   "metadata": {},
   "outputs": [
    {
     "name": "stdout",
     "output_type": "stream",
     "text": [
      "a:\n",
      "[[[ 0  1]\n",
      "  [ 2  3]\n",
      "  [ 4  5]]\n",
      "\n",
      " [[ 6  7]\n",
      "  [ 8  9]\n",
      "  [10 11]]\n",
      "\n",
      " [[12 13]\n",
      "  [14 15]\n",
      "  [16 17]]\n",
      "\n",
      " [[18 19]\n",
      "  [20 21]\n",
      "  [22 23]]]\n",
      "\n",
      "Swap axis 1 and 2:\n",
      "[[[ 0  2  4]\n",
      "  [ 1  3  5]]\n",
      "\n",
      " [[ 6  8 10]\n",
      "  [ 7  9 11]]\n",
      "\n",
      " [[12 14 16]\n",
      "  [13 15 17]]\n",
      "\n",
      " [[18 20 22]\n",
      "  [19 21 23]]]\n",
      "\n",
      "b's shape:\n",
      "(4, 2, 3)\n",
      "\n",
      "Swap axis 0 and 1:\n",
      "[[[ 0  1]\n",
      "  [ 6  7]\n",
      "  [12 13]\n",
      "  [18 19]]\n",
      "\n",
      " [[ 2  3]\n",
      "  [ 8  9]\n",
      "  [14 15]\n",
      "  [20 21]]\n",
      "\n",
      " [[ 4  5]\n",
      "  [10 11]\n",
      "  [16 17]\n",
      "  [22 23]]]\n",
      "\n",
      "c's shape:\n",
      "(3, 4, 2)\n",
      "\n"
     ]
    }
   ],
   "source": [
    "# Tensor transpose\n",
    "a = np.arange(24).reshape((4, 3, 2))\n",
    "print_obj(a, \"a\")\n",
    "\n",
    "b = np.transpose(a, [0, 2, 1])\n",
    "print_obj(b, \"Swap axis 1 and 2\")\n",
    "print_obj(b.shape, \"b's shape\")\n",
    "\n",
    "c = np.transpose(a, [1, 0, 2])\n",
    "print_obj(c, \"Swap axis 0 and 1\")\n",
    "print_obj(c.shape, \"c's shape\")"
   ]
  },
  {
   "cell_type": "markdown",
   "metadata": {},
   "source": [
    "# 7. Broadcasting"
   ]
  },
  {
   "cell_type": "code",
   "execution_count": 39,
   "metadata": {},
   "outputs": [
    {
     "name": "stdout",
     "output_type": "stream",
     "text": [
      "a:\n",
      "[0 1 2]\n",
      "\n",
      "a+b:\n",
      "[2. 3. 4.]\n",
      "\n",
      "a-b:\n",
      "[-2. -1.  0.]\n",
      "\n",
      "a*b:\n",
      "[0. 2. 4.]\n",
      "\n",
      "a/b:\n",
      "[0.  0.5 1. ]\n",
      "\n"
     ]
    }
   ],
   "source": [
    "a = np.arange(3)\n",
    "b = 2.\n",
    "print_obj(a, \"a\")\n",
    "\n",
    "print_obj(a+b, \"a+b\")\n",
    "print_obj(a-b, \"a-b\")\n",
    "print_obj(a*b, \"a*b\")\n",
    "print_obj(a/b, \"a/b\")"
   ]
  },
  {
   "cell_type": "code",
   "execution_count": 40,
   "metadata": {},
   "outputs": [
    {
     "name": "stdout",
     "output_type": "stream",
     "text": [
      "a:\n",
      "[[0 1]\n",
      " [2 3]\n",
      " [4 5]]\n",
      "\n",
      "b:\n",
      "[1 2]\n",
      "\n",
      "a+b:\n",
      "[[1 3]\n",
      " [3 5]\n",
      " [5 7]]\n",
      "\n"
     ]
    }
   ],
   "source": [
    "a = np.arange(6).reshape((3,2))\n",
    "b = np.arange(2).reshape(2) + 1\n",
    "print_obj(a, \"a\")\n",
    "print_obj(b, \"b\")\n",
    "\n",
    "print_obj(a+b, \"a+b\")"
   ]
  },
  {
   "cell_type": "markdown",
   "metadata": {},
   "source": [
    "Quiz) \n",
    "\n",
    "a = np.arange(6).reshape((3,2))와 계산 불가능한 shape와 그 이유는?\n",
    "- (2,1) Array\n",
    "- (1,2) Array\n"
   ]
  },
  {
   "cell_type": "code",
   "execution_count": 41,
   "metadata": {},
   "outputs": [
    {
     "name": "stdout",
     "output_type": "stream",
     "text": [
      "a:\n",
      "[[[ 0  1]\n",
      "  [ 2  3]\n",
      "  [ 4  5]]\n",
      "\n",
      " [[ 6  7]\n",
      "  [ 8  9]\n",
      "  [10 11]]]\n",
      "\n",
      "b:\n",
      "[[0 1]\n",
      " [2 3]\n",
      " [4 5]]\n",
      "\n",
      "a+b:\n",
      "[[[ 0  2]\n",
      "  [ 4  6]\n",
      "  [ 8 10]]\n",
      "\n",
      " [[ 6  8]\n",
      "  [10 12]\n",
      "  [14 16]]]\n",
      "\n"
     ]
    }
   ],
   "source": [
    "# Tensor and matrix\n",
    "a = np.arange(12).reshape((2,3,2))\n",
    "b = np.arange(6).reshape((3,2))\n",
    "print_obj(a, \"a\")\n",
    "print_obj(b, \"b\")\n",
    "\n",
    "print_obj(a+b, \"a+b\")"
   ]
  },
  {
   "cell_type": "markdown",
   "metadata": {},
   "source": [
    "Quiz)\n",
    "\n",
    "a + b를 Broadcasting 할 수 있는 방법은?"
   ]
  },
  {
   "cell_type": "code",
   "execution_count": null,
   "metadata": {},
   "outputs": [],
   "source": []
  }
 ],
 "metadata": {
  "kernelspec": {
   "display_name": "Python 3",
   "language": "python",
   "name": "python3"
  },
  "language_info": {
   "codemirror_mode": {
    "name": "ipython",
    "version": 3
   },
   "file_extension": ".py",
   "mimetype": "text/x-python",
   "name": "python",
   "nbconvert_exporter": "python",
   "pygments_lexer": "ipython3",
   "version": "3.8.3"
  }
 },
 "nbformat": 4,
 "nbformat_minor": 4
}
