{
 "cells": [
  {
   "cell_type": "markdown",
   "metadata": {},
   "source": [
    "# 1. if문"
   ]
  },
  {
   "cell_type": "markdown",
   "metadata": {},
   "source": [
    "## 1) if문의 뜻"
   ]
  },
  {
   "cell_type": "markdown",
   "metadata": {},
   "source": [
    "- Python에서 조건에 따라 다른 코드를 실행하고 싶을 때 사용\n",
    "- if문은 조건문과 실행문으로 구성됨\n",
    "- if 문의 조건이 참 (True)이면 실행문이 돌아가는 구조\n",
    "\n",
    "- 즉, if True : 실행\n"
   ]
  },
  {
   "cell_type": "markdown",
   "metadata": {},
   "source": [
    "## 2) if elif else"
   ]
  },
  {
   "cell_type": "markdown",
   "metadata": {},
   "source": [
    "if 문에서 여러가지 조건이 들어갈 수 있음\n",
    "\n",
    "    if 조건 1 :    \n",
    "        실행할 코드\n",
    "    elif 조건 2 :    \n",
    "        실행할 코드 \n",
    "    elif 조건 3 :    \n",
    "        실행할 코드\n",
    "    else :\n",
    "        실행할 코드\n",
    "    \n",
    "의 형태로 구성되어 있다.\n"
   ]
  },
  {
   "cell_type": "markdown",
   "metadata": {},
   "source": [
    "if 문"
   ]
  },
  {
   "cell_type": "code",
   "execution_count": 1,
   "metadata": {},
   "outputs": [
    {
     "name": "stdout",
     "output_type": "stream",
     "text": [
      "True\n"
     ]
    }
   ],
   "source": [
    "if True:\n",
    "    print('True')"
   ]
  },
  {
   "cell_type": "code",
   "execution_count": 2,
   "metadata": {},
   "outputs": [
    {
     "name": "stdout",
     "output_type": "stream",
     "text": [
      "Small\n"
     ]
    }
   ],
   "source": [
    "a = 5\n",
    "if a < 10 :\n",
    "    print('Small')"
   ]
  },
  {
   "cell_type": "markdown",
   "metadata": {},
   "source": [
    "if elif 문"
   ]
  },
  {
   "cell_type": "code",
   "execution_count": 3,
   "metadata": {},
   "outputs": [
    {
     "name": "stdout",
     "output_type": "stream",
     "text": [
      "Odd Number\n"
     ]
    }
   ],
   "source": [
    "a = 5\n",
    "\n",
    "if a % 2 == 0 :  \n",
    "    print('Even Number')\n",
    "elif a % 2 != 0 :\n",
    "    print('Odd Number')"
   ]
  },
  {
   "cell_type": "code",
   "execution_count": 4,
   "metadata": {},
   "outputs": [
    {
     "name": "stdout",
     "output_type": "stream",
     "text": [
      "Middle Number\n",
      "Middle Number\n"
     ]
    }
   ],
   "source": [
    "a = 5\n",
    "\n",
    "if a < 0 :\n",
    "    print('Negative Number')\n",
    "elif 0 <= a < 5 :\n",
    "    print('Small Number')\n",
    "elif 5 <= a < 10 : \n",
    "    print('Middle Number')\n",
    "elif a >= 10 :\n",
    "    print('Large Number')\n",
    "    \n",
    "# 사실  이 코드는 더 간단히 쓸 수 있다.\n",
    "# 반복문과 if elif의 특성상, \n",
    "# 위의 조건에 해당하지 않으면 다음 조건으로 이동한다.\n",
    "\n",
    "# 즉, 맨 위에서 0보다 작다는 것을 조건으로 걸었으니,\n",
    "# 1번 elif에서는 0보다 크거나 같다는 조건을 안 걸어도 된다.\n",
    "\n",
    "if a < 0 :\n",
    "    print('Negative Number')\n",
    "elif a < 5 :\n",
    "    print('Small Number')\n",
    "elif a < 10 : \n",
    "    print('Middle Number')\n",
    "elif 10 <= a :\n",
    "    print('Large Number')"
   ]
  },
  {
   "cell_type": "markdown",
   "metadata": {},
   "source": [
    "if else"
   ]
  },
  {
   "cell_type": "code",
   "execution_count": 5,
   "metadata": {},
   "outputs": [
    {
     "name": "stdout",
     "output_type": "stream",
     "text": [
      "Odd Number\n"
     ]
    }
   ],
   "source": [
    "a = 5\n",
    "\n",
    "if a % 2 == 0 :\n",
    "    print('Even Number')\n",
    "else : \n",
    "    print('Odd Number')"
   ]
  },
  {
   "cell_type": "markdown",
   "metadata": {},
   "source": [
    "if elif else"
   ]
  },
  {
   "cell_type": "code",
   "execution_count": 6,
   "metadata": {},
   "outputs": [
    {
     "name": "stdout",
     "output_type": "stream",
     "text": [
      "3으로 나눈 나머지가 2\n"
     ]
    }
   ],
   "source": [
    "a = 5\n",
    "\n",
    "if a % 3 == 0 :\n",
    "    print('3의 배수')\n",
    "elif a % 3 == 1 : \n",
    "    print('3으로 나눈 나머지가 1')\n",
    "else  :\n",
    "    print('3으로 나눈 나머지가 2')"
   ]
  },
  {
   "cell_type": "code",
   "execution_count": 7,
   "metadata": {},
   "outputs": [
    {
     "name": "stdout",
     "output_type": "stream",
     "text": [
      "노년\n"
     ]
    }
   ],
   "source": [
    "age = 100\n",
    "\n",
    "if age < 20 : \n",
    "    print('미성년')\n",
    "elif age < 40 : \n",
    "    print('청년')\n",
    "elif age < 60 : \n",
    "    print('중년')\n",
    "else : \n",
    "    print('노년')"
   ]
  },
  {
   "cell_type": "markdown",
   "metadata": {},
   "source": [
    "## 3) Nested if문"
   ]
  },
  {
   "cell_type": "code",
   "execution_count": 8,
   "metadata": {},
   "outputs": [
    {
     "name": "stdout",
     "output_type": "stream",
     "text": [
      "노년의 신사\n"
     ]
    }
   ],
   "source": [
    "age = 100\n",
    "gender = 'male'\n",
    "\n",
    "if age < 20 : \n",
    "    print('미성년')\n",
    "elif age < 40 : \n",
    "    print('청년')\n",
    "elif age < 60 : \n",
    "    print('중년')\n",
    "else : \n",
    "    if gender == 'male' : \n",
    "        print('노년의 신사')\n",
    "    else : \n",
    "        print('노년의 숙녀')"
   ]
  },
  {
   "cell_type": "markdown",
   "metadata": {},
   "source": [
    "# 2. for 문"
   ]
  },
  {
   "cell_type": "markdown",
   "metadata": {},
   "source": [
    "## 1) for문 뜻"
   ]
  },
  {
   "cell_type": "markdown",
   "metadata": {},
   "source": [
    "특정 객체를 이용하여 반복하는 방법\n"
   ]
  },
  {
   "cell_type": "markdown",
   "metadata": {},
   "source": [
    "## 2) for문 형식\n",
    "    for variable in variables : \n",
    "        statement\n",
    "        \n",
    "- variables는 range, 리스트, 튜플, 등이 들어갈 수 있다.\n",
    "- variables의 원소들이 하나씩 처음부터 끝까지 들어간다.\n",
    "- 그러면서 statement를 실행한다.\n",
    "    - statement는 여러 개가 들어갈 수 있다.\n",
    "    - 따라서 총 len(variables) 만큼 statement를 반복해서 실행한다.\n"
   ]
  },
  {
   "cell_type": "markdown",
   "metadata": {},
   "source": [
    "variables = range\n",
    "\n",
    "- range(a,b)는 a부터 b-1까지 숫자를 만들어 저장하는 내장 함수이다."
   ]
  },
  {
   "cell_type": "code",
   "execution_count": 9,
   "metadata": {},
   "outputs": [
    {
     "name": "stdout",
     "output_type": "stream",
     "text": [
      "1\n",
      "2\n",
      "3\n",
      "4\n"
     ]
    }
   ],
   "source": [
    "for i in range(1,5) : \n",
    "    print(i)"
   ]
  },
  {
   "cell_type": "markdown",
   "metadata": {},
   "source": [
    "variables = 리스트\n",
    "- 리스트 속 원소들이 하나씩 매칭되어 들어온다."
   ]
  },
  {
   "cell_type": "code",
   "execution_count": 10,
   "metadata": {},
   "outputs": [
    {
     "name": "stdout",
     "output_type": "stream",
     "text": [
      "두부\n",
      "계란\n",
      "딸기\n",
      "사과\n"
     ]
    }
   ],
   "source": [
    "for s in ['두부','계란','딸기','사과'] : \n",
    "    print(s)"
   ]
  },
  {
   "cell_type": "code",
   "execution_count": 11,
   "metadata": {},
   "outputs": [
    {
     "name": "stdout",
     "output_type": "stream",
     "text": [
      "두부\n",
      "계란\n",
      "딸기\n",
      "사과\n"
     ]
    }
   ],
   "source": [
    "s = '참기름'\n",
    "for s in ['두부','계란','딸기','사과'] : \n",
    "    print(s)\n",
    "\n",
    "# 반복문에서 사용되는 s도 최종적으로는 하나의 변수로 저장되어 있다.\n",
    "# 즉, 원래 만들었던 s는 덮어씌워진다."
   ]
  },
  {
   "cell_type": "markdown",
   "metadata": {},
   "source": [
    "variables = 문자열\n",
    "- 문자열 속 문자 하나하나가 들어온다."
   ]
  },
  {
   "cell_type": "code",
   "execution_count": 12,
   "metadata": {},
   "outputs": [
    {
     "name": "stdout",
     "output_type": "stream",
     "text": [
      "H\n",
      "e\n",
      "l\n",
      "l\n",
      "o\n",
      " \n",
      "P\n",
      "y\n",
      "t\n",
      "h\n",
      "o\n",
      "n\n",
      "!\n"
     ]
    }
   ],
   "source": [
    "for i in 'Hello Python!' :\n",
    "    print(i)"
   ]
  },
  {
   "cell_type": "markdown",
   "metadata": {},
   "source": [
    "variables = 딕셔너리\n",
    "- 딕셔너리.keys()\n",
    "- 딕셔너리.values()\n",
    "- 딕셔너리.items()"
   ]
  },
  {
   "cell_type": "code",
   "execution_count": 13,
   "metadata": {},
   "outputs": [
    {
     "name": "stdout",
     "output_type": "stream",
     "text": [
      "두부\n",
      "딸기\n",
      "사과\n"
     ]
    }
   ],
   "source": [
    "errand = {'두부' : 2000, '딸기' : 10000, '사과' : 20000}\n",
    "\n",
    "for key in errand.keys() : \n",
    "    print(key)"
   ]
  },
  {
   "cell_type": "code",
   "execution_count": 14,
   "metadata": {},
   "outputs": [
    {
     "name": "stdout",
     "output_type": "stream",
     "text": [
      "2000\n",
      "10000\n",
      "20000\n"
     ]
    }
   ],
   "source": [
    "for value in errand.values() : \n",
    "    print(value)"
   ]
  },
  {
   "cell_type": "code",
   "execution_count": 15,
   "metadata": {},
   "outputs": [
    {
     "data": {
      "text/plain": [
       "dict_items([('두부', 2000), ('딸기', 10000), ('사과', 20000)])"
      ]
     },
     "execution_count": 15,
     "metadata": {},
     "output_type": "execute_result"
    }
   ],
   "source": [
    "errand.items()"
   ]
  },
  {
   "cell_type": "code",
   "execution_count": 16,
   "metadata": {},
   "outputs": [
    {
     "name": "stdout",
     "output_type": "stream",
     "text": [
      "두부 2000\n",
      "딸기 10000\n",
      "사과 20000\n"
     ]
    }
   ],
   "source": [
    "for key, value in errand.items() : \n",
    "    print(key, value)"
   ]
  },
  {
   "cell_type": "markdown",
   "metadata": {},
   "source": [
    "variables = 리스트 속 리스트"
   ]
  },
  {
   "cell_type": "code",
   "execution_count": 17,
   "metadata": {},
   "outputs": [
    {
     "name": "stdout",
     "output_type": "stream",
     "text": [
      "[1, 2, 3]\n",
      "[4, 5, 6]\n",
      "[7, 8, 9]\n"
     ]
    }
   ],
   "source": [
    "list_of_list = [[1,2,3], [4,5,6], [7,8,9]]\n",
    "\n",
    "for x in list_of_list : \n",
    "    print(x)"
   ]
  },
  {
   "cell_type": "code",
   "execution_count": 18,
   "metadata": {},
   "outputs": [
    {
     "name": "stdout",
     "output_type": "stream",
     "text": [
      "1 2 3\n",
      "4 5 6\n",
      "7 8 9\n"
     ]
    }
   ],
   "source": [
    "for x in list_of_list : \n",
    "    print(x[0], x[1], x[2])"
   ]
  },
  {
   "cell_type": "code",
   "execution_count": 19,
   "metadata": {},
   "outputs": [
    {
     "name": "stdout",
     "output_type": "stream",
     "text": [
      "1 2 3\n",
      "4 5 6\n",
      "7 8 9\n"
     ]
    }
   ],
   "source": [
    "for a,b,c, in list_of_list : \n",
    "    print(a,b,c)"
   ]
  },
  {
   "cell_type": "code",
   "execution_count": 20,
   "metadata": {},
   "outputs": [
    {
     "name": "stdout",
     "output_type": "stream",
     "text": [
      "1\n",
      "4\n",
      "7\n"
     ]
    }
   ],
   "source": [
    "for a,_,_ in list_of_list : \n",
    "    print(a)"
   ]
  },
  {
   "cell_type": "markdown",
   "metadata": {},
   "source": [
    "## 3) 함께 사용되는 Method"
   ]
  },
  {
   "cell_type": "markdown",
   "metadata": {},
   "source": [
    "Enumerate"
   ]
  },
  {
   "cell_type": "code",
   "execution_count": 21,
   "metadata": {},
   "outputs": [
    {
     "name": "stdout",
     "output_type": "stream",
     "text": [
      "0 두부\n",
      "1 딸기\n",
      "2 사과\n"
     ]
    }
   ],
   "source": [
    "for num, key in enumerate(errand.keys()) : \n",
    "    print(num, key)"
   ]
  },
  {
   "cell_type": "code",
   "execution_count": 22,
   "metadata": {},
   "outputs": [
    {
     "name": "stdout",
     "output_type": "stream",
     "text": [
      "1 두부\n",
      "2 딸기\n",
      "3 사과\n"
     ]
    }
   ],
   "source": [
    "for num, key in enumerate(errand.keys(), 1) : \n",
    "    print(num, key)"
   ]
  },
  {
   "cell_type": "markdown",
   "metadata": {},
   "source": [
    "List Comprehension"
   ]
  },
  {
   "cell_type": "code",
   "execution_count": 23,
   "metadata": {},
   "outputs": [
    {
     "data": {
      "text/plain": [
       "[0, 1, 2, 3, 4, 5, 6, 7, 8, 9, 10, 11, 12, 13, 14, 15, 16, 17, 18, 19]"
      ]
     },
     "execution_count": 23,
     "metadata": {},
     "output_type": "execute_result"
    }
   ],
   "source": [
    "answer =  []\n",
    "for i in range(20) : \n",
    "    answer.append(i)\n",
    "answer"
   ]
  },
  {
   "cell_type": "code",
   "execution_count": 24,
   "metadata": {},
   "outputs": [
    {
     "data": {
      "text/plain": [
       "[0, 1, 2, 3, 4, 5, 6, 7, 8, 9, 10, 11, 12, 13, 14, 15, 16, 17, 18, 19]"
      ]
     },
     "execution_count": 24,
     "metadata": {},
     "output_type": "execute_result"
    }
   ],
   "source": [
    "answer = [i for i in range(20)]\n",
    "answer\n",
    "\n",
    "# [list속에 저장될 값 for variable in variables]"
   ]
  },
  {
   "cell_type": "code",
   "execution_count": 25,
   "metadata": {},
   "outputs": [
    {
     "data": {
      "text/plain": [
       "[1, 3, 5, 7, 9, 11, 13, 15, 17, 19]"
      ]
     },
     "execution_count": 25,
     "metadata": {},
     "output_type": "execute_result"
    }
   ],
   "source": [
    "odd_number = [i for i in range(20) if i % 2 != 0]\n",
    "odd_number\n",
    "\n",
    "# [list속에 저장될 값 for variable in variables if 조건]"
   ]
  },
  {
   "cell_type": "code",
   "execution_count": 26,
   "metadata": {
    "scrolled": true
   },
   "outputs": [
    {
     "data": {
      "text/plain": [
       "['Odd',\n",
       " 'Even',\n",
       " 'Odd',\n",
       " 'Even',\n",
       " 'Odd',\n",
       " 'Even',\n",
       " 'Odd',\n",
       " 'Even',\n",
       " 'Odd',\n",
       " 'Even',\n",
       " 'Odd',\n",
       " 'Even',\n",
       " 'Odd',\n",
       " 'Even',\n",
       " 'Odd',\n",
       " 'Even',\n",
       " 'Odd',\n",
       " 'Even',\n",
       " 'Odd']"
      ]
     },
     "execution_count": 26,
     "metadata": {},
     "output_type": "execute_result"
    }
   ],
   "source": [
    "numbers = [\"Odd\" if i % 2 != 0  else \"Even\" for i in range(1, 20)]\n",
    "numbers"
   ]
  },
  {
   "cell_type": "code",
   "execution_count": 27,
   "metadata": {},
   "outputs": [
    {
     "data": {
      "text/plain": [
       "[('꽝', '철수'),\n",
       " ('꽝', '영희'),\n",
       " ('꽝', '민수'),\n",
       " ('당첨', '철수'),\n",
       " ('당첨', '영희'),\n",
       " ('당첨', '민수')]"
      ]
     },
     "execution_count": 27,
     "metadata": {},
     "output_type": "execute_result"
    }
   ],
   "source": [
    "targets = ['꽝','당첨']\n",
    "names = ['철수','영희','민수']\n",
    "\n",
    "[(target, name) for target in targets for name in names]"
   ]
  },
  {
   "cell_type": "code",
   "execution_count": 28,
   "metadata": {},
   "outputs": [
    {
     "data": {
      "text/plain": [
       "[1, 2, 3, 4, 5, 6, 7, 8, 9]"
      ]
     },
     "execution_count": 28,
     "metadata": {},
     "output_type": "execute_result"
    }
   ],
   "source": [
    "list_of_list = [[1,2,3], [4,5,6], [7,8,9]]\n",
    "\n",
    "flatten = [element for row in list_of_list for element in row]\n",
    "flatten"
   ]
  },
  {
   "cell_type": "markdown",
   "metadata": {},
   "source": [
    "Dict Comprehension"
   ]
  },
  {
   "cell_type": "code",
   "execution_count": 29,
   "metadata": {},
   "outputs": [
    {
     "data": {
      "text/plain": [
       "{0: 0,\n",
       " 1: 20,\n",
       " 2: 40,\n",
       " 3: 60,\n",
       " 4: 80,\n",
       " 5: 100,\n",
       " 6: 120,\n",
       " 7: 140,\n",
       " 8: 160,\n",
       " 9: 180,\n",
       " 10: 200,\n",
       " 11: 220,\n",
       " 12: 240,\n",
       " 13: 260,\n",
       " 14: 280,\n",
       " 15: 300,\n",
       " 16: 320,\n",
       " 17: 340,\n",
       " 18: 360,\n",
       " 19: 380}"
      ]
     },
     "execution_count": 29,
     "metadata": {},
     "output_type": "execute_result"
    }
   ],
   "source": [
    "{i : i * 20 for i in range(20)}"
   ]
  },
  {
   "cell_type": "markdown",
   "metadata": {},
   "source": [
    "zip"
   ]
  },
  {
   "cell_type": "code",
   "execution_count": 30,
   "metadata": {},
   "outputs": [
    {
     "name": "stdout",
     "output_type": "stream",
     "text": [
      "80\n"
     ]
    }
   ],
   "source": [
    "midterms = [20,30,40,50,60]\n",
    "finals = [50,40,20,10]\n",
    "handouts = [5,10,5,10]\n",
    "totals = []\n",
    "\n",
    "for midterm, final, handout in zip(midterms, finals, handouts) : \n",
    "    total = midterm + final + handout\n",
    "    totals.append(total)\n",
    "print(max(totals))"
   ]
  },
  {
   "cell_type": "markdown",
   "metadata": {},
   "source": [
    "## 4) Nested Loop"
   ]
  },
  {
   "cell_type": "markdown",
   "metadata": {},
   "source": [
    "반복문 속에 반복문을 넣을 수 있다."
   ]
  },
  {
   "cell_type": "code",
   "execution_count": 31,
   "metadata": {},
   "outputs": [
    {
     "name": "stdout",
     "output_type": "stream",
     "text": [
      "2 단\n",
      "2 * 1 = 2\n",
      "2 * 2 = 4\n",
      "2 * 3 = 6\n",
      "2 * 4 = 8\n",
      "2 * 5 = 10\n",
      "2 * 6 = 12\n",
      "2 * 7 = 14\n",
      "2 * 8 = 16\n",
      "2 * 9 = 18\n",
      "====================\n",
      "3 단\n",
      "3 * 1 = 3\n",
      "3 * 2 = 6\n",
      "3 * 3 = 9\n",
      "3 * 4 = 12\n",
      "3 * 5 = 15\n",
      "3 * 6 = 18\n",
      "3 * 7 = 21\n",
      "3 * 8 = 24\n",
      "3 * 9 = 27\n",
      "====================\n",
      "4 단\n",
      "4 * 1 = 4\n",
      "4 * 2 = 8\n",
      "4 * 3 = 12\n",
      "4 * 4 = 16\n",
      "4 * 5 = 20\n",
      "4 * 6 = 24\n",
      "4 * 7 = 28\n",
      "4 * 8 = 32\n",
      "4 * 9 = 36\n",
      "====================\n",
      "5 단\n",
      "5 * 1 = 5\n",
      "5 * 2 = 10\n",
      "5 * 3 = 15\n",
      "5 * 4 = 20\n",
      "5 * 5 = 25\n",
      "5 * 6 = 30\n",
      "5 * 7 = 35\n",
      "5 * 8 = 40\n",
      "5 * 9 = 45\n",
      "====================\n",
      "6 단\n",
      "6 * 1 = 6\n",
      "6 * 2 = 12\n",
      "6 * 3 = 18\n",
      "6 * 4 = 24\n",
      "6 * 5 = 30\n",
      "6 * 6 = 36\n",
      "6 * 7 = 42\n",
      "6 * 8 = 48\n",
      "6 * 9 = 54\n",
      "====================\n",
      "7 단\n",
      "7 * 1 = 7\n",
      "7 * 2 = 14\n",
      "7 * 3 = 21\n",
      "7 * 4 = 28\n",
      "7 * 5 = 35\n",
      "7 * 6 = 42\n",
      "7 * 7 = 49\n",
      "7 * 8 = 56\n",
      "7 * 9 = 63\n",
      "====================\n",
      "8 단\n",
      "8 * 1 = 8\n",
      "8 * 2 = 16\n",
      "8 * 3 = 24\n",
      "8 * 4 = 32\n",
      "8 * 5 = 40\n",
      "8 * 6 = 48\n",
      "8 * 7 = 56\n",
      "8 * 8 = 64\n",
      "8 * 9 = 72\n",
      "====================\n",
      "9 단\n",
      "9 * 1 = 9\n",
      "9 * 2 = 18\n",
      "9 * 3 = 27\n",
      "9 * 4 = 36\n",
      "9 * 5 = 45\n",
      "9 * 6 = 54\n",
      "9 * 7 = 63\n",
      "9 * 8 = 72\n",
      "9 * 9 = 81\n",
      "====================\n"
     ]
    }
   ],
   "source": [
    "for i in range(2,10) : \n",
    "    print(i, '단')\n",
    "    for j in range(1,10) : \n",
    "        print(i, '*', j, '=', i*j)\n",
    "    print('=='*10)"
   ]
  },
  {
   "cell_type": "markdown",
   "metadata": {},
   "source": [
    "formating으로 표현"
   ]
  },
  {
   "cell_type": "code",
   "execution_count": 32,
   "metadata": {},
   "outputs": [
    {
     "name": "stdout",
     "output_type": "stream",
     "text": [
      "2 단\n",
      "2 * 1 = 2\n",
      "2 * 2 = 4\n",
      "2 * 3 = 6\n",
      "2 * 4 = 8\n",
      "2 * 5 = 10\n",
      "2 * 6 = 12\n",
      "2 * 7 = 14\n",
      "2 * 8 = 16\n",
      "2 * 9 = 18\n",
      "====================\n",
      "3 단\n",
      "3 * 1 = 3\n",
      "3 * 2 = 6\n",
      "3 * 3 = 9\n",
      "3 * 4 = 12\n",
      "3 * 5 = 15\n",
      "3 * 6 = 18\n",
      "3 * 7 = 21\n",
      "3 * 8 = 24\n",
      "3 * 9 = 27\n",
      "====================\n",
      "4 단\n",
      "4 * 1 = 4\n",
      "4 * 2 = 8\n",
      "4 * 3 = 12\n",
      "4 * 4 = 16\n",
      "4 * 5 = 20\n",
      "4 * 6 = 24\n",
      "4 * 7 = 28\n",
      "4 * 8 = 32\n",
      "4 * 9 = 36\n",
      "====================\n",
      "5 단\n",
      "5 * 1 = 5\n",
      "5 * 2 = 10\n",
      "5 * 3 = 15\n",
      "5 * 4 = 20\n",
      "5 * 5 = 25\n",
      "5 * 6 = 30\n",
      "5 * 7 = 35\n",
      "5 * 8 = 40\n",
      "5 * 9 = 45\n",
      "====================\n",
      "6 단\n",
      "6 * 1 = 6\n",
      "6 * 2 = 12\n",
      "6 * 3 = 18\n",
      "6 * 4 = 24\n",
      "6 * 5 = 30\n",
      "6 * 6 = 36\n",
      "6 * 7 = 42\n",
      "6 * 8 = 48\n",
      "6 * 9 = 54\n",
      "====================\n",
      "7 단\n",
      "7 * 1 = 7\n",
      "7 * 2 = 14\n",
      "7 * 3 = 21\n",
      "7 * 4 = 28\n",
      "7 * 5 = 35\n",
      "7 * 6 = 42\n",
      "7 * 7 = 49\n",
      "7 * 8 = 56\n",
      "7 * 9 = 63\n",
      "====================\n",
      "8 단\n",
      "8 * 1 = 8\n",
      "8 * 2 = 16\n",
      "8 * 3 = 24\n",
      "8 * 4 = 32\n",
      "8 * 5 = 40\n",
      "8 * 6 = 48\n",
      "8 * 7 = 56\n",
      "8 * 8 = 64\n",
      "8 * 9 = 72\n",
      "====================\n",
      "9 단\n",
      "9 * 1 = 9\n",
      "9 * 2 = 18\n",
      "9 * 3 = 27\n",
      "9 * 4 = 36\n",
      "9 * 5 = 45\n",
      "9 * 6 = 54\n",
      "9 * 7 = 63\n",
      "9 * 8 = 72\n",
      "9 * 9 = 81\n",
      "====================\n"
     ]
    }
   ],
   "source": [
    "for i in range(2,10) : \n",
    "    print(i, '단')\n",
    "    for j in range(1,10) : \n",
    "        print(f'{i} * {j} = {i*j}')\n",
    "    print('=='*10)"
   ]
  },
  {
   "cell_type": "markdown",
   "metadata": {},
   "source": [
    "# 3. While문"
   ]
  },
  {
   "cell_type": "markdown",
   "metadata": {},
   "source": [
    "## 1) While문 뜻\n",
    "\n",
    "- 조건이 True일 동안 반복하는 방법\n",
    "\n",
    "- 무한 반복에 빠지지 않도록 주의해야 함.\n"
   ]
  },
  {
   "cell_type": "markdown",
   "metadata": {},
   "source": [
    "## 2) While문 형식\n",
    "\n",
    "- 형식\n",
    "    while 조건 : \n",
    "        statement\n",
    "\n",
    "- 조건이 True인 동안, statement는 계속해서 시행된다.\n"
   ]
  },
  {
   "cell_type": "code",
   "execution_count": 33,
   "metadata": {},
   "outputs": [
    {
     "name": "stdout",
     "output_type": "stream",
     "text": [
      "0 0\n",
      "1 0\n",
      "2 0\n",
      "3 0\n",
      "4 0\n"
     ]
    }
   ],
   "source": [
    "total = 0\n",
    "i = 0\n",
    "\n",
    "while  i < 5 :\n",
    "    print(i, total)\n",
    "    i += 1"
   ]
  },
  {
   "cell_type": "markdown",
   "metadata": {},
   "source": [
    "## 3) 루프 제어문"
   ]
  },
  {
   "cell_type": "markdown",
   "metadata": {},
   "source": [
    "break"
   ]
  },
  {
   "cell_type": "code",
   "execution_count": 34,
   "metadata": {},
   "outputs": [
    {
     "name": "stdout",
     "output_type": "stream",
     "text": [
      "2\n",
      "4\n",
      "8\n"
     ]
    }
   ],
   "source": [
    "i = 2\n",
    "\n",
    "while True : \n",
    "    print(i)\n",
    "    i *= 2\n",
    "    if i > 10 :\n",
    "        break;"
   ]
  },
  {
   "cell_type": "markdown",
   "metadata": {},
   "source": [
    "continue"
   ]
  },
  {
   "cell_type": "code",
   "execution_count": 35,
   "metadata": {},
   "outputs": [
    {
     "name": "stdout",
     "output_type": "stream",
     "text": [
      "100\n",
      "300\n",
      "500\n",
      "700\n",
      "900\n",
      "1100\n",
      "1300\n",
      "1500\n",
      "1700\n",
      "1900\n"
     ]
    }
   ],
   "source": [
    "for i in range(100,2000,100) : \n",
    "    if i % 200 == 0 :\n",
    "        continue;\n",
    "    print(i)"
   ]
  },
  {
   "cell_type": "markdown",
   "metadata": {},
   "source": [
    "# 연습문제"
   ]
  },
  {
   "cell_type": "markdown",
   "metadata": {},
   "source": [
    "## 1) 어떤 조건이 쓸모 없을까요?\n",
    "\n",
    "    if x < 2 :\n",
    "        print('Below 2')\n",
    "    elif x >= 2 :\n",
    "        print('Two or more')\n",
    "    else :\n",
    "        print('Something else')\n",
    "\n",
    "1번 : elif 조건\n",
    "2번 : else 조건"
   ]
  },
  {
   "cell_type": "code",
   "execution_count": null,
   "metadata": {},
   "outputs": [],
   "source": []
  },
  {
   "cell_type": "markdown",
   "metadata": {},
   "source": [
    "    if x < 2 :\n",
    "        print('Below 2')\n",
    "    elif x < 20 :\n",
    "        print('Below 20')\n",
    "    elif x < 10 :\n",
    "        print('Below 10')\n",
    "    else :\n",
    "        print('Something else')\n",
    "        \n",
    "- 1번 : elif x < 20\n",
    "- 2번 : elif < 10\n",
    "- 3번 : else"
   ]
  },
  {
   "cell_type": "code",
   "execution_count": null,
   "metadata": {},
   "outputs": [],
   "source": []
  },
  {
   "cell_type": "markdown",
   "metadata": {},
   "source": [
    "## 문제 2 ) 자리수를 출력하는 코드 만들기\n",
    "\n",
    "- example)\n",
    "    - 2 : \"1자리 수 입니다\"\n",
    "    - 20 : \"2자리 수 입니다\"\n",
    "    - 200 : \"3자리 수 입니다\"\n",
    "    - 20,000 : \"5자리 수 입니다\""
   ]
  },
  {
   "cell_type": "code",
   "execution_count": 36,
   "metadata": {},
   "outputs": [
    {
     "name": "stdout",
     "output_type": "stream",
     "text": [
      "정수를 입력해 주세요\n"
     ]
    },
    {
     "ename": "ValueError",
     "evalue": "invalid literal for int() with base 10: ''",
     "output_type": "error",
     "traceback": [
      "\u001b[1;31m---------------------------------------------------------------------------\u001b[0m",
      "\u001b[1;31mValueError\u001b[0m                                Traceback (most recent call last)",
      "\u001b[1;32m<ipython-input-36-8e82194255f4>\u001b[0m in \u001b[0;36m<module>\u001b[1;34m\u001b[0m\n\u001b[1;32m----> 1\u001b[1;33m \u001b[0mx\u001b[0m \u001b[1;33m=\u001b[0m \u001b[0mint\u001b[0m\u001b[1;33m(\u001b[0m\u001b[0minput\u001b[0m\u001b[1;33m(\u001b[0m\u001b[1;34m\"정수를 입력해 주세요\"\u001b[0m\u001b[1;33m)\u001b[0m\u001b[1;33m)\u001b[0m\u001b[1;33m\u001b[0m\u001b[1;33m\u001b[0m\u001b[0m\n\u001b[0m",
      "\u001b[1;31mValueError\u001b[0m: invalid literal for int() with base 10: ''"
     ]
    }
   ],
   "source": [
    "x = int(input(\"정수를 입력해 주세요\"))"
   ]
  },
  {
   "cell_type": "markdown",
   "metadata": {},
   "source": [
    "## 문제 3 ) 인센티브 계산기를 만드려고 합니다.\n",
    "\n",
    "- Sales가 주어졌을 때,\n",
    "\n",
    "- Sales < 50 만원 이면 Incentive가 없다.\n",
    "- 50만원 ≤ Sales ≤ 500만원 이면 (Sales의 10%)를 Incentive로 지급한다.\n",
    "- Sales > 500만원 이면 (70만원 + Sales 중 500만원 초과된 액수의 8%)를 Incentive로 지급한다.  "
   ]
  },
  {
   "cell_type": "code",
   "execution_count": null,
   "metadata": {},
   "outputs": [],
   "source": [
    "sales = int(input())"
   ]
  },
  {
   "cell_type": "markdown",
   "metadata": {},
   "source": [
    "## 문제 4 ) 코드를 이해하고, 목적을 설명하세요"
   ]
  },
  {
   "cell_type": "markdown",
   "metadata": {},
   "source": [
    "    x = [-3,-8,-6,-4,-5,-1]\n",
    "    y = x[0]\n",
    "    for i in x :\n",
    "        if y < i : y = i"
   ]
  },
  {
   "cell_type": "code",
   "execution_count": null,
   "metadata": {},
   "outputs": [],
   "source": []
  },
  {
   "cell_type": "markdown",
   "metadata": {},
   "source": [
    "## 문제 5 ) 예치금 계산기"
   ]
  },
  {
   "cell_type": "markdown",
   "metadata": {},
   "source": [
    "- 언제 원리금이 2배가 되는지 궁금합니다.\n",
    "\n",
    "- 초기 예금액은 1,000,000원 입니다.\n",
    "- 연 이자율 2%일 때, 몇년이 걸릴까요?"
   ]
  },
  {
   "cell_type": "code",
   "execution_count": null,
   "metadata": {},
   "outputs": [],
   "source": []
  },
  {
   "cell_type": "markdown",
   "metadata": {},
   "source": [
    "## 문제 6 ) 3의 배수의 합은?\n",
    "\n",
    "- While문을 이용해 1부터 1000 사이의 3의 배수의 합을 구하세요"
   ]
  },
  {
   "cell_type": "code",
   "execution_count": null,
   "metadata": {},
   "outputs": [],
   "source": []
  },
  {
   "cell_type": "markdown",
   "metadata": {},
   "source": [
    "## 문제 7) 크리스마스 트리 만들기"
   ]
  },
  {
   "cell_type": "markdown",
   "metadata": {},
   "source": [
    "- 크리스마스 트리의 반쪽을 먼저 만듭시다."
   ]
  },
  {
   "cell_type": "markdown",
   "metadata": {},
   "source": [
    "    *\n",
    "    **\n",
    "    ***\n",
    "    ****\n",
    "    *****\n",
    "    \n",
    "위 모양이 나오도록 반복문을 사용해 만들어주세요"
   ]
  },
  {
   "cell_type": "code",
   "execution_count": null,
   "metadata": {},
   "outputs": [],
   "source": []
  },
  {
   "cell_type": "markdown",
   "metadata": {},
   "source": [
    "- 나머지 반쪽도 만들어 봅시다."
   ]
  },
  {
   "cell_type": "markdown",
   "metadata": {},
   "source": [
    "         *\n",
    "        **\n",
    "       ***\n",
    "      ****\n",
    "     *****\n",
    "위 모양이 되도록 반복문을 사용해 만들어주세요"
   ]
  },
  {
   "cell_type": "code",
   "execution_count": null,
   "metadata": {},
   "outputs": [],
   "source": []
  },
  {
   "cell_type": "markdown",
   "metadata": {},
   "source": [
    "- 이제 합쳐서 만들어봅시다.\n",
    "         **\n",
    "        ****\n",
    "       ******\n",
    "      ********\n",
    "     **********\n",
    "     \n",
    "위 모양이 되도록 반복문을 사용해 만들어주세요"
   ]
  },
  {
   "cell_type": "code",
   "execution_count": null,
   "metadata": {},
   "outputs": [],
   "source": []
  },
  {
   "cell_type": "markdown",
   "metadata": {},
   "source": [
    "## 문제 8 ) 학급의 평균점수는?\n",
    "\n",
    "- 한 반의 평균 시험 성적이 [70, 60, 55, 75, 95, 90, 80, 80, 85, 100] 이다.\n",
    "- 이 반의 평균 시험 성적을 for문을 사용해 계산해주세요"
   ]
  },
  {
   "cell_type": "code",
   "execution_count": null,
   "metadata": {},
   "outputs": [],
   "source": []
  },
  {
   "cell_type": "markdown",
   "metadata": {},
   "source": [
    "## 문제 9 ) 7의 배수의 수는?\n",
    "\n",
    "- list comprehension을 사용해보세요\n",
    "- 1부터 10000사이의 7의 배수의 수를 구해주세요"
   ]
  },
  {
   "cell_type": "code",
   "execution_count": null,
   "metadata": {},
   "outputs": [],
   "source": []
  },
  {
   "cell_type": "markdown",
   "metadata": {},
   "source": [
    "## 문제 10 ) 번호 메기기\n",
    "\n",
    "- lst 라는 변수에 ['a','b','c']가 담겨 있다.\n",
    "- dictionary comprehension과 enumerate를 사용해서\n",
    "- {0 : 'a', 1 : 'b', 2 : 'c'}로 바꿔주세요"
   ]
  },
  {
   "cell_type": "code",
   "execution_count": null,
   "metadata": {},
   "outputs": [],
   "source": []
  }
 ],
 "metadata": {
  "kernelspec": {
   "display_name": "Python 3",
   "language": "python",
   "name": "python3"
  },
  "language_info": {
   "codemirror_mode": {
    "name": "ipython",
    "version": 3
   },
   "file_extension": ".py",
   "mimetype": "text/x-python",
   "name": "python",
   "nbconvert_exporter": "python",
   "pygments_lexer": "ipython3",
   "version": "3.8.3"
  }
 },
 "nbformat": 4,
 "nbformat_minor": 4
}
