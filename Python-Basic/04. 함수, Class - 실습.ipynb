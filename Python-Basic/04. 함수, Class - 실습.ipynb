{
 "cells": [
  {
   "cell_type": "markdown",
   "metadata": {},
   "source": [
    "# 1. 함수"
   ]
  },
  {
   "cell_type": "markdown",
   "metadata": {},
   "source": [
    "## 1) 함수의 뜻"
   ]
  },
  {
   "cell_type": "markdown",
   "metadata": {},
   "source": [
    "- 함수 : 특정한 작업을 도와주는 코드 조각\n",
    "    - 자주 사용되는 코드를 작성해두고, 필요할 때 마다 사용하기 위한 목적\n",
    "\n",
    "- 함수를 호출할 때는 함수명 뒤에 ()를 붙여준다.\n",
    "\n",
    "- 함수에 따라서 실행에 필요한 값을 넘겨주어야 하는데, 이를 “인자”라고 함\n",
    "\n",
    "- example) int(x) 를 하면, x를 인자로 받아 정수로 바꿔주는 역할을 함\n"
   ]
  },
  {
   "cell_type": "markdown",
   "metadata": {},
   "source": [
    "## 2) 함수 만들기"
   ]
  },
  {
   "cell_type": "markdown",
   "metadata": {},
   "source": [
    "- 다음과 같이 만들면 된다.\n",
    "    def 함수이름(인자1,인자2, …) :\n",
    "        statement\n",
    "        return 값\n",
    "\n",
    "- 함수를 (인자를 넣어) 실행하면, 값을 반환함\n",
    "\n",
    "- 인자는 없어도 되고, 여러 개 일경우 “,”로 구분하여 넣어준다.\n",
    "\n",
    "- return은 없어도 되고, 없을 경우엔 아무것도 반환하지 않는다.\n",
    "\n",
    "- return은 여러 개를 반환할 수 있고, “,”로 구분하여 반환한다.\n"
   ]
  },
  {
   "cell_type": "markdown",
   "metadata": {},
   "source": [
    "인자 X return X"
   ]
  },
  {
   "cell_type": "code",
   "execution_count": 1,
   "metadata": {},
   "outputs": [
    {
     "name": "stdout",
     "output_type": "stream",
     "text": [
      "Hello\n"
     ]
    }
   ],
   "source": [
    "def print_hello() : \n",
    "    print('Hello')\n",
    "print_hello()"
   ]
  },
  {
   "cell_type": "markdown",
   "metadata": {},
   "source": [
    "인자 O return X"
   ]
  },
  {
   "cell_type": "code",
   "execution_count": 2,
   "metadata": {},
   "outputs": [
    {
     "name": "stdout",
     "output_type": "stream",
     "text": [
      "Hello 철수\n"
     ]
    }
   ],
   "source": [
    "def say_hello(name) : \n",
    "    print(f'Hello {name}')\n",
    "say_hello('철수')"
   ]
  },
  {
   "cell_type": "markdown",
   "metadata": {},
   "source": [
    "인자 X return O"
   ]
  },
  {
   "cell_type": "code",
   "execution_count": 3,
   "metadata": {},
   "outputs": [
    {
     "name": "stdout",
     "output_type": "stream",
     "text": [
      "Hello\n"
     ]
    }
   ],
   "source": [
    "def return_hello() : \n",
    "    return 'Hello'\n",
    "x = return_hello()\n",
    "print(x)"
   ]
  },
  {
   "cell_type": "markdown",
   "metadata": {},
   "source": [
    "인자 O return O"
   ]
  },
  {
   "cell_type": "code",
   "execution_count": 4,
   "metadata": {},
   "outputs": [
    {
     "name": "stdout",
     "output_type": "stream",
     "text": [
      "Hello 철수\n"
     ]
    }
   ],
   "source": [
    "def return_hello_name(name) : \n",
    "    return f\"Hello {name}\"\n",
    "greet = return_hello_name('철수')\n",
    "print(greet)"
   ]
  },
  {
   "cell_type": "markdown",
   "metadata": {},
   "source": [
    "return이 없으면, 변수에 저장해도 None이 됨"
   ]
  },
  {
   "cell_type": "code",
   "execution_count": 5,
   "metadata": {},
   "outputs": [
    {
     "name": "stdout",
     "output_type": "stream",
     "text": [
      "Hello 철수\n"
     ]
    }
   ],
   "source": [
    "x = say_hello('철수')\n",
    "x"
   ]
  },
  {
   "cell_type": "markdown",
   "metadata": {},
   "source": [
    "인자가 있음에도 입력하지 않으면 Error를 뱉음"
   ]
  },
  {
   "cell_type": "code",
   "execution_count": 6,
   "metadata": {},
   "outputs": [
    {
     "ename": "TypeError",
     "evalue": "say_hello() missing 1 required positional argument: 'name'",
     "output_type": "error",
     "traceback": [
      "\u001b[1;31m---------------------------------------------------------------------------\u001b[0m",
      "\u001b[1;31mTypeError\u001b[0m                                 Traceback (most recent call last)",
      "\u001b[1;32m<ipython-input-6-844082559f90>\u001b[0m in \u001b[0;36m<module>\u001b[1;34m\u001b[0m\n\u001b[1;32m----> 1\u001b[1;33m \u001b[0mx\u001b[0m \u001b[1;33m=\u001b[0m \u001b[0msay_hello\u001b[0m\u001b[1;33m(\u001b[0m\u001b[1;33m)\u001b[0m\u001b[1;33m\u001b[0m\u001b[1;33m\u001b[0m\u001b[0m\n\u001b[0m\u001b[0;32m      2\u001b[0m \u001b[0mx\u001b[0m\u001b[1;33m\u001b[0m\u001b[1;33m\u001b[0m\u001b[0m\n",
      "\u001b[1;31mTypeError\u001b[0m: say_hello() missing 1 required positional argument: 'name'"
     ]
    }
   ],
   "source": [
    "x = say_hello()\n",
    "x"
   ]
  },
  {
   "cell_type": "markdown",
   "metadata": {},
   "source": [
    "인자가 들어오지 않았을 때를 대비해, 기본값을 지정할 수 있음"
   ]
  },
  {
   "cell_type": "code",
   "execution_count": null,
   "metadata": {},
   "outputs": [],
   "source": [
    "def say_hello(name = '영희') : \n",
    "    print(f\"Hello {name}\")\n",
    "    \n",
    "say_hello(name = '철수')\n",
    "say_hello()"
   ]
  },
  {
   "cell_type": "markdown",
   "metadata": {},
   "source": [
    "하나의 함수에 여러개의 인자를 넣을 수 있음"
   ]
  },
  {
   "cell_type": "code",
   "execution_count": null,
   "metadata": {},
   "outputs": [],
   "source": [
    "def greetings(name, punctuation) : \n",
    "    return f\"Hello {name} {punctuation}\"\n",
    "\n",
    "greet = greetings(\"철수\", \"!\")\n",
    "print(greet)"
   ]
  },
  {
   "cell_type": "markdown",
   "metadata": {},
   "source": [
    "하나의 함수에 여러개의 반환값이 있을 수 있음"
   ]
  },
  {
   "cell_type": "code",
   "execution_count": null,
   "metadata": {},
   "outputs": [],
   "source": [
    "def circle(r) : \n",
    "    round = 2 * 3 * r\n",
    "    area = 3 * r ** 2\n",
    "    return round, area"
   ]
  },
  {
   "cell_type": "markdown",
   "metadata": {},
   "source": [
    "이를 개별 변수로 받을 수 있음"
   ]
  },
  {
   "cell_type": "code",
   "execution_count": 7,
   "metadata": {},
   "outputs": [
    {
     "ename": "NameError",
     "evalue": "name 'circle' is not defined",
     "output_type": "error",
     "traceback": [
      "\u001b[1;31m---------------------------------------------------------------------------\u001b[0m",
      "\u001b[1;31mNameError\u001b[0m                                 Traceback (most recent call last)",
      "\u001b[1;32m<ipython-input-7-e702852cbb45>\u001b[0m in \u001b[0;36m<module>\u001b[1;34m\u001b[0m\n\u001b[1;32m----> 1\u001b[1;33m \u001b[0mr\u001b[0m\u001b[1;33m,\u001b[0m \u001b[0ma\u001b[0m \u001b[1;33m=\u001b[0m \u001b[0mcircle\u001b[0m\u001b[1;33m(\u001b[0m\u001b[1;36m3\u001b[0m\u001b[1;33m)\u001b[0m\u001b[1;33m\u001b[0m\u001b[1;33m\u001b[0m\u001b[0m\n\u001b[0m\u001b[0;32m      2\u001b[0m \u001b[0mprint\u001b[0m\u001b[1;33m(\u001b[0m\u001b[1;34mf'Round : {r}\\nArea : {a}'\u001b[0m\u001b[1;33m)\u001b[0m\u001b[1;33m\u001b[0m\u001b[1;33m\u001b[0m\u001b[0m\n",
      "\u001b[1;31mNameError\u001b[0m: name 'circle' is not defined"
     ]
    }
   ],
   "source": [
    "r, a = circle(3)\n",
    "print(f'Round : {r}\\nArea : {a}')"
   ]
  },
  {
   "cell_type": "markdown",
   "metadata": {},
   "source": [
    "한 번에 다 받을 수 있음"
   ]
  },
  {
   "cell_type": "code",
   "execution_count": null,
   "metadata": {},
   "outputs": [],
   "source": [
    "c = circle(3)\n",
    "c"
   ]
  },
  {
   "cell_type": "markdown",
   "metadata": {},
   "source": [
    "하나만 선택해서 받을 수 있음"
   ]
  },
  {
   "cell_type": "code",
   "execution_count": 8,
   "metadata": {},
   "outputs": [
    {
     "ename": "NameError",
     "evalue": "name 'circle' is not defined",
     "output_type": "error",
     "traceback": [
      "\u001b[1;31m---------------------------------------------------------------------------\u001b[0m",
      "\u001b[1;31mNameError\u001b[0m                                 Traceback (most recent call last)",
      "\u001b[1;32m<ipython-input-8-78be600de22e>\u001b[0m in \u001b[0;36m<module>\u001b[1;34m\u001b[0m\n\u001b[1;32m----> 1\u001b[1;33m \u001b[0mr\u001b[0m\u001b[1;33m,\u001b[0m \u001b[0m_\u001b[0m \u001b[1;33m=\u001b[0m \u001b[0mcircle\u001b[0m\u001b[1;33m(\u001b[0m\u001b[1;36m4\u001b[0m\u001b[1;33m)\u001b[0m\u001b[1;33m\u001b[0m\u001b[1;33m\u001b[0m\u001b[0m\n\u001b[0m\u001b[0;32m      2\u001b[0m \u001b[0mr\u001b[0m\u001b[1;33m,\u001b[0m \u001b[0ma\u001b[0m \u001b[1;31m# a는 업데이트 되지 않음\u001b[0m\u001b[1;33m\u001b[0m\u001b[1;33m\u001b[0m\u001b[0m\n",
      "\u001b[1;31mNameError\u001b[0m: name 'circle' is not defined"
     ]
    }
   ],
   "source": [
    "r, _ = circle(4)\n",
    "r, a # a는 업데이트 되지 않음"
   ]
  },
  {
   "cell_type": "markdown",
   "metadata": {},
   "source": [
    "## 3) 이름없는 함수 : lambda "
   ]
  },
  {
   "cell_type": "markdown",
   "metadata": {},
   "source": [
    "- 나중에 정말 많이 사용함\n",
    "\n",
    "- 일시적으로 사용하고 버리는 함수\n",
    "- 필요한 곳에서 한 번만 사용\n",
    "\n",
    "- lambda에는 return이 없기에, 반환을 만드는 statement만 담김\n",
    "\n",
    "- example)\n",
    "    \n",
    "        func = lambda x,y : x + y\n",
    "        func(1,2) => 3\n",
    "\n"
   ]
  },
  {
   "cell_type": "code",
   "execution_count": 9,
   "metadata": {},
   "outputs": [
    {
     "data": {
      "text/plain": [
       "3"
      ]
     },
     "execution_count": 9,
     "metadata": {},
     "output_type": "execute_result"
    }
   ],
   "source": [
    "add2 = lambda x,y : x + y\n",
    "add2(1,2)"
   ]
  },
  {
   "cell_type": "code",
   "execution_count": 10,
   "metadata": {},
   "outputs": [
    {
     "data": {
      "text/plain": [
       "2"
      ]
     },
     "execution_count": 10,
     "metadata": {},
     "output_type": "execute_result"
    }
   ],
   "source": [
    "multi2 = lambda x,y : x * y\n",
    "multi2(1,2)"
   ]
  },
  {
   "cell_type": "markdown",
   "metadata": {},
   "source": [
    "map() 과 함께 사용할수도 있다.\n",
    "- 여기에서는, 리스트 속 원소들을 함수에 적용시켜주는 역할을 함"
   ]
  },
  {
   "cell_type": "code",
   "execution_count": 11,
   "metadata": {},
   "outputs": [
    {
     "data": {
      "text/plain": [
       "[10, 20, 30, 40, 50]"
      ]
     },
     "execution_count": 11,
     "metadata": {},
     "output_type": "execute_result"
    }
   ],
   "source": [
    "list(map(lambda x : x * 10, [1,2,3,4,5]))"
   ]
  },
  {
   "cell_type": "code",
   "execution_count": 12,
   "metadata": {},
   "outputs": [
    {
     "data": {
      "text/plain": [
       "[14, 13, 12, 16, 11]"
      ]
     },
     "execution_count": 12,
     "metadata": {},
     "output_type": "execute_result"
    }
   ],
   "source": [
    "list(map(lambda x : x + 10, [4,3,2,6,1]))"
   ]
  },
  {
   "cell_type": "markdown",
   "metadata": {},
   "source": [
    "## 4) 함수의 특징"
   ]
  },
  {
   "cell_type": "markdown",
   "metadata": {},
   "source": [
    "- 함수 밖에서 정의된 변수는 함수 내부에서 사용할 수 있지만\n",
    "\n",
    "- 함수 내부에서 정의된 변수는 함수 외부에서 사용할 수 없다.\n",
    "\n",
    "- 함수 내부와 외부에 변수 이름이 같더라도, 다른 값을 지니고 있을 수 있다.\n",
    "    - 함수 내부에서는 그 환경에서만 잠깐 사용하고 삭제될 예정이기 때문\n"
   ]
  },
  {
   "cell_type": "code",
   "execution_count": 13,
   "metadata": {},
   "outputs": [
    {
     "data": {
      "text/plain": [
       "4"
      ]
     },
     "execution_count": 13,
     "metadata": {},
     "output_type": "execute_result"
    }
   ],
   "source": [
    "a = 1\n",
    "\n",
    "def add(x) : \n",
    "    b = x + 2\n",
    "    return a + b\n",
    "\n",
    "add(a)"
   ]
  },
  {
   "cell_type": "markdown",
   "metadata": {},
   "source": [
    "함수 내부에서 만들어진 변수는 밖에서 부를 수 없다."
   ]
  },
  {
   "cell_type": "code",
   "execution_count": 14,
   "metadata": {},
   "outputs": [
    {
     "ename": "NameError",
     "evalue": "name 'b' is not defined",
     "output_type": "error",
     "traceback": [
      "\u001b[1;31m---------------------------------------------------------------------------\u001b[0m",
      "\u001b[1;31mNameError\u001b[0m                                 Traceback (most recent call last)",
      "\u001b[1;32m<ipython-input-14-89e6c98d9288>\u001b[0m in \u001b[0;36m<module>\u001b[1;34m\u001b[0m\n\u001b[1;32m----> 1\u001b[1;33m \u001b[0mb\u001b[0m\u001b[1;33m\u001b[0m\u001b[1;33m\u001b[0m\u001b[0m\n\u001b[0m",
      "\u001b[1;31mNameError\u001b[0m: name 'b' is not defined"
     ]
    }
   ],
   "source": [
    "b"
   ]
  },
  {
   "cell_type": "markdown",
   "metadata": {},
   "source": [
    "- 함수 내부와 외부에 변수 이름이 같더라도, 다른 값을 지니고 있을 수 있다.\n",
    "\n",
    "- 함수 내부에서는 그 환경에서만 잠깐 사용하고 삭제될 예정이기 때문"
   ]
  },
  {
   "cell_type": "code",
   "execution_count": 15,
   "metadata": {},
   "outputs": [
    {
     "name": "stdout",
     "output_type": "stream",
     "text": [
      "함수 내부의 a =  20\n",
      "함수 외부의 a =  10\n"
     ]
    }
   ],
   "source": [
    "a = 10\n",
    "\n",
    "def add2(a) : \n",
    "    print('함수 내부의 a = ', a)\n",
    "    a2 = a* 10\n",
    "    return a + a2\n",
    "\n",
    "add2(20)\n",
    "print('함수 외부의 a = ', a)"
   ]
  },
  {
   "cell_type": "markdown",
   "metadata": {},
   "source": [
    "- args에도 여러가지 종류가 있다.\n",
    "---\n",
    "- Positional Argument\n",
    "    - 기존의 함수는 인자를 모두 지정해서 넣어주었다.\n",
    "    - 이는 인자의 \"순서\"를 지정하는 것으로, 해당 순서에는 해당 인자가 와야한다.\n",
    "    - 즉, 인자의 위치가 지정되어 있는 인자이다.\n",
    "---\n",
    "- Keyword Argument\n",
    "    - 순서에 상관없이 이름으로 해당 인자를 지정해주는 방법이다.\n",
    "    - Positional Argument는 위치를 기반으로 한다면, Keyword는 이름으로 한다.\n",
    "    - 혼용할 수 있다."
   ]
  },
  {
   "cell_type": "markdown",
   "metadata": {},
   "source": [
    "positinoal argument\n",
    "- 매번 이런식으로 인자의 수에 맞는 함수를 만들 수는 없다."
   ]
  },
  {
   "cell_type": "code",
   "execution_count": 16,
   "metadata": {},
   "outputs": [
    {
     "name": "stdout",
     "output_type": "stream",
     "text": [
      "3\n",
      "6\n",
      "10\n"
     ]
    }
   ],
   "source": [
    "def sum2(a,b) : \n",
    "    return a + b\n",
    "\n",
    "def sum3(a,b,c) :\n",
    "    return a + b + c\n",
    "\n",
    "def sum4(a,b,c,d) : \n",
    "    return a + b + c + d\n",
    "\n",
    "print(sum2(1,2))\n",
    "print(sum3(1,2,3))\n",
    "print(sum4(1,2,3,4))"
   ]
  },
  {
   "cell_type": "markdown",
   "metadata": {},
   "source": [
    "keyword argument"
   ]
  },
  {
   "cell_type": "code",
   "execution_count": 17,
   "metadata": {},
   "outputs": [
    {
     "data": {
      "text/plain": [
       "3"
      ]
     },
     "execution_count": 17,
     "metadata": {},
     "output_type": "execute_result"
    }
   ],
   "source": [
    "sum2(b = 2, a = 1)"
   ]
  },
  {
   "cell_type": "markdown",
   "metadata": {},
   "source": [
    "- *args\n",
    "    -  언제나 인자가 고정된 수 일수는 없다.\n",
    "    - 가변적인 인자를 받아 함수로 처리해줄 수 있다."
   ]
  },
  {
   "cell_type": "markdown",
   "metadata": {},
   "source": [
    "이렇게 인자의 수가 안맞으면 에러가 남"
   ]
  },
  {
   "cell_type": "code",
   "execution_count": 18,
   "metadata": {},
   "outputs": [
    {
     "ename": "TypeError",
     "evalue": "sum2() takes 2 positional arguments but 4 were given",
     "output_type": "error",
     "traceback": [
      "\u001b[1;31m---------------------------------------------------------------------------\u001b[0m",
      "\u001b[1;31mTypeError\u001b[0m                                 Traceback (most recent call last)",
      "\u001b[1;32m<ipython-input-18-79c962fd7fc3>\u001b[0m in \u001b[0;36m<module>\u001b[1;34m\u001b[0m\n\u001b[1;32m----> 1\u001b[1;33m \u001b[0msum2\u001b[0m\u001b[1;33m(\u001b[0m\u001b[1;36m1\u001b[0m\u001b[1;33m,\u001b[0m\u001b[1;36m2\u001b[0m\u001b[1;33m,\u001b[0m\u001b[1;36m3\u001b[0m\u001b[1;33m,\u001b[0m\u001b[1;36m4\u001b[0m\u001b[1;33m)\u001b[0m\u001b[1;33m\u001b[0m\u001b[1;33m\u001b[0m\u001b[0m\n\u001b[0m",
      "\u001b[1;31mTypeError\u001b[0m: sum2() takes 2 positional arguments but 4 were given"
     ]
    }
   ],
   "source": [
    "sum2(1,2,3,4)"
   ]
  },
  {
   "cell_type": "markdown",
   "metadata": {},
   "source": [
    "인자의 수에 관계 없이 모든 수를 더하기 위해서는 아래처럼 하면 됨"
   ]
  },
  {
   "cell_type": "code",
   "execution_count": 19,
   "metadata": {},
   "outputs": [],
   "source": [
    "def sum_all(*args) : \n",
    "    total = 0\n",
    "    for arg in args : \n",
    "        total += arg\n",
    "    return total"
   ]
  },
  {
   "cell_type": "code",
   "execution_count": 20,
   "metadata": {},
   "outputs": [
    {
     "name": "stdout",
     "output_type": "stream",
     "text": [
      "3\n",
      "6\n",
      "10\n"
     ]
    }
   ],
   "source": [
    "print(sum_all(1,2))\n",
    "print(sum_all(1,2,3))\n",
    "print(sum_all(1,2,3,4))"
   ]
  },
  {
   "cell_type": "markdown",
   "metadata": {},
   "source": [
    "쉽게 생각해서, \n",
    "\n",
    "- args라는 인자에는 굉장히 많은 값들이 들어갈 수 있고,\n",
    "\n",
    "- args는 함수 내부에선 tuple로 저장되어 있다."
   ]
  },
  {
   "cell_type": "code",
   "execution_count": 21,
   "metadata": {},
   "outputs": [],
   "source": [
    "def sum_all(*args) : \n",
    "    print(args)\n",
    "    total = 0\n",
    "    for arg in args : \n",
    "        total += arg\n",
    "    return total"
   ]
  },
  {
   "cell_type": "code",
   "execution_count": 22,
   "metadata": {},
   "outputs": [
    {
     "name": "stdout",
     "output_type": "stream",
     "text": [
      "(1, 2)\n",
      "3\n",
      "(1, 2, 3)\n",
      "6\n",
      "(1, 2, 3, 4)\n",
      "10\n"
     ]
    }
   ],
   "source": [
    "print(sum_all(1,2))\n",
    "print(sum_all(1,2,3))\n",
    "print(sum_all(1,2,3,4))"
   ]
  },
  {
   "cell_type": "markdown",
   "metadata": {},
   "source": [
    "이 특성과 list comprehension을 이용하면 코드를 더 줄일 수 있다."
   ]
  },
  {
   "cell_type": "code",
   "execution_count": 23,
   "metadata": {},
   "outputs": [
    {
     "name": "stdout",
     "output_type": "stream",
     "text": [
      "3\n",
      "6\n",
      "10\n"
     ]
    }
   ],
   "source": [
    "def sum_all(*args) :\n",
    "    return sum(args)\n",
    "\n",
    "print(sum_all(1,2))\n",
    "print(sum_all(1,2,3))\n",
    "print(sum_all(1,2,3,4))"
   ]
  },
  {
   "cell_type": "markdown",
   "metadata": {},
   "source": [
    "## 5) 연습문제"
   ]
  },
  {
   "cell_type": "markdown",
   "metadata": {},
   "source": [
    "자연수인지 홀수인지를 분별하는 함수 is_odd()를 만드세요"
   ]
  },
  {
   "cell_type": "code",
   "execution_count": null,
   "metadata": {},
   "outputs": [],
   "source": []
  },
  {
   "cell_type": "markdown",
   "metadata": {},
   "source": [
    "# 2. Class"
   ]
  },
  {
   "cell_type": "markdown",
   "metadata": {},
   "source": [
    "## 1) Class의 뜻"
   ]
  },
  {
   "cell_type": "markdown",
   "metadata": {},
   "source": [
    "- Class는 계산기로 예를 들어보겠습니다.\n",
    "\n",
    "- 우리가 앞선 함수에서  add, sub, mul, div 등 다양한 함수를 만들 수 있게 됐습니다.\n",
    "\n",
    "- 하지만 4가지 함수는 서로 결과를 공유하지 않기때문에 생기는 단점이 있습니다.\n",
    "\n",
    "- 계산기라고 생각한다면, 계산 결과가 누적되어야 하는데, 누적되지 않는 현상입니다.\n",
    "\n",
    "    - 1 + 2* 4 를 계산하려면, mul(2,4)의 결과를 add(1,결과) 이런 식으로 해야 합니다.\n",
    "\n",
    "- Class를 이용하면, 위 4가지를 하나로 묶어 결과를 공유하는 방식으로 구성할 수 있습니단.\n",
    "\n",
    "- 유행하는 Deep Learning Framework인 PyTorch는 \u000b",
    "Class 형태로 코드를 구현하기 때문에, Class에 대해서 이해할 필요가 있습니다."
   ]
  },
  {
   "cell_type": "markdown",
   "metadata": {},
   "source": [
    "## 2) Class 만들기"
   ]
  },
  {
   "cell_type": "markdown",
   "metadata": {},
   "source": [
    "- 기존 함수의 단점\n",
    "    - 함수는 내부에서 실행한 결과를 밖에서 확인할 수 없다.\n",
    "    - 내부의 결과를 밖으로 내보내는 global method를 사용할 수 있지만\n",
    "    - 이를 사용하면 데이터 컨트롤이 더 어려워진다.\n",
    "    - 그렇다고 계산하는 함수를 더 만들기도 아깝다."
   ]
  },
  {
   "cell_type": "code",
   "execution_count": 24,
   "metadata": {},
   "outputs": [],
   "source": [
    "def add(a,b) : \n",
    "    return a + b\n",
    "\n",
    "def sub(a,b) : \n",
    "    return a - b"
   ]
  },
  {
   "cell_type": "code",
   "execution_count": 25,
   "metadata": {},
   "outputs": [],
   "source": [
    "def calculate() :\n",
    "    first = add(1,2)\n",
    "    second = sub(first, 1)\n",
    "    return second"
   ]
  },
  {
   "cell_type": "code",
   "execution_count": 26,
   "metadata": {},
   "outputs": [
    {
     "data": {
      "text/plain": [
       "2"
      ]
     },
     "execution_count": 26,
     "metadata": {},
     "output_type": "execute_result"
    }
   ],
   "source": [
    "calculate()"
   ]
  },
  {
   "cell_type": "markdown",
   "metadata": {},
   "source": [
    "- 간단한 사칙연산 계산기 만들기\n",
    "\n",
    "- 1. 처음에 2개의 숫자를 받아줍니다.\n",
    "- 2. 사칙연산 함수 4개를 만들어줍니다.\n",
    "- 3. 중간에 숫자를 바꿀수 있도록 설정도 해줍니다.\n"
   ]
  },
  {
   "cell_type": "code",
   "execution_count": 27,
   "metadata": {},
   "outputs": [],
   "source": [
    "class SimpleCalculator() : \n",
    "    def __init__(self, num) : \n",
    "        self.num = num\n",
    "        self.result = num\n",
    "    \n",
    "    def add(self, num) : \n",
    "        self.result += num\n",
    "        \n",
    "    def sub(self, num) : \n",
    "        self.result -= num\n",
    "\n",
    "    def mul(self, num) : \n",
    "        self.result *= num\n",
    "\n",
    "    def div(self, num) : \n",
    "        self.result /= num\n"
   ]
  },
  {
   "cell_type": "markdown",
   "metadata": {},
   "source": [
    "- 여기서, Class를 할당받은 변수를 \"객체\"라고 부릅니다.\n",
    "    - Class는 동일해야 합니다.\n",
    "    - 객체는 Class를 할당받았기 때문에, 내부에서 어떤 작업을 해도 다른 객체의 영향을 받지 않습니다.\n",
    "    - ex ) 계산기 1번의 입력이 계산기 2번에 영향을 주지 않습니다."
   ]
  },
  {
   "cell_type": "code",
   "execution_count": 28,
   "metadata": {},
   "outputs": [
    {
     "data": {
      "text/plain": [
       "5"
      ]
     },
     "execution_count": 28,
     "metadata": {},
     "output_type": "execute_result"
    }
   ],
   "source": [
    "cal = SimpleCalculator(5)\n",
    "cal.result"
   ]
  },
  {
   "cell_type": "code",
   "execution_count": 29,
   "metadata": {},
   "outputs": [
    {
     "data": {
      "text/plain": [
       "7"
      ]
     },
     "execution_count": 29,
     "metadata": {},
     "output_type": "execute_result"
    }
   ],
   "source": [
    "cal.add(2)\n",
    "cal.result"
   ]
  },
  {
   "cell_type": "code",
   "execution_count": 30,
   "metadata": {},
   "outputs": [
    {
     "data": {
      "text/plain": [
       "5"
      ]
     },
     "execution_count": 30,
     "metadata": {},
     "output_type": "execute_result"
    }
   ],
   "source": [
    "cal.sub(2)\n",
    "cal.result"
   ]
  },
  {
   "cell_type": "code",
   "execution_count": 31,
   "metadata": {},
   "outputs": [
    {
     "data": {
      "text/plain": [
       "10"
      ]
     },
     "execution_count": 31,
     "metadata": {},
     "output_type": "execute_result"
    }
   ],
   "source": [
    "cal.mul(2)\n",
    "cal.result"
   ]
  },
  {
   "cell_type": "code",
   "execution_count": 32,
   "metadata": {},
   "outputs": [
    {
     "data": {
      "text/plain": [
       "5.0"
      ]
     },
     "execution_count": 32,
     "metadata": {},
     "output_type": "execute_result"
    }
   ],
   "source": [
    "cal.div(2)\n",
    "cal.result"
   ]
  },
  {
   "cell_type": "markdown",
   "metadata": {},
   "source": [
    "# 3. 모듈"
   ]
  },
  {
   "cell_type": "markdown",
   "metadata": {},
   "source": [
    "## 1) 모듈의 뜻"
   ]
  },
  {
   "cell_type": "markdown",
   "metadata": {},
   "source": [
    "- 파이썬 파일은 .py 확장자를 붙임\n",
    "\n",
    "- 하나의 파이썬 파일을 “모듈＂이라고 부름\n"
   ]
  },
  {
   "cell_type": "markdown",
   "metadata": {},
   "source": [
    "## 2) 모듈 만들기"
   ]
  },
  {
   "cell_type": "markdown",
   "metadata": {},
   "source": [
    "- 모듈 내부에 다양한 함수가 들어갈 수 있다.\n",
    "\n",
    "- Jupyter Notebook 에서는 %%writefile 파일명.py 의 매직 커맨드로 저장할 수 있다.\n"
   ]
  },
  {
   "cell_type": "code",
   "execution_count": 33,
   "metadata": {},
   "outputs": [
    {
     "name": "stdout",
     "output_type": "stream",
     "text": [
      "Overwriting maths.py\n"
     ]
    }
   ],
   "source": [
    "%%writefile maths.py\n",
    "\n",
    "def add2(a,b) : \n",
    "    return a + b\n",
    "\n",
    "def sub2(a,b) : \n",
    "    return a - b\n",
    "\n",
    "def mul2(a,b) : \n",
    "    return a *b\n",
    "\n",
    "def div2(a,b) : \n",
    "    return  a / b"
   ]
  },
  {
   "cell_type": "markdown",
   "metadata": {},
   "source": [
    "## 3) 모듈 불러오기\n",
    "\n",
    "- 외부에 저장된 모듈은 import를 이용해 불러올 수 있다.\n",
    "\n",
    "- import를 통해 모듈과 모듈 속 함수들을 사용할 수 있다."
   ]
  },
  {
   "cell_type": "code",
   "execution_count": 34,
   "metadata": {},
   "outputs": [
    {
     "data": {
      "text/plain": [
       "3"
      ]
     },
     "execution_count": 34,
     "metadata": {},
     "output_type": "execute_result"
    }
   ],
   "source": [
    "import maths\n",
    "\n",
    "maths.add2(1,2)"
   ]
  },
  {
   "cell_type": "code",
   "execution_count": 35,
   "metadata": {},
   "outputs": [
    {
     "data": {
      "text/plain": [
       "-1"
      ]
     },
     "execution_count": 35,
     "metadata": {},
     "output_type": "execute_result"
    }
   ],
   "source": [
    "maths.sub2(1,2)"
   ]
  },
  {
   "cell_type": "code",
   "execution_count": 36,
   "metadata": {},
   "outputs": [
    {
     "data": {
      "text/plain": [
       "2"
      ]
     },
     "execution_count": 36,
     "metadata": {},
     "output_type": "execute_result"
    }
   ],
   "source": [
    "maths.mul2(1,2)"
   ]
  },
  {
   "cell_type": "code",
   "execution_count": 37,
   "metadata": {},
   "outputs": [
    {
     "data": {
      "text/plain": [
       "0.5"
      ]
     },
     "execution_count": 37,
     "metadata": {},
     "output_type": "execute_result"
    }
   ],
   "source": [
    "maths.div2(1,2)"
   ]
  },
  {
   "cell_type": "markdown",
   "metadata": {},
   "source": [
    "- 함수를 as를 사용해 약칭으로 불러올 수 있다."
   ]
  },
  {
   "cell_type": "code",
   "execution_count": 38,
   "metadata": {},
   "outputs": [
    {
     "data": {
      "text/plain": [
       "3"
      ]
     },
     "execution_count": 38,
     "metadata": {},
     "output_type": "execute_result"
    }
   ],
   "source": [
    "import maths as m\n",
    "\n",
    "m.add2(1,2)"
   ]
  },
  {
   "cell_type": "markdown",
   "metadata": {},
   "source": [
    "- from ... import … 을 이용해 특정 함수만 가져올 수 있다."
   ]
  },
  {
   "cell_type": "code",
   "execution_count": 39,
   "metadata": {},
   "outputs": [],
   "source": [
    "from maths import add2"
   ]
  },
  {
   "cell_type": "code",
   "execution_count": 40,
   "metadata": {},
   "outputs": [
    {
     "data": {
      "text/plain": [
       "3"
      ]
     },
     "execution_count": 40,
     "metadata": {},
     "output_type": "execute_result"
    }
   ],
   "source": [
    "add2(1,2)"
   ]
  },
  {
   "cell_type": "markdown",
   "metadata": {},
   "source": [
    "- from ... import * 을 이용하면 이름으로 모두 불러올 수 있다."
   ]
  },
  {
   "cell_type": "code",
   "execution_count": 41,
   "metadata": {},
   "outputs": [],
   "source": [
    "from maths import *"
   ]
  },
  {
   "cell_type": "code",
   "execution_count": 42,
   "metadata": {},
   "outputs": [
    {
     "data": {
      "text/plain": [
       "3"
      ]
     },
     "execution_count": 42,
     "metadata": {},
     "output_type": "execute_result"
    }
   ],
   "source": [
    "add2(1,2)"
   ]
  },
  {
   "cell_type": "code",
   "execution_count": 43,
   "metadata": {},
   "outputs": [
    {
     "data": {
      "text/plain": [
       "-1"
      ]
     },
     "execution_count": 43,
     "metadata": {},
     "output_type": "execute_result"
    }
   ],
   "source": [
    "sub2(1,2)"
   ]
  },
  {
   "cell_type": "code",
   "execution_count": 44,
   "metadata": {},
   "outputs": [
    {
     "data": {
      "text/plain": [
       "2"
      ]
     },
     "execution_count": 44,
     "metadata": {},
     "output_type": "execute_result"
    }
   ],
   "source": [
    "mul2(1,2)"
   ]
  },
  {
   "cell_type": "code",
   "execution_count": null,
   "metadata": {},
   "outputs": [],
   "source": []
  },
  {
   "cell_type": "markdown",
   "metadata": {},
   "source": [
    "# 4. 연습문제"
   ]
  },
  {
   "cell_type": "markdown",
   "metadata": {},
   "source": [
    "## 1) 다음 실행 결과의 이유를 설명하시오"
   ]
  },
  {
   "cell_type": "code",
   "execution_count": 45,
   "metadata": {},
   "outputs": [
    {
     "name": "stdout",
     "output_type": "stream",
     "text": [
      "5\n",
      "0\n"
     ]
    }
   ],
   "source": [
    "b = 0\n",
    "def f():\n",
    "    a = 1\n",
    "    def g(a,b) :\n",
    "        a = 2\n",
    "        b = 3\n",
    "        print(a+b)\n",
    "    g(3,4)\n",
    "    print(a*b)\n",
    "f()"
   ]
  },
  {
   "cell_type": "markdown",
   "metadata": {},
   "source": [
    "## 2) 다음 함수를 만드시오\n",
    "- 함수의 이름은 divmod이다.\n",
    "- 인자는 2개를 받는다\n",
    "- 앞에 인자를 뒤의 인자로 나누었을때의 몫과 나머지를 반환하시오\n",
    "\n",
    "- example)\n",
    "        divmod(1,2) -> (0,1)"
   ]
  },
  {
   "cell_type": "markdown",
   "metadata": {},
   "source": [
    "## 3) 다음과 같은 그림을 그리시오\n",
    "- plt.plot(x,y) 는 x와 y의 원소 위치를 기반으로, 매칭되는 그림을 그려준다.\n",
    "        x = [1,2,3]\n",
    "        y = [1,2,3]\n",
    "        plt.plot(x,y) => y=x의 그림을 그려줌\n",
    "        \n",
    "- lambda 함수를 이용해서 y를 만들어 다음 그림을 그려보시오\n",
    "- x는 -20부터 20까지"
   ]
  },
  {
   "cell_type": "code",
   "execution_count": 46,
   "metadata": {},
   "outputs": [],
   "source": [
    "from math import exp\n",
    "import matplotlib.pyplot as plt\n",
    "sigmoid = lambda x : 1 / (1 + exp(-x))\n",
    "x = range(-20,21)"
   ]
  },
  {
   "cell_type": "code",
   "execution_count": 50,
   "metadata": {},
   "outputs": [
    {
     "data": {
      "text/plain": [
       "[<matplotlib.lines.Line2D at 0x10bc0efba30>]"
      ]
     },
     "execution_count": 50,
     "metadata": {},
     "output_type": "execute_result"
    },
    {
     "data": {
      "image/png": "[encoded data removed]",
      "text/plain": [
       "<Figure size 432x288 with 1 Axes>"
      ]
     },
     "metadata": {
      "needs_background": "light"
     },
     "output_type": "display_data"
    }
   ],
   "source": []
  },
  {
   "cell_type": "markdown",
   "metadata": {},
   "source": [
    "## 4) 다음 함수를 만들어주세요\n",
    "\n",
    "들어온 모든 수의 평균을 구하는 함수 mean()을 만들어주세요"
   ]
  },
  {
   "cell_type": "code",
   "execution_count": null,
   "metadata": {},
   "outputs": [],
   "source": []
  },
  {
   "cell_type": "markdown",
   "metadata": {},
   "source": [
    "## 5) tank Class를 만들어보려고 합니다.\n",
    "1. Tank라는 객체(Object)를 생성하는 클래스를 만들어보세요. 해당 클래스는 아래와 같은 기능이 있어야 합니다.\n",
    "\n",
    "  1.   처음 클래스가 생성될 때, \"탱크가 생성되었습니다.\" 라는 메시지가 출력됩니다.\n",
    "  2.   탱크는 총 5발의 포탄을 가지고 생성됩니다.\n",
    "  3.   탱크는 (0,0) 좌표에서 생성됩니다.\n",
    "  2.   shoot이란 메소드를 실행하면 포탄 1발을 소모하며, \"탱크가 포를 쏘았습니다. (남은 포탄 : x)\" 라는 메시지가 출력됩니다. x는 남은 포탄의 수 입니다.\n",
    "      1. 남은 포탄이 없는 경우, shoot 메소드를 실행하면 \"포탄이 부족합니다.\" 라는 메시지를 출력합니다.\n",
    "  1.   reload라는 메소드를 실행하면, 포탄이 5발이 되며, \"포탄을 장전했습니다. (남은 포탄 : 5)\" 라는 메시지가 출력됩니다.\n",
    "  3.   move_x 라는 메소드에 정수 값을 넣어 실행하면,  탱크의 좌표 x 값이 정수 값 만큼 증가하며, \"탱크가 이동하였습니다. (현재 좌표 : (x , y))\" 라는 메시지가 출력됩니다. \n",
    "  4.   move_y 라는 메소드에 정수 값을 넣어 실행하면,  탱크의 좌표 y 값이 정수 값 만큼 증가하며, \"탱크가 이동하였습니다. (현재 좌표 : (x, y))\" 라는 메시지가 출력됩니다.\n",
    "  1.   Tank 클래스로 생성한 객체에 my_tank.cannon 이란 속성값을 입력하면, 포탄의 수가 출력됩니다.\n"
   ]
  },
  {
   "cell_type": "code",
   "execution_count": null,
   "metadata": {},
   "outputs": [],
   "source": []
  }
 ],
 "metadata": {
  "kernelspec": {
   "display_name": "Python 3",
   "language": "python",
   "name": "python3"
  },
  "language_info": {
   "codemirror_mode": {
    "name": "ipython",
    "version": 3
   },
   "file_extension": ".py",
   "mimetype": "text/x-python",
   "name": "python",
   "nbconvert_exporter": "python",
   "pygments_lexer": "ipython3",
   "version": "3.8.3"
  }
 },
 "nbformat": 4,
 "nbformat_minor": 4
}
