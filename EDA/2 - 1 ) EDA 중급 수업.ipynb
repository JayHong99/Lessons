{
 "cells": [
  {
   "cell_type": "markdown",
   "metadata": {
    "id": "1xl7ZmHZ43sU"
   },
   "source": [
    "## 1. 데이터 탐색의 필요성\n",
    "\n",
    "### Principle 1: 비교 \n",
    "특정 가설에 대한 증거는 언제나 다른 가설에 대해 상대적으로 판단\n",
    "“Compared to What?”\n",
    "\n",
    "<img src=\"https://bookdown.org/rdpeng/exdata/images/principles-unnamed-chunk-2-1.png\" width=50% align=left>\n",
    "<img src=\"https://bookdown.org/rdpeng/exdata/images/principles-unnamed-chunk-3-1.png\" width=50%>\n",
    "\n",
    "### Principle 2: 인과관계\n",
    "- 주어진 문제에 대해 어떤 인과관계를 유추할 수 있는가?\n",
    "\n",
    "<img src=\"https://bookdown.org/rdpeng/exdata/images/principles-unnamed-chunk-5-1.png\">\n",
    "\n",
    "### Principle 3: 다변량 데이터\n",
    "- 두 개 이상의 변수 간의 관계를 함께 고려하는가? \n",
    "<img src=\"https://bookdown.org/rdpeng/exdata/images/principles-unnamed-chunk-6-1.png\" width=60%>\n",
    "\n",
    "- 계절의 고려 \n",
    "<img src=https://bookdown.org/rdpeng/exdata/images/principles-unnamed-chunk-7-1.png>\n",
    "\n",
    "<img src=https://bookdown.org/rdpeng/exdata/images/principles-unnamed-chunk-9-1.png>\n",
    "\n",
    "### Principle 4: 정보의 통합\n",
    "- 상대방이 짧은 시간에 그래프만 훑어보더라도 이해할 수 있는 충분한 정보를 담고 있는가?\n",
    "<img src=https://bookdown.org/rdpeng/exdata/images/principles-unnamed-chunk-10-1.png>\n",
    "\n",
    "##### References\n",
    "https://bookdown.org/rdpeng/exdata/principles-of-analytic-graphics.html\n",
    "\n",
    "\n"
   ]
  },
  {
   "cell_type": "markdown",
   "metadata": {},
   "source": [
    "# 2. 시각화를 통한 가설 확인 및 데이터 관계 파악"
   ]
  },
  {
   "cell_type": "code",
   "execution_count": 1,
   "metadata": {},
   "outputs": [],
   "source": [
    "# 데이터 분석용 패키지 불러오기\n",
    "import pandas as pd\n",
    "import numpy as np\n",
    "\n",
    "# EDA용 패키지 불러오기\n",
    "import matplotlib\n",
    "import matplotlib.pyplot as plt\n",
    "import seaborn as sns\n",
    "%matplotlib inline \n",
    "\n",
    "# Python에서 한글 폰트 설정\n",
    "local_font_path = \"c:/Windows/Fonts/malgun.ttf\"\n",
    "import matplotlib.font_manager as fm\n",
    "plt.rc('font', family=fm.FontProperties(fname=local_font_path).get_name())\n",
    "\n",
    "# 마이너스 부호 깨지는 현상 방지\n",
    "plt.rc('axes', unicode_minus=False)"
   ]
  },
  {
   "cell_type": "markdown",
   "metadata": {},
   "source": [
    "## 1) 데이터 불러오기"
   ]
  },
  {
   "cell_type": "code",
   "execution_count": 2,
   "metadata": {},
   "outputs": [
    {
     "data": {
      "text/html": [
       "<div>\n",
       "<style scoped>\n",
       "    .dataframe tbody tr th:only-of-type {\n",
       "        vertical-align: middle;\n",
       "    }\n",
       "\n",
       "    .dataframe tbody tr th {\n",
       "        vertical-align: top;\n",
       "    }\n",
       "\n",
       "    .dataframe thead th {\n",
       "        text-align: right;\n",
       "    }\n",
       "</style>\n",
       "<table border=\"1\" class=\"dataframe\">\n",
       "  <thead>\n",
       "    <tr style=\"text-align: right;\">\n",
       "      <th></th>\n",
       "      <th>영화제목</th>\n",
       "      <th>배급사</th>\n",
       "      <th>장르</th>\n",
       "      <th>개봉일자</th>\n",
       "      <th>상영시간</th>\n",
       "      <th>상영등급</th>\n",
       "      <th>감독이름</th>\n",
       "      <th>이전영화_평균관객수</th>\n",
       "      <th>이전영화_개수</th>\n",
       "      <th>스태프수</th>\n",
       "      <th>배우수</th>\n",
       "      <th>관객수</th>\n",
       "    </tr>\n",
       "  </thead>\n",
       "  <tbody>\n",
       "    <tr>\n",
       "      <th>0</th>\n",
       "      <td>개들의 전쟁</td>\n",
       "      <td>롯데엔터테인먼트</td>\n",
       "      <td>액션</td>\n",
       "      <td>2012-11-22</td>\n",
       "      <td>96</td>\n",
       "      <td>청소년 관람불가</td>\n",
       "      <td>조병옥</td>\n",
       "      <td>NaN</td>\n",
       "      <td>0</td>\n",
       "      <td>91</td>\n",
       "      <td>2</td>\n",
       "      <td>23398</td>\n",
       "    </tr>\n",
       "    <tr>\n",
       "      <th>1</th>\n",
       "      <td>내부자들</td>\n",
       "      <td>(주)쇼박스</td>\n",
       "      <td>느와르</td>\n",
       "      <td>2015-11-19</td>\n",
       "      <td>130</td>\n",
       "      <td>청소년 관람불가</td>\n",
       "      <td>우민호</td>\n",
       "      <td>1161602.50</td>\n",
       "      <td>2</td>\n",
       "      <td>387</td>\n",
       "      <td>3</td>\n",
       "      <td>7072501</td>\n",
       "    </tr>\n",
       "    <tr>\n",
       "      <th>2</th>\n",
       "      <td>은밀하게 위대하게</td>\n",
       "      <td>(주)쇼박스</td>\n",
       "      <td>액션</td>\n",
       "      <td>2013-06-05</td>\n",
       "      <td>123</td>\n",
       "      <td>15세 관람가</td>\n",
       "      <td>장철수</td>\n",
       "      <td>220775.25</td>\n",
       "      <td>4</td>\n",
       "      <td>343</td>\n",
       "      <td>4</td>\n",
       "      <td>6959083</td>\n",
       "    </tr>\n",
       "    <tr>\n",
       "      <th>3</th>\n",
       "      <td>나는 공무원이다</td>\n",
       "      <td>(주)NEW</td>\n",
       "      <td>코미디</td>\n",
       "      <td>2012-07-12</td>\n",
       "      <td>101</td>\n",
       "      <td>전체 관람가</td>\n",
       "      <td>구자홍</td>\n",
       "      <td>23894.00</td>\n",
       "      <td>2</td>\n",
       "      <td>20</td>\n",
       "      <td>6</td>\n",
       "      <td>217866</td>\n",
       "    </tr>\n",
       "    <tr>\n",
       "      <th>4</th>\n",
       "      <td>불량남녀</td>\n",
       "      <td>쇼박스(주)미디어플렉스</td>\n",
       "      <td>코미디</td>\n",
       "      <td>2010-11-04</td>\n",
       "      <td>108</td>\n",
       "      <td>15세 관람가</td>\n",
       "      <td>신근호</td>\n",
       "      <td>1.00</td>\n",
       "      <td>1</td>\n",
       "      <td>251</td>\n",
       "      <td>2</td>\n",
       "      <td>483387</td>\n",
       "    </tr>\n",
       "  </tbody>\n",
       "</table>\n",
       "</div>"
      ],
      "text/plain": [
       "        영화제목           배급사   장르        개봉일자  상영시간      상영등급 감독이름  이전영화_평균관객수  \\\n",
       "0     개들의 전쟁      롯데엔터테인먼트   액션  2012-11-22    96  청소년 관람불가  조병옥         NaN   \n",
       "1       내부자들        (주)쇼박스  느와르  2015-11-19   130  청소년 관람불가  우민호  1161602.50   \n",
       "2  은밀하게 위대하게        (주)쇼박스   액션  2013-06-05   123   15세 관람가  장철수   220775.25   \n",
       "3   나는 공무원이다        (주)NEW  코미디  2012-07-12   101    전체 관람가  구자홍    23894.00   \n",
       "4       불량남녀  쇼박스(주)미디어플렉스  코미디  2010-11-04   108   15세 관람가  신근호        1.00   \n",
       "\n",
       "   이전영화_개수  스태프수  배우수      관객수  \n",
       "0        0    91    2    23398  \n",
       "1        2   387    3  7072501  \n",
       "2        4   343    4  6959083  \n",
       "3        2    20    6   217866  \n",
       "4        1   251    2   483387  "
      ]
     },
     "execution_count": 2,
     "metadata": {},
     "output_type": "execute_result"
    }
   ],
   "source": [
    "df = pd.read_csv('./data/movies_train.csv')\n",
    "df.columns = ['영화제목','배급사','장르','개봉일자','상영시간',\n",
    "                                    '상영등급','감독이름','이전영화_평균관객수',\n",
    "                                    '이전영화_개수', '스태프수','배우수','관객수']\n",
    "df.head()"
   ]
  },
  {
   "cell_type": "code",
   "execution_count": 3,
   "metadata": {},
   "outputs": [
    {
     "data": {
      "text/plain": [
       "(600, 12)"
      ]
     },
     "execution_count": 3,
     "metadata": {},
     "output_type": "execute_result"
    }
   ],
   "source": [
    "df.shape"
   ]
  },
  {
   "cell_type": "code",
   "execution_count": 4,
   "metadata": {},
   "outputs": [
    {
     "name": "stdout",
     "output_type": "stream",
     "text": [
      "<class 'pandas.core.frame.DataFrame'>\n",
      "RangeIndex: 600 entries, 0 to 599\n",
      "Data columns (total 12 columns):\n",
      " #   Column      Non-Null Count  Dtype  \n",
      "---  ------      --------------  -----  \n",
      " 0   영화제목        600 non-null    object \n",
      " 1   배급사         600 non-null    object \n",
      " 2   장르          600 non-null    object \n",
      " 3   개봉일자        600 non-null    object \n",
      " 4   상영시간        600 non-null    int64  \n",
      " 5   상영등급        600 non-null    object \n",
      " 6   감독이름        600 non-null    object \n",
      " 7   이전영화_평균관객수  270 non-null    float64\n",
      " 8   이전영화_개수     600 non-null    int64  \n",
      " 9   스태프수        600 non-null    int64  \n",
      " 10  배우수         600 non-null    int64  \n",
      " 11  관객수         600 non-null    int64  \n",
      "dtypes: float64(1), int64(5), object(6)\n",
      "memory usage: 56.4+ KB\n"
     ]
    }
   ],
   "source": [
    "df.info()"
   ]
  },
  {
   "cell_type": "code",
   "execution_count": 5,
   "metadata": {},
   "outputs": [
    {
     "data": {
      "text/html": [
       "<div>\n",
       "<style scoped>\n",
       "    .dataframe tbody tr th:only-of-type {\n",
       "        vertical-align: middle;\n",
       "    }\n",
       "\n",
       "    .dataframe tbody tr th {\n",
       "        vertical-align: top;\n",
       "    }\n",
       "\n",
       "    .dataframe thead th {\n",
       "        text-align: right;\n",
       "    }\n",
       "</style>\n",
       "<table border=\"1\" class=\"dataframe\">\n",
       "  <thead>\n",
       "    <tr style=\"text-align: right;\">\n",
       "      <th></th>\n",
       "      <th>장르</th>\n",
       "      <th>개봉일자</th>\n",
       "      <th>상영시간</th>\n",
       "      <th>이전영화_평균관객수</th>\n",
       "      <th>이전영화_개수</th>\n",
       "      <th>스태프수</th>\n",
       "      <th>배우수</th>\n",
       "      <th>관객수</th>\n",
       "    </tr>\n",
       "  </thead>\n",
       "  <tbody>\n",
       "    <tr>\n",
       "      <th>0</th>\n",
       "      <td>액션</td>\n",
       "      <td>2012-11-22</td>\n",
       "      <td>96</td>\n",
       "      <td>NaN</td>\n",
       "      <td>0</td>\n",
       "      <td>91</td>\n",
       "      <td>2</td>\n",
       "      <td>23398</td>\n",
       "    </tr>\n",
       "    <tr>\n",
       "      <th>1</th>\n",
       "      <td>느와르</td>\n",
       "      <td>2015-11-19</td>\n",
       "      <td>130</td>\n",
       "      <td>1161602.50</td>\n",
       "      <td>2</td>\n",
       "      <td>387</td>\n",
       "      <td>3</td>\n",
       "      <td>7072501</td>\n",
       "    </tr>\n",
       "    <tr>\n",
       "      <th>2</th>\n",
       "      <td>액션</td>\n",
       "      <td>2013-06-05</td>\n",
       "      <td>123</td>\n",
       "      <td>220775.25</td>\n",
       "      <td>4</td>\n",
       "      <td>343</td>\n",
       "      <td>4</td>\n",
       "      <td>6959083</td>\n",
       "    </tr>\n",
       "    <tr>\n",
       "      <th>3</th>\n",
       "      <td>코미디</td>\n",
       "      <td>2012-07-12</td>\n",
       "      <td>101</td>\n",
       "      <td>23894.00</td>\n",
       "      <td>2</td>\n",
       "      <td>20</td>\n",
       "      <td>6</td>\n",
       "      <td>217866</td>\n",
       "    </tr>\n",
       "    <tr>\n",
       "      <th>4</th>\n",
       "      <td>코미디</td>\n",
       "      <td>2010-11-04</td>\n",
       "      <td>108</td>\n",
       "      <td>1.00</td>\n",
       "      <td>1</td>\n",
       "      <td>251</td>\n",
       "      <td>2</td>\n",
       "      <td>483387</td>\n",
       "    </tr>\n",
       "    <tr>\n",
       "      <th>...</th>\n",
       "      <td>...</td>\n",
       "      <td>...</td>\n",
       "      <td>...</td>\n",
       "      <td>...</td>\n",
       "      <td>...</td>\n",
       "      <td>...</td>\n",
       "      <td>...</td>\n",
       "      <td>...</td>\n",
       "    </tr>\n",
       "    <tr>\n",
       "      <th>595</th>\n",
       "      <td>드라마</td>\n",
       "      <td>2014-08-13</td>\n",
       "      <td>111</td>\n",
       "      <td>3833.00</td>\n",
       "      <td>1</td>\n",
       "      <td>510</td>\n",
       "      <td>7</td>\n",
       "      <td>1475091</td>\n",
       "    </tr>\n",
       "    <tr>\n",
       "      <th>596</th>\n",
       "      <td>드라마</td>\n",
       "      <td>2013-03-14</td>\n",
       "      <td>127</td>\n",
       "      <td>496061.00</td>\n",
       "      <td>1</td>\n",
       "      <td>286</td>\n",
       "      <td>6</td>\n",
       "      <td>1716438</td>\n",
       "    </tr>\n",
       "    <tr>\n",
       "      <th>597</th>\n",
       "      <td>공포</td>\n",
       "      <td>2010-09-30</td>\n",
       "      <td>99</td>\n",
       "      <td>NaN</td>\n",
       "      <td>0</td>\n",
       "      <td>123</td>\n",
       "      <td>4</td>\n",
       "      <td>2475</td>\n",
       "    </tr>\n",
       "    <tr>\n",
       "      <th>598</th>\n",
       "      <td>느와르</td>\n",
       "      <td>2015-05-14</td>\n",
       "      <td>102</td>\n",
       "      <td>NaN</td>\n",
       "      <td>0</td>\n",
       "      <td>431</td>\n",
       "      <td>4</td>\n",
       "      <td>2192525</td>\n",
       "    </tr>\n",
       "    <tr>\n",
       "      <th>599</th>\n",
       "      <td>액션</td>\n",
       "      <td>2013-01-30</td>\n",
       "      <td>120</td>\n",
       "      <td>NaN</td>\n",
       "      <td>0</td>\n",
       "      <td>363</td>\n",
       "      <td>5</td>\n",
       "      <td>7166532</td>\n",
       "    </tr>\n",
       "  </tbody>\n",
       "</table>\n",
       "<p>600 rows × 8 columns</p>\n",
       "</div>"
      ],
      "text/plain": [
       "      장르        개봉일자  상영시간  이전영화_평균관객수  이전영화_개수  스태프수  배우수      관객수\n",
       "0     액션  2012-11-22    96         NaN        0    91    2    23398\n",
       "1    느와르  2015-11-19   130  1161602.50        2   387    3  7072501\n",
       "2     액션  2013-06-05   123   220775.25        4   343    4  6959083\n",
       "3    코미디  2012-07-12   101    23894.00        2    20    6   217866\n",
       "4    코미디  2010-11-04   108        1.00        1   251    2   483387\n",
       "..   ...         ...   ...         ...      ...   ...  ...      ...\n",
       "595  드라마  2014-08-13   111     3833.00        1   510    7  1475091\n",
       "596  드라마  2013-03-14   127   496061.00        1   286    6  1716438\n",
       "597   공포  2010-09-30    99         NaN        0   123    4     2475\n",
       "598  느와르  2015-05-14   102         NaN        0   431    4  2192525\n",
       "599   액션  2013-01-30   120         NaN        0   363    5  7166532\n",
       "\n",
       "[600 rows x 8 columns]"
      ]
     },
     "execution_count": 5,
     "metadata": {},
     "output_type": "execute_result"
    }
   ],
   "source": [
    "new_columns = ['장르', '개봉일자', '상영시간', '이전영화_평균관객수', '이전영화_개수', '스태프수', '배우수', '관객수']\n",
    "\n",
    "new_df = df.loc[:,new_columns]\n",
    "new_df"
   ]
  },
  {
   "cell_type": "markdown",
   "metadata": {},
   "source": [
    "## 2) EDA"
   ]
  },
  {
   "cell_type": "code",
   "execution_count": 6,
   "metadata": {},
   "outputs": [
    {
     "data": {
      "text/html": [
       "<div>\n",
       "<style scoped>\n",
       "    .dataframe tbody tr th:only-of-type {\n",
       "        vertical-align: middle;\n",
       "    }\n",
       "\n",
       "    .dataframe tbody tr th {\n",
       "        vertical-align: top;\n",
       "    }\n",
       "\n",
       "    .dataframe thead th {\n",
       "        text-align: right;\n",
       "    }\n",
       "</style>\n",
       "<table border=\"1\" class=\"dataframe\">\n",
       "  <thead>\n",
       "    <tr style=\"text-align: right;\">\n",
       "      <th></th>\n",
       "      <th>장르</th>\n",
       "      <th>개봉일자</th>\n",
       "      <th>상영시간</th>\n",
       "      <th>이전영화_평균관객수</th>\n",
       "      <th>이전영화_개수</th>\n",
       "      <th>스태프수</th>\n",
       "      <th>배우수</th>\n",
       "      <th>관객수</th>\n",
       "    </tr>\n",
       "  </thead>\n",
       "  <tbody>\n",
       "    <tr>\n",
       "      <th>0</th>\n",
       "      <td>액션</td>\n",
       "      <td>2012-11-22</td>\n",
       "      <td>96</td>\n",
       "      <td>NaN</td>\n",
       "      <td>0</td>\n",
       "      <td>91</td>\n",
       "      <td>2</td>\n",
       "      <td>23398</td>\n",
       "    </tr>\n",
       "    <tr>\n",
       "      <th>1</th>\n",
       "      <td>느와르</td>\n",
       "      <td>2015-11-19</td>\n",
       "      <td>130</td>\n",
       "      <td>1161602.50</td>\n",
       "      <td>2</td>\n",
       "      <td>387</td>\n",
       "      <td>3</td>\n",
       "      <td>7072501</td>\n",
       "    </tr>\n",
       "    <tr>\n",
       "      <th>2</th>\n",
       "      <td>액션</td>\n",
       "      <td>2013-06-05</td>\n",
       "      <td>123</td>\n",
       "      <td>220775.25</td>\n",
       "      <td>4</td>\n",
       "      <td>343</td>\n",
       "      <td>4</td>\n",
       "      <td>6959083</td>\n",
       "    </tr>\n",
       "    <tr>\n",
       "      <th>3</th>\n",
       "      <td>코미디</td>\n",
       "      <td>2012-07-12</td>\n",
       "      <td>101</td>\n",
       "      <td>23894.00</td>\n",
       "      <td>2</td>\n",
       "      <td>20</td>\n",
       "      <td>6</td>\n",
       "      <td>217866</td>\n",
       "    </tr>\n",
       "    <tr>\n",
       "      <th>4</th>\n",
       "      <td>코미디</td>\n",
       "      <td>2010-11-04</td>\n",
       "      <td>108</td>\n",
       "      <td>1.00</td>\n",
       "      <td>1</td>\n",
       "      <td>251</td>\n",
       "      <td>2</td>\n",
       "      <td>483387</td>\n",
       "    </tr>\n",
       "  </tbody>\n",
       "</table>\n",
       "</div>"
      ],
      "text/plain": [
       "    장르        개봉일자  상영시간  이전영화_평균관객수  이전영화_개수  스태프수  배우수      관객수\n",
       "0   액션  2012-11-22    96         NaN        0    91    2    23398\n",
       "1  느와르  2015-11-19   130  1161602.50        2   387    3  7072501\n",
       "2   액션  2013-06-05   123   220775.25        4   343    4  6959083\n",
       "3  코미디  2012-07-12   101    23894.00        2    20    6   217866\n",
       "4  코미디  2010-11-04   108        1.00        1   251    2   483387"
      ]
     },
     "execution_count": 6,
     "metadata": {},
     "output_type": "execute_result"
    }
   ],
   "source": [
    "new_df.head()"
   ]
  },
  {
   "cell_type": "code",
   "execution_count": 7,
   "metadata": {},
   "outputs": [
    {
     "data": {
      "text/plain": [
       "<matplotlib.axes._subplots.AxesSubplot at 0x2646f2fc430>"
      ]
     },
     "execution_count": 7,
     "metadata": {},
     "output_type": "execute_result"
    },
    {
     "data": {
      "image/png": "[encoded data removed]",
      "text/plain": [
       "<Figure size 432x288 with 1 Axes>"
      ]
     },
     "metadata": {
      "needs_background": "light"
     },
     "output_type": "display_data"
    }
   ],
   "source": [
    "sns.histplot(x = '관객수', bins = 100, data = new_df)"
   ]
  },
  {
   "cell_type": "markdown",
   "metadata": {},
   "source": [
    "### 가설 1 : 장르에 따라 평균 관객수에 차이가 있다."
   ]
  },
  {
   "cell_type": "markdown",
   "metadata": {},
   "source": [
    "#### 방법  1 : Matplotlib를 사용한다면?"
   ]
  },
  {
   "cell_type": "code",
   "execution_count": 8,
   "metadata": {},
   "outputs": [
    {
     "data": {
      "text/html": [
       "<div>\n",
       "<style scoped>\n",
       "    .dataframe tbody tr th:only-of-type {\n",
       "        vertical-align: middle;\n",
       "    }\n",
       "\n",
       "    .dataframe tbody tr th {\n",
       "        vertical-align: top;\n",
       "    }\n",
       "\n",
       "    .dataframe thead th {\n",
       "        text-align: right;\n",
       "    }\n",
       "</style>\n",
       "<table border=\"1\" class=\"dataframe\">\n",
       "  <thead>\n",
       "    <tr style=\"text-align: right;\">\n",
       "      <th></th>\n",
       "      <th>장르</th>\n",
       "      <th>mean</th>\n",
       "      <th>median</th>\n",
       "      <th>count</th>\n",
       "    </tr>\n",
       "  </thead>\n",
       "  <tbody>\n",
       "    <tr>\n",
       "      <th>6</th>\n",
       "      <td>뮤지컬</td>\n",
       "      <td>6.627000e+03</td>\n",
       "      <td>4778.0</td>\n",
       "      <td>5</td>\n",
       "    </tr>\n",
       "    <tr>\n",
       "      <th>3</th>\n",
       "      <td>다큐멘터리</td>\n",
       "      <td>6.717226e+04</td>\n",
       "      <td>3044.0</td>\n",
       "      <td>93</td>\n",
       "    </tr>\n",
       "    <tr>\n",
       "      <th>8</th>\n",
       "      <td>서스펜스</td>\n",
       "      <td>8.261100e+04</td>\n",
       "      <td>82611.0</td>\n",
       "      <td>2</td>\n",
       "    </tr>\n",
       "    <tr>\n",
       "      <th>9</th>\n",
       "      <td>애니메이션</td>\n",
       "      <td>1.819267e+05</td>\n",
       "      <td>23802.0</td>\n",
       "      <td>21</td>\n",
       "    </tr>\n",
       "    <tr>\n",
       "      <th>5</th>\n",
       "      <td>멜로/로맨스</td>\n",
       "      <td>4.259680e+05</td>\n",
       "      <td>3653.0</td>\n",
       "      <td>78</td>\n",
       "    </tr>\n",
       "    <tr>\n",
       "      <th>7</th>\n",
       "      <td>미스터리</td>\n",
       "      <td>5.275482e+05</td>\n",
       "      <td>3199.0</td>\n",
       "      <td>17</td>\n",
       "    </tr>\n",
       "    <tr>\n",
       "      <th>1</th>\n",
       "      <td>공포</td>\n",
       "      <td>5.908325e+05</td>\n",
       "      <td>179810.0</td>\n",
       "      <td>42</td>\n",
       "    </tr>\n",
       "    <tr>\n",
       "      <th>4</th>\n",
       "      <td>드라마</td>\n",
       "      <td>6.256898e+05</td>\n",
       "      <td>7173.0</td>\n",
       "      <td>221</td>\n",
       "    </tr>\n",
       "    <tr>\n",
       "      <th>11</th>\n",
       "      <td>코미디</td>\n",
       "      <td>1.193914e+06</td>\n",
       "      <td>210775.0</td>\n",
       "      <td>53</td>\n",
       "    </tr>\n",
       "    <tr>\n",
       "      <th>0</th>\n",
       "      <td>SF</td>\n",
       "      <td>1.788346e+06</td>\n",
       "      <td>9323.0</td>\n",
       "      <td>13</td>\n",
       "    </tr>\n",
       "    <tr>\n",
       "      <th>10</th>\n",
       "      <td>액션</td>\n",
       "      <td>2.203974e+06</td>\n",
       "      <td>1147846.5</td>\n",
       "      <td>28</td>\n",
       "    </tr>\n",
       "    <tr>\n",
       "      <th>2</th>\n",
       "      <td>느와르</td>\n",
       "      <td>2.263695e+06</td>\n",
       "      <td>1646142.0</td>\n",
       "      <td>27</td>\n",
       "    </tr>\n",
       "  </tbody>\n",
       "</table>\n",
       "</div>"
      ],
      "text/plain": [
       "        장르          mean     median  count\n",
       "6      뮤지컬  6.627000e+03     4778.0      5\n",
       "3    다큐멘터리  6.717226e+04     3044.0     93\n",
       "8     서스펜스  8.261100e+04    82611.0      2\n",
       "9    애니메이션  1.819267e+05    23802.0     21\n",
       "5   멜로/로맨스  4.259680e+05     3653.0     78\n",
       "7     미스터리  5.275482e+05     3199.0     17\n",
       "1       공포  5.908325e+05   179810.0     42\n",
       "4      드라마  6.256898e+05     7173.0    221\n",
       "11     코미디  1.193914e+06   210775.0     53\n",
       "0       SF  1.788346e+06     9323.0     13\n",
       "10      액션  2.203974e+06  1147846.5     28\n",
       "2      느와르  2.263695e+06  1646142.0     27"
      ]
     },
     "execution_count": 8,
     "metadata": {},
     "output_type": "execute_result"
    }
   ],
   "source": [
    "hypo_1 = new_df.groupby(['장르'])['관객수'].agg(['mean', 'median','count']).reset_index().sort_values(by = ['mean'])\n",
    "hypo_1"
   ]
  },
  {
   "cell_type": "code",
   "execution_count": 9,
   "metadata": {
    "scrolled": false
   },
   "outputs": [
    {
     "data": {
      "image/png": "[encoded data removed]",
      "text/plain": [
       "<Figure size 864x432 with 1 Axes>"
      ]
     },
     "metadata": {
      "needs_background": "light"
     },
     "output_type": "display_data"
    }
   ],
   "source": [
    "x = hypo_1['장르'].values\n",
    "y = hypo_1['mean'].values\n",
    "\n",
    "plt.figure(figsize = (12,6))\n",
    "plt.bar(x,y, width = 0.5)\n",
    "\n",
    "plt.title('장르별 평균 관객 수')\n",
    "plt.xlabel('장르')\n",
    "plt.ylabel('평균 관객 수')\n",
    "\n",
    "plt.show()"
   ]
  },
  {
   "cell_type": "markdown",
   "metadata": {},
   "source": [
    "#### 방법 2 : Seaborn을 사용한다."
   ]
  },
  {
   "cell_type": "code",
   "execution_count": 10,
   "metadata": {},
   "outputs": [
    {
     "data": {
      "image/png": "[encoded data removed]",
      "text/plain": [
       "<Figure size 864x432 with 1 Axes>"
      ]
     },
     "metadata": {
      "needs_background": "light"
     },
     "output_type": "display_data"
    }
   ],
   "source": [
    "plt.figure(figsize = (12,6))\n",
    "sns.barplot(x = '장르',\n",
    "            y = 'mean',\n",
    "            data = hypo_1,\n",
    "            ci = None\n",
    ")\n",
    "\n",
    "plt.title('장르별 평균 관객 수')\n",
    "plt.xlabel('장르')\n",
    "plt.ylabel('평균 관객 수')\n",
    "\n",
    "plt.show()"
   ]
  },
  {
   "cell_type": "markdown",
   "metadata": {},
   "source": [
    "#### 방법 3 : Pandas에 내장된 기능을 사용한다."
   ]
  },
  {
   "cell_type": "code",
   "execution_count": 11,
   "metadata": {},
   "outputs": [
    {
     "data": {
      "image/png": "[encoded data removed]",
      "text/plain": [
       "<Figure size 720x360 with 1 Axes>"
      ]
     },
     "metadata": {
      "needs_background": "light"
     },
     "output_type": "display_data"
    }
   ],
   "source": [
    "new_df.groupby(['장르'])['관객수'].agg(['mean', 'median','count']).sort_values(by = 'mean').plot.bar(figsize = (10,5))\n",
    "\n",
    "plt.title('장르별 평균 관객 수')\n",
    "plt.xlabel('장르')\n",
    "plt.ylabel('평균 관객 수')\n",
    "\n",
    "plt.show()"
   ]
  },
  {
   "cell_type": "markdown",
   "metadata": {},
   "source": [
    "### 가설 2 : 상영시간에 따라 평균 관객수에 차이가 있다."
   ]
  },
  {
   "cell_type": "code",
   "execution_count": 12,
   "metadata": {},
   "outputs": [],
   "source": [
    "def re_num(x) : \n",
    "    return round(x, -1)"
   ]
  },
  {
   "cell_type": "code",
   "execution_count": 13,
   "metadata": {
    "scrolled": false
   },
   "outputs": [],
   "source": [
    "new_df['상영시간2'] = new_df.상영시간.apply(re_num)\n",
    "new_df['상영시간2'] = new_df.상영시간.apply(lambda x :round(x,-1))"
   ]
  },
  {
   "cell_type": "code",
   "execution_count": 14,
   "metadata": {},
   "outputs": [
    {
     "data": {
      "image/png": "[encoded data removed]",
      "text/plain": [
       "<Figure size 864x432 with 1 Axes>"
      ]
     },
     "metadata": {
      "needs_background": "light"
     },
     "output_type": "display_data"
    }
   ],
   "source": [
    "plt.figure(figsize = (12,6))\n",
    "sns.barplot(x = '상영시간2',\n",
    "            y = '관객수',\n",
    "            data = new_df,\n",
    "            ci = None\n",
    "            )\n",
    "\n",
    "plt.xlabel('상영시간')\n",
    "plt.ylabel('관객수')\n",
    "plt.title('상영시간에 따른 관객수')\n",
    "\n",
    "# plt.xticks(rotation = 90)\n",
    "plt.show()"
   ]
  },
  {
   "cell_type": "markdown",
   "metadata": {},
   "source": [
    "### 가설 3 : 이전영화_개수에 따라 평균 관객수에 차이가 있다."
   ]
  },
  {
   "cell_type": "code",
   "execution_count": 15,
   "metadata": {},
   "outputs": [
    {
     "data": {
      "image/png": "[encoded data removed]",
      "text/plain": [
       "<Figure size 864x432 with 1 Axes>"
      ]
     },
     "metadata": {
      "needs_background": "light"
     },
     "output_type": "display_data"
    }
   ],
   "source": [
    "hypo_3 = new_df.groupby(['이전영화_개수'])['관객수'].agg('mean')\n",
    "x = hypo_3.index\n",
    "y = hypo_3.values\n",
    "\n",
    "plt.figure(figsize = (12,6))\n",
    "plt.bar(x,y, width = 0.5)\n",
    "\n",
    "plt.title('이전영화_개수에 따른 평균 관객 수')\n",
    "plt.xlabel('이전영화_개수')\n",
    "plt.ylabel('평균 관객수')\n",
    "plt.show()"
   ]
  },
  {
   "cell_type": "markdown",
   "metadata": {},
   "source": [
    "### 가설4 : 이전에 촬영한 영화의 평균 관객수가 높을수록, 평균 관객수가 많다.\n",
    "\n",
    "- 신입 감독들은 이전영화에 대한 평균 관객수가 없습니다.\n",
    "    - 방법 1 : 이전영화_평균관객수를 0으로 채웁니다.\n",
    "    - 방법 2 : 이전영화_개수가 1인 감독들의 이전영화_평균관객수의 평균으로 채웁니다.\n",
    "    \n",
    "\n",
    "- <b> Q) 어떤게 더 좋은 방법일까요? 또 다른 방법은 없을까요? </b>"
   ]
  },
  {
   "cell_type": "markdown",
   "metadata": {},
   "source": [
    "- 평균관객수"
   ]
  },
  {
   "cell_type": "code",
   "execution_count": 16,
   "metadata": {},
   "outputs": [
    {
     "data": {
      "text/plain": [
       "장르              0\n",
       "개봉일자            0\n",
       "상영시간            0\n",
       "이전영화_평균관객수    330\n",
       "이전영화_개수         0\n",
       "스태프수            0\n",
       "배우수             0\n",
       "관객수             0\n",
       "상영시간2           0\n",
       "dtype: int64"
      ]
     },
     "execution_count": 16,
     "metadata": {},
     "output_type": "execute_result"
    }
   ],
   "source": [
    "new_df.isna().sum()"
   ]
  },
  {
   "cell_type": "code",
   "execution_count": 17,
   "metadata": {},
   "outputs": [
    {
     "data": {
      "text/html": [
       "<div>\n",
       "<style scoped>\n",
       "    .dataframe tbody tr th:only-of-type {\n",
       "        vertical-align: middle;\n",
       "    }\n",
       "\n",
       "    .dataframe tbody tr th {\n",
       "        vertical-align: top;\n",
       "    }\n",
       "\n",
       "    .dataframe thead th {\n",
       "        text-align: right;\n",
       "    }\n",
       "</style>\n",
       "<table border=\"1\" class=\"dataframe\">\n",
       "  <thead>\n",
       "    <tr style=\"text-align: right;\">\n",
       "      <th></th>\n",
       "      <th>장르</th>\n",
       "      <th>개봉일자</th>\n",
       "      <th>상영시간</th>\n",
       "      <th>이전영화_평균관객수</th>\n",
       "      <th>이전영화_개수</th>\n",
       "      <th>스태프수</th>\n",
       "      <th>배우수</th>\n",
       "      <th>관객수</th>\n",
       "      <th>상영시간2</th>\n",
       "    </tr>\n",
       "  </thead>\n",
       "  <tbody>\n",
       "    <tr>\n",
       "      <th>0</th>\n",
       "      <td>액션</td>\n",
       "      <td>2012-11-22</td>\n",
       "      <td>96</td>\n",
       "      <td>NaN</td>\n",
       "      <td>0</td>\n",
       "      <td>91</td>\n",
       "      <td>2</td>\n",
       "      <td>23398</td>\n",
       "      <td>100</td>\n",
       "    </tr>\n",
       "    <tr>\n",
       "      <th>6</th>\n",
       "      <td>다큐멘터리</td>\n",
       "      <td>2013-05-23</td>\n",
       "      <td>104</td>\n",
       "      <td>NaN</td>\n",
       "      <td>0</td>\n",
       "      <td>32</td>\n",
       "      <td>5</td>\n",
       "      <td>53526</td>\n",
       "      <td>100</td>\n",
       "    </tr>\n",
       "    <tr>\n",
       "      <th>8</th>\n",
       "      <td>뮤지컬</td>\n",
       "      <td>2014-09-18</td>\n",
       "      <td>129</td>\n",
       "      <td>NaN</td>\n",
       "      <td>0</td>\n",
       "      <td>3</td>\n",
       "      <td>5</td>\n",
       "      <td>4778</td>\n",
       "      <td>130</td>\n",
       "    </tr>\n",
       "    <tr>\n",
       "      <th>9</th>\n",
       "      <td>드라마</td>\n",
       "      <td>2012-03-15</td>\n",
       "      <td>94</td>\n",
       "      <td>NaN</td>\n",
       "      <td>0</td>\n",
       "      <td>138</td>\n",
       "      <td>3</td>\n",
       "      <td>868</td>\n",
       "      <td>90</td>\n",
       "    </tr>\n",
       "    <tr>\n",
       "      <th>10</th>\n",
       "      <td>멜로/로맨스</td>\n",
       "      <td>2015-07-27</td>\n",
       "      <td>89</td>\n",
       "      <td>NaN</td>\n",
       "      <td>0</td>\n",
       "      <td>0</td>\n",
       "      <td>4</td>\n",
       "      <td>745</td>\n",
       "      <td>90</td>\n",
       "    </tr>\n",
       "    <tr>\n",
       "      <th>...</th>\n",
       "      <td>...</td>\n",
       "      <td>...</td>\n",
       "      <td>...</td>\n",
       "      <td>...</td>\n",
       "      <td>...</td>\n",
       "      <td>...</td>\n",
       "      <td>...</td>\n",
       "      <td>...</td>\n",
       "      <td>...</td>\n",
       "    </tr>\n",
       "    <tr>\n",
       "      <th>593</th>\n",
       "      <td>미스터리</td>\n",
       "      <td>2013-09-12</td>\n",
       "      <td>97</td>\n",
       "      <td>NaN</td>\n",
       "      <td>0</td>\n",
       "      <td>5</td>\n",
       "      <td>3</td>\n",
       "      <td>1132</td>\n",
       "      <td>100</td>\n",
       "    </tr>\n",
       "    <tr>\n",
       "      <th>594</th>\n",
       "      <td>코미디</td>\n",
       "      <td>2014-03-20</td>\n",
       "      <td>94</td>\n",
       "      <td>NaN</td>\n",
       "      <td>0</td>\n",
       "      <td>37</td>\n",
       "      <td>5</td>\n",
       "      <td>1958</td>\n",
       "      <td>90</td>\n",
       "    </tr>\n",
       "    <tr>\n",
       "      <th>597</th>\n",
       "      <td>공포</td>\n",
       "      <td>2010-09-30</td>\n",
       "      <td>99</td>\n",
       "      <td>NaN</td>\n",
       "      <td>0</td>\n",
       "      <td>123</td>\n",
       "      <td>4</td>\n",
       "      <td>2475</td>\n",
       "      <td>100</td>\n",
       "    </tr>\n",
       "    <tr>\n",
       "      <th>598</th>\n",
       "      <td>느와르</td>\n",
       "      <td>2015-05-14</td>\n",
       "      <td>102</td>\n",
       "      <td>NaN</td>\n",
       "      <td>0</td>\n",
       "      <td>431</td>\n",
       "      <td>4</td>\n",
       "      <td>2192525</td>\n",
       "      <td>100</td>\n",
       "    </tr>\n",
       "    <tr>\n",
       "      <th>599</th>\n",
       "      <td>액션</td>\n",
       "      <td>2013-01-30</td>\n",
       "      <td>120</td>\n",
       "      <td>NaN</td>\n",
       "      <td>0</td>\n",
       "      <td>363</td>\n",
       "      <td>5</td>\n",
       "      <td>7166532</td>\n",
       "      <td>120</td>\n",
       "    </tr>\n",
       "  </tbody>\n",
       "</table>\n",
       "<p>330 rows × 9 columns</p>\n",
       "</div>"
      ],
      "text/plain": [
       "         장르        개봉일자  상영시간  이전영화_평균관객수  이전영화_개수  스태프수  배우수      관객수  상영시간2\n",
       "0        액션  2012-11-22    96         NaN        0    91    2    23398    100\n",
       "6     다큐멘터리  2013-05-23   104         NaN        0    32    5    53526    100\n",
       "8       뮤지컬  2014-09-18   129         NaN        0     3    5     4778    130\n",
       "9       드라마  2012-03-15    94         NaN        0   138    3      868     90\n",
       "10   멜로/로맨스  2015-07-27    89         NaN        0     0    4      745     90\n",
       "..      ...         ...   ...         ...      ...   ...  ...      ...    ...\n",
       "593    미스터리  2013-09-12    97         NaN        0     5    3     1132    100\n",
       "594     코미디  2014-03-20    94         NaN        0    37    5     1958     90\n",
       "597      공포  2010-09-30    99         NaN        0   123    4     2475    100\n",
       "598     느와르  2015-05-14   102         NaN        0   431    4  2192525    100\n",
       "599      액션  2013-01-30   120         NaN        0   363    5  7166532    120\n",
       "\n",
       "[330 rows x 9 columns]"
      ]
     },
     "execution_count": 17,
     "metadata": {},
     "output_type": "execute_result"
    }
   ],
   "source": [
    "new_df[new_df.이전영화_평균관객수.isna()]"
   ]
  },
  {
   "cell_type": "code",
   "execution_count": 18,
   "metadata": {},
   "outputs": [
    {
     "data": {
      "text/plain": [
       "330"
      ]
     },
     "execution_count": 18,
     "metadata": {},
     "output_type": "execute_result"
    }
   ],
   "source": [
    "(new_df[new_df.이전영화_평균관객수.isna()].이전영화_개수 == 0).sum()"
   ]
  },
  {
   "cell_type": "markdown",
   "metadata": {},
   "source": [
    "- 방법 1"
   ]
  },
  {
   "cell_type": "code",
   "execution_count": 19,
   "metadata": {},
   "outputs": [],
   "source": [
    "new_df['방법1'] = new_df.이전영화_평균관객수.fillna(0)"
   ]
  },
  {
   "cell_type": "markdown",
   "metadata": {},
   "source": [
    "- 방법 2 "
   ]
  },
  {
   "cell_type": "code",
   "execution_count": 20,
   "metadata": {},
   "outputs": [],
   "source": [
    "junior_director_boxnum_mean = new_df.query('이전영화_개수 == 1').이전영화_평균관객수.mean()\n",
    "new_df['방법2'] = new_df['이전영화_평균관객수'].fillna(junior_director_boxnum_mean)"
   ]
  },
  {
   "cell_type": "code",
   "execution_count": 21,
   "metadata": {},
   "outputs": [
    {
     "data": {
      "text/html": [
       "<div>\n",
       "<style scoped>\n",
       "    .dataframe tbody tr th:only-of-type {\n",
       "        vertical-align: middle;\n",
       "    }\n",
       "\n",
       "    .dataframe tbody tr th {\n",
       "        vertical-align: top;\n",
       "    }\n",
       "\n",
       "    .dataframe thead th {\n",
       "        text-align: right;\n",
       "    }\n",
       "</style>\n",
       "<table border=\"1\" class=\"dataframe\">\n",
       "  <thead>\n",
       "    <tr style=\"text-align: right;\">\n",
       "      <th></th>\n",
       "      <th>관객수</th>\n",
       "      <th>방법1</th>\n",
       "      <th>방법2</th>\n",
       "    </tr>\n",
       "  </thead>\n",
       "  <tbody>\n",
       "    <tr>\n",
       "      <th>관객수</th>\n",
       "      <td>1.000000</td>\n",
       "      <td>0.293791</td>\n",
       "      <td>0.238788</td>\n",
       "    </tr>\n",
       "    <tr>\n",
       "      <th>방법1</th>\n",
       "      <td>0.293791</td>\n",
       "      <td>1.000000</td>\n",
       "      <td>0.939691</td>\n",
       "    </tr>\n",
       "    <tr>\n",
       "      <th>방법2</th>\n",
       "      <td>0.238788</td>\n",
       "      <td>0.939691</td>\n",
       "      <td>1.000000</td>\n",
       "    </tr>\n",
       "  </tbody>\n",
       "</table>\n",
       "</div>"
      ],
      "text/plain": [
       "          관객수       방법1       방법2\n",
       "관객수  1.000000  0.293791  0.238788\n",
       "방법1  0.293791  1.000000  0.939691\n",
       "방법2  0.238788  0.939691  1.000000"
      ]
     },
     "execution_count": 21,
     "metadata": {},
     "output_type": "execute_result"
    }
   ],
   "source": [
    "new_df[['관객수','방법1','방법2']].corr()"
   ]
  },
  {
   "cell_type": "code",
   "execution_count": 22,
   "metadata": {},
   "outputs": [
    {
     "data": {
      "image/png": "[encoded data removed]",
      "text/plain": [
       "<Figure size 432x288 with 2 Axes>"
      ]
     },
     "metadata": {
      "needs_background": "light"
     },
     "output_type": "display_data"
    }
   ],
   "source": [
    "sns.heatmap(new_df[['관객수','방법1','방법2']].corr(),\n",
    "            cmap = 'RdPu',\n",
    "            annot=True)\n",
    "plt.show()"
   ]
  },
  {
   "cell_type": "code",
   "execution_count": 23,
   "metadata": {},
   "outputs": [],
   "source": [
    "# 방법 1이 관객수에 대한 Correlationship이 높으므로, 방법1을 채택한다.\n",
    "new_df['이전영화_평균관객수'] = new_df.이전영화_평균관객수.fillna(0)"
   ]
  },
  {
   "cell_type": "markdown",
   "metadata": {},
   "source": [
    "### 가설5 : 시간은 영화 평균 관객수에 영향을 준다."
   ]
  },
  {
   "cell_type": "markdown",
   "metadata": {},
   "source": [
    "- DataFrame의 index를 \"Datetimeindex\"형태로 바뀐 개봉일자로 만들어준다."
   ]
  },
  {
   "cell_type": "code",
   "execution_count": 24,
   "metadata": {},
   "outputs": [
    {
     "data": {
      "text/html": [
       "<div>\n",
       "<style scoped>\n",
       "    .dataframe tbody tr th:only-of-type {\n",
       "        vertical-align: middle;\n",
       "    }\n",
       "\n",
       "    .dataframe tbody tr th {\n",
       "        vertical-align: top;\n",
       "    }\n",
       "\n",
       "    .dataframe thead th {\n",
       "        text-align: right;\n",
       "    }\n",
       "</style>\n",
       "<table border=\"1\" class=\"dataframe\">\n",
       "  <thead>\n",
       "    <tr style=\"text-align: right;\">\n",
       "      <th></th>\n",
       "      <th>장르</th>\n",
       "      <th>개봉일자</th>\n",
       "      <th>상영시간</th>\n",
       "      <th>이전영화_평균관객수</th>\n",
       "      <th>이전영화_개수</th>\n",
       "      <th>스태프수</th>\n",
       "      <th>배우수</th>\n",
       "      <th>관객수</th>\n",
       "      <th>상영시간2</th>\n",
       "      <th>방법1</th>\n",
       "      <th>방법2</th>\n",
       "    </tr>\n",
       "    <tr>\n",
       "      <th>개봉일자</th>\n",
       "      <th></th>\n",
       "      <th></th>\n",
       "      <th></th>\n",
       "      <th></th>\n",
       "      <th></th>\n",
       "      <th></th>\n",
       "      <th></th>\n",
       "      <th></th>\n",
       "      <th></th>\n",
       "      <th></th>\n",
       "      <th></th>\n",
       "    </tr>\n",
       "  </thead>\n",
       "  <tbody>\n",
       "    <tr>\n",
       "      <th>2012-11-22</th>\n",
       "      <td>액션</td>\n",
       "      <td>2012-11-22</td>\n",
       "      <td>96</td>\n",
       "      <td>0.00</td>\n",
       "      <td>0</td>\n",
       "      <td>91</td>\n",
       "      <td>2</td>\n",
       "      <td>23398</td>\n",
       "      <td>100</td>\n",
       "      <td>0.00</td>\n",
       "      <td>9.012262e+05</td>\n",
       "    </tr>\n",
       "    <tr>\n",
       "      <th>2015-11-19</th>\n",
       "      <td>느와르</td>\n",
       "      <td>2015-11-19</td>\n",
       "      <td>130</td>\n",
       "      <td>1161602.50</td>\n",
       "      <td>2</td>\n",
       "      <td>387</td>\n",
       "      <td>3</td>\n",
       "      <td>7072501</td>\n",
       "      <td>130</td>\n",
       "      <td>1161602.50</td>\n",
       "      <td>1.161602e+06</td>\n",
       "    </tr>\n",
       "    <tr>\n",
       "      <th>2013-06-05</th>\n",
       "      <td>액션</td>\n",
       "      <td>2013-06-05</td>\n",
       "      <td>123</td>\n",
       "      <td>220775.25</td>\n",
       "      <td>4</td>\n",
       "      <td>343</td>\n",
       "      <td>4</td>\n",
       "      <td>6959083</td>\n",
       "      <td>120</td>\n",
       "      <td>220775.25</td>\n",
       "      <td>2.207752e+05</td>\n",
       "    </tr>\n",
       "    <tr>\n",
       "      <th>2012-07-12</th>\n",
       "      <td>코미디</td>\n",
       "      <td>2012-07-12</td>\n",
       "      <td>101</td>\n",
       "      <td>23894.00</td>\n",
       "      <td>2</td>\n",
       "      <td>20</td>\n",
       "      <td>6</td>\n",
       "      <td>217866</td>\n",
       "      <td>100</td>\n",
       "      <td>23894.00</td>\n",
       "      <td>2.389400e+04</td>\n",
       "    </tr>\n",
       "    <tr>\n",
       "      <th>2010-11-04</th>\n",
       "      <td>코미디</td>\n",
       "      <td>2010-11-04</td>\n",
       "      <td>108</td>\n",
       "      <td>1.00</td>\n",
       "      <td>1</td>\n",
       "      <td>251</td>\n",
       "      <td>2</td>\n",
       "      <td>483387</td>\n",
       "      <td>110</td>\n",
       "      <td>1.00</td>\n",
       "      <td>1.000000e+00</td>\n",
       "    </tr>\n",
       "    <tr>\n",
       "      <th>...</th>\n",
       "      <td>...</td>\n",
       "      <td>...</td>\n",
       "      <td>...</td>\n",
       "      <td>...</td>\n",
       "      <td>...</td>\n",
       "      <td>...</td>\n",
       "      <td>...</td>\n",
       "      <td>...</td>\n",
       "      <td>...</td>\n",
       "      <td>...</td>\n",
       "      <td>...</td>\n",
       "    </tr>\n",
       "    <tr>\n",
       "      <th>2014-08-13</th>\n",
       "      <td>드라마</td>\n",
       "      <td>2014-08-13</td>\n",
       "      <td>111</td>\n",
       "      <td>3833.00</td>\n",
       "      <td>1</td>\n",
       "      <td>510</td>\n",
       "      <td>7</td>\n",
       "      <td>1475091</td>\n",
       "      <td>110</td>\n",
       "      <td>3833.00</td>\n",
       "      <td>3.833000e+03</td>\n",
       "    </tr>\n",
       "    <tr>\n",
       "      <th>2013-03-14</th>\n",
       "      <td>드라마</td>\n",
       "      <td>2013-03-14</td>\n",
       "      <td>127</td>\n",
       "      <td>496061.00</td>\n",
       "      <td>1</td>\n",
       "      <td>286</td>\n",
       "      <td>6</td>\n",
       "      <td>1716438</td>\n",
       "      <td>130</td>\n",
       "      <td>496061.00</td>\n",
       "      <td>4.960610e+05</td>\n",
       "    </tr>\n",
       "    <tr>\n",
       "      <th>2010-09-30</th>\n",
       "      <td>공포</td>\n",
       "      <td>2010-09-30</td>\n",
       "      <td>99</td>\n",
       "      <td>0.00</td>\n",
       "      <td>0</td>\n",
       "      <td>123</td>\n",
       "      <td>4</td>\n",
       "      <td>2475</td>\n",
       "      <td>100</td>\n",
       "      <td>0.00</td>\n",
       "      <td>9.012262e+05</td>\n",
       "    </tr>\n",
       "    <tr>\n",
       "      <th>2015-05-14</th>\n",
       "      <td>느와르</td>\n",
       "      <td>2015-05-14</td>\n",
       "      <td>102</td>\n",
       "      <td>0.00</td>\n",
       "      <td>0</td>\n",
       "      <td>431</td>\n",
       "      <td>4</td>\n",
       "      <td>2192525</td>\n",
       "      <td>100</td>\n",
       "      <td>0.00</td>\n",
       "      <td>9.012262e+05</td>\n",
       "    </tr>\n",
       "    <tr>\n",
       "      <th>2013-01-30</th>\n",
       "      <td>액션</td>\n",
       "      <td>2013-01-30</td>\n",
       "      <td>120</td>\n",
       "      <td>0.00</td>\n",
       "      <td>0</td>\n",
       "      <td>363</td>\n",
       "      <td>5</td>\n",
       "      <td>7166532</td>\n",
       "      <td>120</td>\n",
       "      <td>0.00</td>\n",
       "      <td>9.012262e+05</td>\n",
       "    </tr>\n",
       "  </tbody>\n",
       "</table>\n",
       "<p>600 rows × 11 columns</p>\n",
       "</div>"
      ],
      "text/plain": [
       "             장르        개봉일자  상영시간  이전영화_평균관객수  이전영화_개수  스태프수  배우수      관객수  \\\n",
       "개봉일자                                                                         \n",
       "2012-11-22   액션  2012-11-22    96        0.00        0    91    2    23398   \n",
       "2015-11-19  느와르  2015-11-19   130  1161602.50        2   387    3  7072501   \n",
       "2013-06-05   액션  2013-06-05   123   220775.25        4   343    4  6959083   \n",
       "2012-07-12  코미디  2012-07-12   101    23894.00        2    20    6   217866   \n",
       "2010-11-04  코미디  2010-11-04   108        1.00        1   251    2   483387   \n",
       "...         ...         ...   ...         ...      ...   ...  ...      ...   \n",
       "2014-08-13  드라마  2014-08-13   111     3833.00        1   510    7  1475091   \n",
       "2013-03-14  드라마  2013-03-14   127   496061.00        1   286    6  1716438   \n",
       "2010-09-30   공포  2010-09-30    99        0.00        0   123    4     2475   \n",
       "2015-05-14  느와르  2015-05-14   102        0.00        0   431    4  2192525   \n",
       "2013-01-30   액션  2013-01-30   120        0.00        0   363    5  7166532   \n",
       "\n",
       "            상영시간2         방법1           방법2  \n",
       "개봉일자                                         \n",
       "2012-11-22    100        0.00  9.012262e+05  \n",
       "2015-11-19    130  1161602.50  1.161602e+06  \n",
       "2013-06-05    120   220775.25  2.207752e+05  \n",
       "2012-07-12    100    23894.00  2.389400e+04  \n",
       "2010-11-04    110        1.00  1.000000e+00  \n",
       "...           ...         ...           ...  \n",
       "2014-08-13    110     3833.00  3.833000e+03  \n",
       "2013-03-14    130   496061.00  4.960610e+05  \n",
       "2010-09-30    100        0.00  9.012262e+05  \n",
       "2015-05-14    100        0.00  9.012262e+05  \n",
       "2013-01-30    120        0.00  9.012262e+05  \n",
       "\n",
       "[600 rows x 11 columns]"
      ]
     },
     "execution_count": 24,
     "metadata": {},
     "output_type": "execute_result"
    }
   ],
   "source": [
    "new_df.index = pd.DatetimeIndex(new_df.개봉일자)\n",
    "new_df"
   ]
  },
  {
   "cell_type": "code",
   "execution_count": 25,
   "metadata": {},
   "outputs": [
    {
     "data": {
      "text/plain": [
       "pandas.core.indexes.datetimes.DatetimeIndex"
      ]
     },
     "execution_count": 25,
     "metadata": {},
     "output_type": "execute_result"
    }
   ],
   "source": [
    "type(new_df.index)"
   ]
  },
  {
   "cell_type": "markdown",
   "metadata": {},
   "source": [
    "- new_df를 1개월 단위로 resample을 적용한다."
   ]
  },
  {
   "cell_type": "code",
   "execution_count": 26,
   "metadata": {},
   "outputs": [
    {
     "data": {
      "image/png": "[encoded data removed]",
      "text/plain": [
       "<Figure size 432x288 with 1 Axes>"
      ]
     },
     "metadata": {
      "needs_background": "light"
     },
     "output_type": "display_data"
    }
   ],
   "source": [
    "plot_1 = new_df.resample('1M')['관객수'].agg('mean')\n",
    "x = plot_1.index\n",
    "y = plot_1.values\n",
    "plt.bar(x,\n",
    "        y,\n",
    "        width = 5)\n",
    "plt.show()"
   ]
  },
  {
   "cell_type": "markdown",
   "metadata": {},
   "source": [
    "- new_df를 3개월 단위로 resample을 적용한다."
   ]
  },
  {
   "cell_type": "code",
   "execution_count": 27,
   "metadata": {},
   "outputs": [
    {
     "data": {
      "image/png": "[encoded data removed]",
      "text/plain": [
       "<Figure size 432x288 with 1 Axes>"
      ]
     },
     "metadata": {
      "needs_background": "light"
     },
     "output_type": "display_data"
    }
   ],
   "source": [
    "plot_2 = new_df.resample('1Q')['관객수'].agg('mean')\n",
    "x = plot_2.index\n",
    "y = plot_2.values\n",
    "plt.bar(x,\n",
    "        y,\n",
    "        width = 30)\n",
    "plt.show()"
   ]
  },
  {
   "cell_type": "markdown",
   "metadata": {},
   "source": [
    "- new_df를 6개월 단위로 resample을 적용한다."
   ]
  },
  {
   "cell_type": "code",
   "execution_count": 28,
   "metadata": {},
   "outputs": [
    {
     "data": {
      "image/png": "[encoded data removed]",
      "text/plain": [
       "<Figure size 432x288 with 1 Axes>"
      ]
     },
     "metadata": {
      "needs_background": "light"
     },
     "output_type": "display_data"
    }
   ],
   "source": [
    "plot_3 = new_df.resample('2Q')['관객수'].agg('mean')\n",
    "x = plot_3.index\n",
    "y = plot_3.values\n",
    "plt.bar(x,\n",
    "        y,\n",
    "        width = 30)\n",
    "plt.show()"
   ]
  },
  {
   "cell_type": "markdown",
   "metadata": {},
   "source": [
    "- new_df를 1년 단위로 resample을 적용한다."
   ]
  },
  {
   "cell_type": "code",
   "execution_count": 29,
   "metadata": {},
   "outputs": [
    {
     "data": {
      "image/png": "[encoded data removed]",
      "text/plain": [
       "<Figure size 432x288 with 1 Axes>"
      ]
     },
     "metadata": {
      "needs_background": "light"
     },
     "output_type": "display_data"
    }
   ],
   "source": [
    "plot_4 = new_df.resample('1Y')['관객수'].agg('mean')\n",
    "x = plot_4.index\n",
    "y = plot_4.values\n",
    "plt.bar(x,\n",
    "        y,\n",
    "        width = 30)\n",
    "plt.show()"
   ]
  }
 ],
 "metadata": {
  "colab": {
   "collapsed_sections": [],
   "name": "1일차-5교시. 데이터 시각화.ipynb",
   "provenance": []
  },
  "kernelspec": {
   "display_name": "Python 3",
   "language": "python",
   "name": "python3"
  },
  "language_info": {
   "codemirror_mode": {
    "name": "ipython",
    "version": 3
   },
   "file_extension": ".py",
   "mimetype": "text/x-python",
   "name": "python",
   "nbconvert_exporter": "python",
   "pygments_lexer": "ipython3",
   "version": "3.8.3"
  }
 },
 "nbformat": 4,
 "nbformat_minor": 1
}
