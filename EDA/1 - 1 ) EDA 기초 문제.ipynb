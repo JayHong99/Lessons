{
 "cells": [
  {
   "cell_type": "markdown",
   "metadata": {},
   "source": [
    "### 다음은 2021년 10월 7일 기준 코로나 확진자에 대한 데이터입니다.\n",
    "#### 다음 데이터를 기반으로, 아래와 같은 Bubble Chart를 도식해주세요.\n",
    "#### 조건\n",
    "- 1. 인구 수는 1억 단위로, 확진자는 1000만 단위로, 전일대비_증가는 10명 단위로 만들어주세요\n",
    "- 1. 가로축은 \"인구 수\", 세로축은 \"확진자 수\", 버블의 크기는 \"전일대비_증가\" 로 만들어주세요  \n",
    "- 2. 버블의 색상은 임의로 하셔도 되지만, 서로 다르게 만들어주세요.\n",
    "- 3. 버블의 중앙에는 그 나라의 이름이 들어가게 만들어주세요.\n",
    "- 4. 가로 축 이름은 '인구 수 (1억 단위)', 세로 축 이름은 \"확진자 수 (1000만 단위)\"로 만들어주세요.\n",
    "- 5. 제목은 '2021년 10월 7일 인구수 대비 누적확진자수에 따른 전일대비 증가자 수 (10명 단위)'로 만들어주세요.\n",
    "\n",
    "<img src=\"https://img1.daumcdn.net/thumb/R1280x0/?scode=mtistory2&fname=https%3A%2F%2Fblog.kakaocdn.net%2Fdn%2FcwJJ2w%2Fbtrg7WWialA%2F1ZXGkeKYikpaUyES5uz8r0%2Fimg.png\" style=\"width: 50%\">\n",
    "<img src=\"https://img1.daumcdn.net/thumb/R1280x0/?scode=mtistory2&fname=https%3A%2F%2Fblog.kakaocdn.net%2Fdn%2FbKIOAb%2FbtrhdvPUJ4R%2Fe9KeIUcy6olER5lNGb1Q00%2Fimg.png\" style=\"width: 50%\">"
   ]
  },
  {
   "cell_type": "code",
   "execution_count": 1,
   "metadata": {},
   "outputs": [],
   "source": [
    "covid_19 = {\n",
    "    '한국' : [325800, 2425, 51269185],\n",
    "    '일본' : [1709214, 969, 126000000],\n",
    "    '미국' : [44918565, 132307, 331000000],\n",
    "    '영국' : [8006660, 38675, 67886011]\n",
    "}"
   ]
  },
  {
   "cell_type": "code",
   "execution_count": 2,
   "metadata": {},
   "outputs": [],
   "source": [
    "# 데이터 분석용 패키지 불러오기\n",
    "import pandas as pd\n",
    "import numpy as np\n",
    "\n",
    "# EDA용 패키지 불러오기\n",
    "import matplotlib\n",
    "import matplotlib.pyplot as plt\n",
    "import seaborn as sns\n",
    "%matplotlib inline \n",
    "\n",
    "# Python에서 한글 폰트 설정\n",
    "local_font_path = \"c:/Windows/Fonts/malgun.ttf\"\n",
    "import matplotlib.font_manager as fm\n",
    "plt.rc('font', family=fm.FontProperties(fname=local_font_path).get_name())\n",
    "\n",
    "# 마이너스 부호 깨지는 현상 방지\n",
    "plt.rc('axes', unicode_minus=False)"
   ]
  },
  {
   "cell_type": "code",
   "execution_count": null,
   "metadata": {},
   "outputs": [],
   "source": []
  }
 ],
 "metadata": {
  "kernelspec": {
   "display_name": "Python 3",
   "language": "python",
   "name": "python3"
  },
  "language_info": {
   "codemirror_mode": {
    "name": "ipython",
    "version": 3
   },
   "file_extension": ".py",
   "mimetype": "text/x-python",
   "name": "python",
   "nbconvert_exporter": "python",
   "pygments_lexer": "ipython3",
   "version": "3.8.3"
  }
 },
 "nbformat": 4,
 "nbformat_minor": 4
}
