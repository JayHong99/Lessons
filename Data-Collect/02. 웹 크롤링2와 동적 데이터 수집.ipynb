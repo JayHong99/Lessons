{
 "cells": [
  {
   "cell_type": "markdown",
   "metadata": {},
   "source": [
    "# Selenium pptx 자료"
   ]
  },
  {
   "cell_type": "markdown",
   "metadata": {},
   "source": [
    "pip install --user selenium"
   ]
  },
  {
   "cell_type": "markdown",
   "metadata": {},
   "source": [
    "pip install --user webdriver-manager"
   ]
  },
  {
   "cell_type": "code",
   "execution_count": 1,
   "metadata": {},
   "outputs": [],
   "source": [
    "import pandas as pd\n",
    "from webdriver_manager.chrome import ChromeDriverManager\n",
    "from selenium import webdriver\n",
    "from selenium.webdriver.common.keys import Keys\n",
    "import time"
   ]
  },
  {
   "cell_type": "code",
   "execution_count": 2,
   "metadata": {},
   "outputs": [
    {
     "name": "stderr",
     "output_type": "stream",
     "text": [
      "\n",
      "\n",
      "====== WebDriver manager ======\n",
      "Current google-chrome version is 98.0.4758\n",
      "Get LATEST driver version for 98.0.4758\n",
      "Driver [C:\\Users\\jay\\.wdm\\drivers\\chromedriver\\win32\\98.0.4758.80\\chromedriver.exe] found in cache\n"
     ]
    }
   ],
   "source": [
    "browser = webdriver.Chrome(ChromeDriverManager().install())"
   ]
  },
  {
   "cell_type": "code",
   "execution_count": 3,
   "metadata": {},
   "outputs": [],
   "source": [
    "url = 'https://comic.naver.com/webtoon/weekday'\n",
    "browser.get(url)"
   ]
  },
  {
   "cell_type": "code",
   "execution_count": 4,
   "metadata": {},
   "outputs": [],
   "source": [
    "selector = 'div.list_area div.col:nth-of-type(1) li:nth-of-type(1)'\n",
    "browser.find_element_by_css_selector(selector).click()"
   ]
  },
  {
   "cell_type": "code",
   "execution_count": 5,
   "metadata": {},
   "outputs": [
    {
     "data": {
      "text/plain": [
       "[<selenium.webdriver.remote.webelement.WebElement (session=\"1f11c7b603b33b4ce4589da1f18796a4\", element=\"ac04dcd2-4812-4777-b12d-bb2aa8300af0\")>,\n",
       " <selenium.webdriver.remote.webelement.WebElement (session=\"1f11c7b603b33b4ce4589da1f18796a4\", element=\"5e8d19e9-57b1-48f2-95dd-3c26c60427f0\")>,\n",
       " <selenium.webdriver.remote.webelement.WebElement (session=\"1f11c7b603b33b4ce4589da1f18796a4\", element=\"d2fbc8ae-9db6-41f5-b13c-98c3fb38770b\")>,\n",
       " <selenium.webdriver.remote.webelement.WebElement (session=\"1f11c7b603b33b4ce4589da1f18796a4\", element=\"c764c677-eea3-4e34-b93e-3c42c8033572\")>,\n",
       " <selenium.webdriver.remote.webelement.WebElement (session=\"1f11c7b603b33b4ce4589da1f18796a4\", element=\"d7d939ce-c25e-4a5e-b37b-5060fd3eb5d7\")>,\n",
       " <selenium.webdriver.remote.webelement.WebElement (session=\"1f11c7b603b33b4ce4589da1f18796a4\", element=\"9c83520d-c8a3-4160-b1ba-7d4cd88cc3af\")>,\n",
       " <selenium.webdriver.remote.webelement.WebElement (session=\"1f11c7b603b33b4ce4589da1f18796a4\", element=\"d640265e-7f8e-4310-9964-4cae42f265bc\")>,\n",
       " <selenium.webdriver.remote.webelement.WebElement (session=\"1f11c7b603b33b4ce4589da1f18796a4\", element=\"55413c25-8575-4839-9362-0559dc450bbf\")>,\n",
       " <selenium.webdriver.remote.webelement.WebElement (session=\"1f11c7b603b33b4ce4589da1f18796a4\", element=\"d91aa72b-dae3-478a-8ca1-8c028adfaf38\")>,\n",
       " <selenium.webdriver.remote.webelement.WebElement (session=\"1f11c7b603b33b4ce4589da1f18796a4\", element=\"e58bbf25-9679-4d7f-8135-4361ff8abd1c\")>]"
      ]
     },
     "execution_count": 5,
     "metadata": {},
     "output_type": "execute_result"
    }
   ],
   "source": [
    "title_path = 'td.title'\n",
    "titles = browser.find_elements_by_css_selector(title_path)\n",
    "titles"
   ]
  },
  {
   "cell_type": "code",
   "execution_count": 6,
   "metadata": {},
   "outputs": [],
   "source": [
    "titles = [title.text for title in titles]"
   ]
  },
  {
   "cell_type": "code",
   "execution_count": 7,
   "metadata": {},
   "outputs": [],
   "source": [
    "korean_titles = []\n",
    "korean_titles.extend(titles)"
   ]
  },
  {
   "cell_type": "code",
   "execution_count": 8,
   "metadata": {},
   "outputs": [],
   "source": [
    "selector = 'div.page_wrap a:nth-of-type(1)'\n",
    "browser.find_element_by_css_selector(selector).click()"
   ]
  },
  {
   "cell_type": "markdown",
   "metadata": {},
   "source": [
    "자동화"
   ]
  },
  {
   "cell_type": "code",
   "execution_count": 10,
   "metadata": {},
   "outputs": [
    {
     "name": "stdout",
     "output_type": "stream",
     "text": [
      "1페이지 수집 결과 10개의 제목 수집\n",
      "2페이지 수집 결과 20개의 제목 수집\n",
      "3페이지 수집 결과 30개의 제목 수집\n",
      "4페이지 수집 결과 40개의 제목 수집\n",
      "5페이지 수집 결과 50개의 제목 수집\n",
      "6페이지 수집 결과 60개의 제목 수집\n",
      "수집을 중단합니다.\n",
      "최종 수집 결과 60개의 제목 수집 완료.\n"
     ]
    }
   ],
   "source": [
    "host_url = 'https://comic.naver.com/webtoon/list?titleId=783054&weekday=mon&page='\n",
    "\n",
    "page_num = 1\n",
    "\n",
    "korean_titles = []\n",
    "start_length = len(korean_titles)\n",
    "while True  : \n",
    "    url = host_url + str(page_num)\n",
    "    browser.get(url)\n",
    "    time.sleep(0.5)\n",
    "    title_path = 'td.title'\n",
    "    titles = browser.find_elements_by_css_selector(title_path)\n",
    "    titles = [title.text for title in titles]\n",
    "    korean_titles.extend(titles)\n",
    "    korean_titles = list(set(korean_titles))\n",
    "    \n",
    "    if start_length < len(korean_titles) : \n",
    "        print(f'{page_num}페이지 수집 결과 {len(korean_titles)}개의 제목 수집')\n",
    "        page_num += 1\n",
    "        start_length = len(korean_titles)\n",
    "    else : \n",
    "        print(f'수집을 중단합니다.')\n",
    "        print(f'최종 수집 결과 {len(korean_titles)}개의 제목 수집 완료.')\n",
    "        break;"
   ]
  },
  {
   "cell_type": "markdown",
   "metadata": {},
   "source": [
    "# 실습"
   ]
  },
  {
   "cell_type": "code",
   "execution_count": null,
   "metadata": {},
   "outputs": [],
   "source": []
  }
 ],
 "metadata": {
  "kernelspec": {
   "display_name": "Python 3",
   "language": "python",
   "name": "python3"
  },
  "language_info": {
   "codemirror_mode": {
    "name": "ipython",
    "version": 3
   },
   "file_extension": ".py",
   "mimetype": "text/x-python",
   "name": "python",
   "nbconvert_exporter": "python",
   "pygments_lexer": "ipython3",
   "version": "3.8.3"
  }
 },
 "nbformat": 4,
 "nbformat_minor": 4
}
