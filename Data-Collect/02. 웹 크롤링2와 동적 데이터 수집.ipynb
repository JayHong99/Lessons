{
 "cells": [
  {
   "cell_type": "markdown",
   "metadata": {},
   "source": [
    "# Selenium pptx 자료"
   ]
  },
  {
   "cell_type": "markdown",
   "metadata": {},
   "source": [
    "pip install --user selenium"
   ]
  },
  {
   "cell_type": "markdown",
   "metadata": {},
   "source": [
    "pip install --user webdriver-manager"
   ]
  },
  {
   "cell_type": "code",
   "execution_count": 3,
   "metadata": {},
   "outputs": [],
   "source": [
    "import pandas as pd\n",
    "from webdriver_manager.chrome import ChromeDriverManager\n",
    "from selenium import webdriver\n",
    "from selenium.webdriver.common.keys import Keys\n",
    "import time"
   ]
  },
  {
   "cell_type": "code",
   "execution_count": 4,
   "metadata": {},
   "outputs": [
    {
     "name": "stderr",
     "output_type": "stream",
     "text": [
      "\n",
      "\n",
      "====== WebDriver manager ======\n",
      "Current google-chrome version is 99.0.4844\n",
      "Get LATEST chromedriver version for 99.0.4844 google-chrome\n",
      "There is no [mac64_m1] chromedriver for browser 99.0.4844 in cache\n",
      "Trying to download new driver from https://chromedriver.storage.googleapis.com/99.0.4844.51/chromedriver_mac64_m1.zip\n",
      "Driver has been saved in cache [/Users/jayhong/.wdm/drivers/chromedriver/mac64_m1/99.0.4844.51]\n",
      "/var/folders/4j/x5vmwkwx22q10xstbq466qhm0000gn/T/ipykernel_1361/893479022.py:1: DeprecationWarning: executable_path has been deprecated, please pass in a Service object\n",
      "  browser = webdriver.Chrome(ChromeDriverManager().install())\n"
     ]
    }
   ],
   "source": [
    "browser = webdriver.Chrome(ChromeDriverManager().install())"
   ]
  },
  {
   "cell_type": "code",
   "execution_count": 5,
   "metadata": {},
   "outputs": [],
   "source": [
    "url = 'https://comic.naver.com/webtoon/weekday'\n",
    "browser.get(url)"
   ]
  },
  {
   "cell_type": "code",
   "execution_count": 6,
   "metadata": {},
   "outputs": [
    {
     "name": "stderr",
     "output_type": "stream",
     "text": [
      "/var/folders/4j/x5vmwkwx22q10xstbq466qhm0000gn/T/ipykernel_1361/304628849.py:2: DeprecationWarning: find_element_by_css_selector is deprecated. Please use find_element(by=By.CSS_SELECTOR, value=css_selector) instead\n",
      "  browser.find_element_by_css_selector(selector).click()\n"
     ]
    }
   ],
   "source": [
    "selector = 'div.list_area div.col:nth-of-type(1) li:nth-of-type(1)'\n",
    "browser.find_element_by_css_selector(selector).click()"
   ]
  },
  {
   "cell_type": "code",
   "execution_count": 7,
   "metadata": {},
   "outputs": [
    {
     "name": "stderr",
     "output_type": "stream",
     "text": [
      "/var/folders/4j/x5vmwkwx22q10xstbq466qhm0000gn/T/ipykernel_1361/832870764.py:2: DeprecationWarning: find_elements_by_css_selector is deprecated. Please use find_elements(by=By.CSS_SELECTOR, value=css_selector) instead\n",
      "  titles = browser.find_elements_by_css_selector(title_path)\n"
     ]
    },
    {
     "data": {
      "text/plain": [
       "[<selenium.webdriver.remote.webelement.WebElement (session=\"23a745a8c945efa03c5180d6df4454b3\", element=\"6b9d542a-4dd8-4abf-ad85-c0525d7995ef\")>,\n",
       " <selenium.webdriver.remote.webelement.WebElement (session=\"23a745a8c945efa03c5180d6df4454b3\", element=\"837fe36f-2fba-4a0f-8348-e807e71166a9\")>,\n",
       " <selenium.webdriver.remote.webelement.WebElement (session=\"23a745a8c945efa03c5180d6df4454b3\", element=\"fc932a39-7949-4040-a7c0-e6d53e34b652\")>,\n",
       " <selenium.webdriver.remote.webelement.WebElement (session=\"23a745a8c945efa03c5180d6df4454b3\", element=\"5bf7ce36-5b0a-4abd-bda8-2e25cca5aae2\")>,\n",
       " <selenium.webdriver.remote.webelement.WebElement (session=\"23a745a8c945efa03c5180d6df4454b3\", element=\"f0345ab7-a3ea-44bb-857a-1194063cc765\")>,\n",
       " <selenium.webdriver.remote.webelement.WebElement (session=\"23a745a8c945efa03c5180d6df4454b3\", element=\"e78e3771-abeb-451a-b824-af2581389e81\")>,\n",
       " <selenium.webdriver.remote.webelement.WebElement (session=\"23a745a8c945efa03c5180d6df4454b3\", element=\"5ec50fce-20d1-49f8-893b-f496af7c870e\")>,\n",
       " <selenium.webdriver.remote.webelement.WebElement (session=\"23a745a8c945efa03c5180d6df4454b3\", element=\"1e2c1340-855a-45ea-9a68-fa2831691335\")>,\n",
       " <selenium.webdriver.remote.webelement.WebElement (session=\"23a745a8c945efa03c5180d6df4454b3\", element=\"a7977819-c912-4c78-b80f-dda071a67089\")>,\n",
       " <selenium.webdriver.remote.webelement.WebElement (session=\"23a745a8c945efa03c5180d6df4454b3\", element=\"66ad0b42-cfab-45ad-a8a3-16a48ee35dcb\")>]"
      ]
     },
     "execution_count": 7,
     "metadata": {},
     "output_type": "execute_result"
    }
   ],
   "source": [
    "title_path = 'td.title'\n",
    "titles = browser.find_elements_by_css_selector(title_path)\n",
    "titles"
   ]
  },
  {
   "cell_type": "code",
   "execution_count": 8,
   "metadata": {},
   "outputs": [],
   "source": [
    "titles = [title.text for title in titles]"
   ]
  },
  {
   "cell_type": "code",
   "execution_count": 9,
   "metadata": {},
   "outputs": [],
   "source": [
    "korean_titles = []\n",
    "korean_titles.extend(titles)"
   ]
  },
  {
   "cell_type": "code",
   "execution_count": 10,
   "metadata": {},
   "outputs": [
    {
     "name": "stderr",
     "output_type": "stream",
     "text": [
      "/var/folders/4j/x5vmwkwx22q10xstbq466qhm0000gn/T/ipykernel_1361/3232839939.py:2: DeprecationWarning: find_element_by_css_selector is deprecated. Please use find_element(by=By.CSS_SELECTOR, value=css_selector) instead\n",
      "  browser.find_element_by_css_selector(selector).click()\n"
     ]
    }
   ],
   "source": [
    "selector = 'div.page_wrap a:nth-of-type(1)'\n",
    "browser.find_element_by_css_selector(selector).click()"
   ]
  },
  {
   "cell_type": "markdown",
   "metadata": {},
   "source": [
    "자동화"
   ]
  },
  {
   "cell_type": "code",
   "execution_count": 11,
   "metadata": {},
   "outputs": [
    {
     "name": "stderr",
     "output_type": "stream",
     "text": [
      "/var/folders/4j/x5vmwkwx22q10xstbq466qhm0000gn/T/ipykernel_1361/1924732018.py:12: DeprecationWarning: find_elements_by_css_selector is deprecated. Please use find_elements(by=By.CSS_SELECTOR, value=css_selector) instead\n",
      "  titles = browser.find_elements_by_css_selector(title_path)\n"
     ]
    },
    {
     "name": "stdout",
     "output_type": "stream",
     "text": [
      "1페이지 수집 결과 10개의 제목 수집\n",
      "2페이지 수집 결과 20개의 제목 수집\n",
      "3페이지 수집 결과 30개의 제목 수집\n",
      "4페이지 수집 결과 40개의 제목 수집\n",
      "5페이지 수집 결과 50개의 제목 수집\n",
      "6페이지 수집 결과 60개의 제목 수집\n",
      "7페이지 수집 결과 70개의 제목 수집\n",
      "8페이지 수집 결과 80개의 제목 수집\n",
      "9페이지 수집 결과 90개의 제목 수집\n",
      "10페이지 수집 결과 92개의 제목 수집\n",
      "수집을 중단합니다.\n",
      "최종 수집 결과 92개의 제목 수집 완료.\n"
     ]
    }
   ],
   "source": [
    "host_url = 'https://comic.naver.com/webtoon/list?titleId=783054&weekday=mon&page='\n",
    "\n",
    "page_num = 1\n",
    "\n",
    "korean_titles = []\n",
    "start_length = len(korean_titles)\n",
    "while True  : \n",
    "    url = host_url + str(page_num)\n",
    "    browser.get(url)\n",
    "    time.sleep(0.5)\n",
    "    title_path = 'td.title'\n",
    "    titles = browser.find_elements_by_css_selector(title_path)\n",
    "    titles = [title.text for title in titles]\n",
    "    korean_titles.extend(titles)\n",
    "    korean_titles = list(set(korean_titles))\n",
    "    \n",
    "    if start_length < len(korean_titles) : \n",
    "        print(f'{page_num}페이지 수집 결과 {len(korean_titles)}개의 제목 수집')\n",
    "        page_num += 1\n",
    "        start_length = len(korean_titles)\n",
    "    else : \n",
    "        print(f'수집을 중단합니다.')\n",
    "        print(f'최종 수집 결과 {len(korean_titles)}개의 제목 수집 완료.')\n",
    "        break;"
   ]
  },
  {
   "cell_type": "markdown",
   "metadata": {},
   "source": [
    "# 실습"
   ]
  },
  {
   "cell_type": "code",
   "execution_count": null,
   "metadata": {},
   "outputs": [],
   "source": []
  }
 ],
 "metadata": {
  "kernelspec": {
   "display_name": "Python 3",
   "language": "python",
   "name": "python3"
  },
  "language_info": {
   "codemirror_mode": {
    "name": "ipython",
    "version": 3
   },
   "file_extension": ".py",
   "mimetype": "text/x-python",
   "name": "python",
   "nbconvert_exporter": "python",
   "pygments_lexer": "ipython3",
   "version": "3.9.10"
  }
 },
 "nbformat": 4,
 "nbformat_minor": 4
}
