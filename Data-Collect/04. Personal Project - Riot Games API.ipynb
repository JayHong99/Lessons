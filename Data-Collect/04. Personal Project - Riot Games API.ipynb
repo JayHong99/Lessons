{
 "cells": [
  {
   "cell_type": "code",
   "execution_count": 1,
   "metadata": {},
   "outputs": [],
   "source": [
    "import requests\n",
    "import urllib\n",
    "import json\n",
    "import datetime\n",
    "import time"
   ]
  },
  {
   "cell_type": "markdown",
   "metadata": {},
   "source": [
    "# 1. 토큰 발급받기"
   ]
  },
  {
   "cell_type": "markdown",
   "metadata": {},
   "source": [
    "https://developer.riotgames.com/\n",
    "\n",
    "에 로그인 + 가입으로 개발자 api key를 발급받으세요."
   ]
  },
  {
   "cell_type": "code",
   "execution_count": 2,
   "metadata": {},
   "outputs": [],
   "source": [
    "my_key =  #expires on 2022.02.05 22:40 (PT = UTC-8 = KST - 17) # 우리나라보다 17시간 느린시간, 24시간 지원"
   ]
  },
  {
   "cell_type": "markdown",
   "metadata": {},
   "source": [
    "# 2. Document 확인하기"
   ]
  },
  {
   "cell_type": "markdown",
   "metadata": {},
   "source": [
    "- https://developer.riotgames.com/docs/portal\n",
    "- - https://developer.riotgames.com/docs/lol\n",
    "- 참고할 만한 내용\n",
    "\n",
    "### 1. 호출 제한\n",
    "- 1초에 20개의 호출만 가능하다.\n",
    "- 2분에는 100개가 최대이다.\n",
    "- 따라서, time.sleep() 설정이 필요해 보인다.\n",
    "\n",
    "### 2. response code\n",
    "- 200 : 정상 수집\n",
    "- 4XX : 부적합한 request\n",
    "    - 400 : 요청사항 중 안전달한게 있거나 틀린 내용이 있음\n",
    "    - 401 : 주로 API Key를 전달하지 않아 생김\n",
    "    - 403 : 금지된 error, 주로 차단되거나 없는 API, 없는 경로\n",
    "    - 404 : Not Found : 찾을 수 없다. 주로 없는 유저 ID 등\n",
    "    - 415 : 지원하지 않는 media\n",
    "    - 429  호출 횟수 초과\n",
    "- 4XX : 서버 에러\n",
    "    - 500 : 내부 서버 에러\n",
    "    - 503 : 서비스 불가\n",
    "    \n",
    "### 그 외\n",
    "- 한국 호출 서버가 따로 있어 빠를듯 싶네요"
   ]
  },
  {
   "cell_type": "markdown",
   "metadata": {},
   "source": [
    "# 3. 데이터 요청하기"
   ]
  },
  {
   "cell_type": "markdown",
   "metadata": {},
   "source": [
    "## 1) 헤더 설정"
   ]
  },
  {
   "cell_type": "code",
   "execution_count": 3,
   "metadata": {},
   "outputs": [],
   "source": [
    "headers = {\n",
    "    \"User-Agent\": \"Mozilla/5.0 (Windows NT 10.0; Win64; x64) AppleWebKit/537.36 (KHTML, like Gecko) Chrome/98.0.4758.82 Safari/537.36\",\n",
    "    \"Accept-Language\": \"ko-KR,ko;q=0.9,en-US;q=0.8,en;q=0.7\",\n",
    "    \"Accept-Charset\": \"application/x-www-form-urlencoded; charset=UTF-8\",\n",
    "    \"Origin\": \"https://developer.riotgames.com\",\n",
    "    \"X-Riot-Token\": my_key\n",
    "}"
   ]
  },
  {
   "cell_type": "markdown",
   "metadata": {},
   "source": [
    "## 2) 유저 정보 불러오기"
   ]
  },
  {
   "cell_type": "markdown",
   "metadata": {},
   "source": [
    "- refer : https://developer.riotgames.com/apis#summoner-v4\n",
    "- 유저(롤에서는 summoner, 소환사라고 부른다)의 정보를 불러오고 싶습니다.\n",
    "- API로 활용할 때는, 유저 정보를 객채화한 DTO 형태로 사용해야 합니다.\n",
    "    - Data Transfer Obejct\n",
    "\n",
    "- 암호화된 정보는 다음의 5가지를 통해 얻을 수 있습니다.\n",
    "    - (1) 계정 ID를 이용\n",
    "    - (2) 계정 이름을 이용\n",
    "    - (3) PUUID (잘 모르겠다..)\n",
    "    - (4) 암호화된 소환사 ID를 이용\n",
    "    - (5) 자기 자신"
   ]
  },
  {
   "cell_type": "markdown",
   "metadata": {},
   "source": [
    "이번 예시에서는 롤 프로게이머 빛상혁님의 \"Hide on bush\"를 활용해보겠습니다 >_<\n",
    "- Summoner의 계정 이름이므로, 2번을 사용합니다."
   ]
  },
  {
   "cell_type": "markdown",
   "metadata": {},
   "source": [
    "### 2번 방법의 요구사항\n",
    "\n",
    "- user_name : url에 추가합니다.\n",
    "\n",
    "- headers\n",
    "    - User-Agent : https://www.whatismybrowser.com/detect/what-is-my-user-agent 에서 확인 가능\n",
    "    - Accept-Language : 'ko-KR,ko;q=0.9' # 한국어\n",
    "    - Accept-Charset: \"application/x-www-form-urlencoded; charset=UTF-8\", # 문자 형태는 UTF-8로 인코딩 한 값\n",
    "    - Origin : 데이터 출처\n",
    "    - X-Riot-Token : 개인 api key"
   ]
  },
  {
   "cell_type": "code",
   "execution_count": 4,
   "metadata": {},
   "outputs": [],
   "source": [
    "user_name = 'Hide on bush'\n",
    "\n",
    "user_name = user_name.replace(' ','%20')\n",
    "request_url = f'https://kr.api.riotgames.com/lol/summoner/v4/summoners/by-name/{user_name}'"
   ]
  },
  {
   "cell_type": "code",
   "execution_count": 5,
   "metadata": {},
   "outputs": [],
   "source": [
    "today = datetime.datetime.today()\n",
    "\n",
    "year = today.year\n",
    "month = today.month\n",
    "day = today.day\n",
    "hour = today.hour"
   ]
  },
  {
   "cell_type": "markdown",
   "metadata": {},
   "source": [
    "- 방법1"
   ]
  },
  {
   "cell_type": "code",
   "execution_count": 6,
   "metadata": {
    "scrolled": true
   },
   "outputs": [
    {
     "name": "stdout",
     "output_type": "stream",
     "text": [
      "Status Code :  200\n"
     ]
    }
   ],
   "source": [
    "res = urllib.request.Request(request_url)\n",
    "\n",
    "for key,value in headers.items() : \n",
    "    res.add_header(key, value)\n",
    "response = urllib.request.urlopen(res)\n",
    "result = response.readlines()\n",
    "\n",
    "result = json.loads(result[0].decode('utf-8'))\n",
    "\n",
    "print('Status Code : ',response.getcode())"
   ]
  },
  {
   "cell_type": "markdown",
   "metadata": {},
   "source": [
    "- 방법2"
   ]
  },
  {
   "cell_type": "code",
   "execution_count": 7,
   "metadata": {},
   "outputs": [
    {
     "name": "stdout",
     "output_type": "stream",
     "text": [
      "Status Code :  <Response [200]>\n"
     ]
    }
   ],
   "source": [
    "response = requests.get(request_url, headers = headers)\n",
    "result = response.json()\n",
    "print('Status Code : ',response)"
   ]
  },
  {
   "cell_type": "markdown",
   "metadata": {},
   "source": [
    "- 정말 잘 불러와졌는지 Test"
   ]
  },
  {
   "cell_type": "code",
   "execution_count": 8,
   "metadata": {},
   "outputs": [
    {
     "name": "stdout",
     "output_type": "stream",
     "text": [
      "2022년 2월 5일 17시 기준\n",
      "Hide on bush님은 534레벨입니다.\n"
     ]
    }
   ],
   "source": [
    "user_puuid = result.get('puuid')\n",
    "user_name = result.get('name')\n",
    "user_level = result.get('summonerLevel')\n",
    "\n",
    "print(f'{year}년 {month}월 {day}일 {hour}시 기준\\n{user_name}님은 {user_level}레벨입니다.')"
   ]
  },
  {
   "cell_type": "markdown",
   "metadata": {},
   "source": [
    "## 3) 유저 정보를 바탕으로 과거 매치 검색하기"
   ]
  },
  {
   "cell_type": "markdown",
   "metadata": {},
   "source": [
    "- refer : https://developer.riotgames.com/apis#match-v5\n",
    "- 우리는 위의 단계에서 빛상혁님의 \"user_puuid\"를 획득할 수 있었다.\n",
    "- 이를 이용해서 정보를 수집할 것이다.\n",
    "    - 기본 url : /lol/match/v5/matches/by-puuid/{puuid}/ids\n",
    "- 전적 검색 기능 \n",
    "    - puuid 기준\n",
    "    - matchid 기준\n",
    "    - matchId에 timeline 기준\n",
    "\n",
    "\n",
    "### 요구 파라미터\n",
    "- 필수\n",
    "    - puuid\n",
    "- 선택\n",
    "    - 시작 시간 : Epoch Timestep형태로 불러오기. \n",
    "        - 이는 \"유닉스 시간\"이라는 것으로, 하나의 시간 개념이다.\n",
    "        - https://www.epochconverter.com/ 에서 확인하고, 바꿀 수 있다.\n",
    "        - mktime이라는 module로도 가능\n",
    "        - 이번 실습에서는 2022년 1월1일부터를 기준으로 한다.\n",
    "        - 1640998800\n",
    "    - 끝 시간\n",
    "        - 마찬가지로, Epoch timestep 형태로, 2022년 1월 31일을 기준으로 한다.\n",
    "        - 1643641199\n",
    "    - type \n",
    "        - match type\n",
    "        - 다양한 매치 형태가 있으며, 이 중 어떤 타입을 볼것인지를 의미\n",
    "        - 별도의 설정 X\n",
    "    - queue\n",
    "        - type과 동일하나, 이를 숫자로 표현한 방법\n",
    "    - start\n",
    "        - 시작 번호 : default 0 (처음)\n",
    "    - count\n",
    "        - 몇개의 match를 보여줄지 설정\n",
    "        - default 20, 0 ~ 100사이의 값\n",
    "        - count 만큼의 match를 가져다 준다.\n",
    "\n",
    "- 만약 1월 1일부터 1월 31일까지경기를 200회 진행했다면,\n",
    "    - 1640998800부터 1643673599까지의 데이터를\n",
    "    - count를 20으로 두었을 때, start를 0,20,40,60,...,180으로 바꿔가며 수집해야 한다."
   ]
  },
  {
   "cell_type": "code",
   "execution_count": 9,
   "metadata": {},
   "outputs": [
    {
     "name": "stdout",
     "output_type": "stream",
     "text": [
      "1640962800\n"
     ]
    }
   ],
   "source": [
    "start_time = datetime.datetime(2022,1,1,0,0) # 1월 1일 0시 0분\n",
    "start_time = int(time.mktime(start_time.timetuple()))\n",
    "print(start_time)"
   ]
  },
  {
   "cell_type": "code",
   "execution_count": 10,
   "metadata": {},
   "outputs": [
    {
     "name": "stdout",
     "output_type": "stream",
     "text": [
      "1643641199\n"
     ]
    }
   ],
   "source": [
    "end_time = datetime.datetime(2022,1,31,23,59,59) # 1월 31일 23시 59분\n",
    "end_time = int(time.mktime(end_time.timetuple()))\n",
    "print(end_time)"
   ]
  },
  {
   "cell_type": "code",
   "execution_count": 11,
   "metadata": {},
   "outputs": [],
   "source": [
    "start = 0"
   ]
  },
  {
   "cell_type": "code",
   "execution_count": 12,
   "metadata": {},
   "outputs": [],
   "source": [
    "count = 20"
   ]
  },
  {
   "cell_type": "code",
   "execution_count": 13,
   "metadata": {},
   "outputs": [],
   "source": [
    "request_url = f'https://asia.api.riotgames.com/lol/match/v5/matches/by-puuid/{user_puuid}/ids?\\\n",
    "startTime={start_time}\\\n",
    "&endTime={end_time}\\\n",
    "&start={start}\\\n",
    "&count={count}'"
   ]
  },
  {
   "cell_type": "code",
   "execution_count": 14,
   "metadata": {},
   "outputs": [
    {
     "name": "stdout",
     "output_type": "stream",
     "text": [
      "Status Code :  <Response [200]>\n"
     ]
    }
   ],
   "source": [
    "response = requests.get(request_url, headers = headers)\n",
    "result = response.json()\n",
    "print('Status Code : ',response)"
   ]
  },
  {
   "cell_type": "markdown",
   "metadata": {},
   "source": [
    "반복문으로 모든 경기 가져오기\n",
    "    - count를 늘리고\n",
    "    - start를 조정하자."
   ]
  },
  {
   "cell_type": "code",
   "execution_count": 15,
   "metadata": {},
   "outputs": [
    {
     "name": "stdout",
     "output_type": "stream",
     "text": [
      "현재 총 50개의 경기 결과가 누적되었습니다.\n",
      "현재 총 100개의 경기 결과가 누적되었습니다.\n",
      "현재 총 150개의 경기 결과가 누적되었습니다.\n",
      "현재 총 168개의 경기 결과가 누적되었습니다.\n",
      "1월 한달간 최종 168개의 경기 결과가 누적되었습니다.\n"
     ]
    }
   ],
   "source": [
    "match_ids = []\n",
    "start = 0\n",
    "count = 50\n",
    "while True : \n",
    "    request_url = f'https://asia.api.riotgames.com/lol/match/v5/matches/by-puuid/{user_puuid}/ids?\\\n",
    "startTime={start_time}\\\n",
    "&endTime={end_time}\\\n",
    "&start={start}\\\n",
    "&count={count}'\n",
    "    \n",
    "    response = requests.get(request_url, headers = headers)\n",
    "    result = response.json()    \n",
    "    match_ids.extend(result)\n",
    "    match_ids = list(set(match_ids)) # 중복 제거\n",
    "    \n",
    "    if len(match_ids) < start : \n",
    "        print(f'1월 한달간 최종 {len(match_ids)}개의 경기 결과가 누적되었습니다.')\n",
    "        break;\n",
    "    else : \n",
    "        print(f'현재 총 {len(match_ids)}개의 경기 결과가 누적되었습니다.')\n",
    "        start += count"
   ]
  },
  {
   "cell_type": "markdown",
   "metadata": {},
   "source": [
    "## 여기까지하고 깨달은 사실..\n",
    "- 매치 결과 api인 matches-v4가 현재 비활성 상태이다.\n",
    "- https://developer.riotgames.com/api-status/\n",
    "- 이렇게 된거 TFT 로 전향하겠습니다.\n",
    "- 나중에 활성화 되면 테스트해보세요"
   ]
  },
  {
   "cell_type": "markdown",
   "metadata": {},
   "source": [
    "## 4) 매치 정보 가져오기... ㅎㅎ"
   ]
  },
  {
   "cell_type": "markdown",
   "metadata": {},
   "source": [
    "TFT는 최근 20게임만 지원한다.\n",
    "\n",
    "- https://static.developer.riotgames.com/docs/lol/queues.json\n",
    "- https://developer.riotgames.com/apis#tft-match-v1"
   ]
  },
  {
   "cell_type": "code",
   "execution_count": 16,
   "metadata": {},
   "outputs": [],
   "source": [
    "request_url = f'https://asia.api.riotgames.com/tft/match/v1/matches/by-puuid/{user_puuid}/ids'"
   ]
  },
  {
   "cell_type": "code",
   "execution_count": 17,
   "metadata": {},
   "outputs": [
    {
     "name": "stdout",
     "output_type": "stream",
     "text": [
      "https://asia.api.riotgames.com/tft/match/v1/matches/by-puuid/3y8bJywRuf70qBpin93Y9qUSt5DnqhTCwrnRbcJ1dKOqTD19UxYkWdkRMUdvr0aUS4gnib8HLCfmOA/ids?count=20\n"
     ]
    }
   ],
   "source": [
    "print('https://asia.api.riotgames.com/tft/match/v1/matches/by-puuid/3y8bJywRuf70qBpin93Y9qUSt5DnqhTCwrnRbcJ1dKOqTD19UxYkWdkRMUdvr0aUS4gnib8HLCfmOA/ids?count=20')"
   ]
  },
  {
   "cell_type": "code",
   "execution_count": 18,
   "metadata": {},
   "outputs": [
    {
     "name": "stdout",
     "output_type": "stream",
     "text": [
      "Status Code :  <Response [200]>\n"
     ]
    },
    {
     "data": {
      "text/plain": [
       "['KR_5730084909',\n",
       " 'KR_5729918927',\n",
       " 'KR_5729874139',\n",
       " 'KR_5729452302',\n",
       " 'KR_5694091410',\n",
       " 'KR_5660866876',\n",
       " 'KR_5654286829',\n",
       " 'KR_5654332517',\n",
       " 'KR_5654251339',\n",
       " 'KR_5654163747',\n",
       " 'KR_5649772977',\n",
       " 'KR_5649666465',\n",
       " 'KR_5649626899',\n",
       " 'KR_5649399594',\n",
       " 'KR_5649430235',\n",
       " 'KR_5647332040',\n",
       " 'KR_5647156094',\n",
       " 'KR_5647018730',\n",
       " 'KR_5646981556',\n",
       " 'KR_5646882348']"
      ]
     },
     "execution_count": 18,
     "metadata": {},
     "output_type": "execute_result"
    }
   ],
   "source": [
    "response = requests.get(request_url, headers = headers)\n",
    "matches = response.json()\n",
    "print('Status Code : ',response)\n",
    "matches"
   ]
  },
  {
   "cell_type": "markdown",
   "metadata": {},
   "source": [
    "## 5) 경기 결과 가져오기"
   ]
  },
  {
   "cell_type": "code",
   "execution_count": 19,
   "metadata": {},
   "outputs": [
    {
     "name": "stdout",
     "output_type": "stream",
     "text": [
      "Status Code :  <Response [200]>\n"
     ]
    }
   ],
   "source": [
    "request_url = f'https://asia.api.riotgames.com/tft/match/v1/matches/{matches[0]}'\n",
    "response = requests.get(request_url, headers = headers)\n",
    "match_result = response.json()\n",
    "print('Status Code : ',response)"
   ]
  },
  {
   "cell_type": "markdown",
   "metadata": {},
   "source": [
    "- 결과 해석"
   ]
  },
  {
   "cell_type": "markdown",
   "metadata": {},
   "source": [
    "- MatchDto\n",
    "    - 게임 정보\n",
    "    \n",
    "- MetadataDto\n",
    "    - data_version\n",
    "    - match_id\n",
    "    - 참여자 정보\n",
    "- infoDto : 게임정보\n",
    "    - 진행 날짜\n",
    "    - 게임 길이\n",
    "    - 게임 타입 (일반, 랭크 등)\n",
    "    - 게임 버전\n",
    "    - 참여자\n",
    "    - queue_id\n",
    "    - tft_set_number\n",
    "- 이하 생략...\n",
    "\n",
    "- 살펴볼 정보들\n",
    "    - 유저에게 가한 데미지\n",
    "    - 제거한 유저 수\n",
    "    \n",
    "    - 남은 골드\n",
    "    - 올린 레벨\n",
    "    \n",
    "    - 살아남은 라운드\n",
    "    - 최종 순위\n",
    "    \n",
    "    - 사용한 특성\n",
    "    - 사용한 아이템\n",
    "    - 사용한 유닛\n",
    "- https://developer.riotgames.com/docs/tft 에서 item json 파일 다운"
   ]
  },
  {
   "cell_type": "code",
   "execution_count": 20,
   "metadata": {},
   "outputs": [],
   "source": [
    "with open('items.json','r') as f : \n",
    "    items_list = json.load(f)\n",
    "f.close()\n",
    "\n",
    "items_dict = dict([[x.get('id'), x.get('name')] for x in items_list])"
   ]
  },
  {
   "cell_type": "code",
   "execution_count": 21,
   "metadata": {},
   "outputs": [],
   "source": [
    "match_user_info = [x for x in match_result.get('info').get('participants') if x.get('puuid') == user_puuid][0]"
   ]
  },
  {
   "cell_type": "code",
   "execution_count": 22,
   "metadata": {
    "scrolled": false
   },
   "outputs": [],
   "source": [
    "total_damage_to_players = match_user_info.get('total_damage_to_players')\n",
    "players_eliminated = match_user_info.get('players_eliminated')\n",
    "gold_left = match_user_info.get('gold_left')\n",
    "level = match_user_info.get('level')\n",
    "last_round = match_user_info.get('last_round')\n",
    "placement = match_user_info.get('placement')"
   ]
  },
  {
   "cell_type": "code",
   "execution_count": 23,
   "metadata": {},
   "outputs": [],
   "source": [
    "match_user_traits =  match_user_info.get('traits')\n",
    "match_user_units =  match_user_info.get('units')"
   ]
  },
  {
   "cell_type": "code",
   "execution_count": 24,
   "metadata": {},
   "outputs": [],
   "source": [
    "match_traits = [[x.get('name'), x.get('num_units')]  for x in match_user_traits]\n",
    "match_units = [[x.get('character_id'), x.get('tier')] for x in match_user_units]\n",
    "match_items = [x.get('items') for x in match_user_units]"
   ]
  },
  {
   "cell_type": "markdown",
   "metadata": {},
   "source": [
    "모든 경기에 대해서 살펴보기"
   ]
  },
  {
   "cell_type": "code",
   "execution_count": 25,
   "metadata": {
    "scrolled": true
   },
   "outputs": [],
   "source": [
    "total_damage_to_players = 0\n",
    "players_eliminated = 0\n",
    "gold_left = 0\n",
    "level = 0\n",
    "last_round = 0\n",
    "placement = 0\n",
    "\n",
    "match_traits = {}\n",
    "match_units = {}\n",
    "match_items = {}\n",
    "\n",
    "for match in matches : \n",
    "    request_url = f'https://asia.api.riotgames.com/tft/match/v1/matches/{match}'\n",
    "    response = requests.get(request_url, headers = headers)\n",
    "    match_result = response.json()\n",
    "    \n",
    "    match_user_info = [x for x in match_result.get('info').get('participants') if x.get('puuid') == user_puuid][0]\n",
    "    total_damage_to_players += match_user_info.get('total_damage_to_players')\n",
    "    players_eliminated += match_user_info.get('players_eliminated')\n",
    "    gold_left += match_user_info.get('gold_left')\n",
    "    level += match_user_info.get('level')\n",
    "    last_round += match_user_info.get('last_round')\n",
    "    placement += match_user_info.get('placement')\n",
    "    match_user_traits =  match_user_info.get('traits')\n",
    "    match_user_units =  match_user_info.get('units')\n",
    "    \n",
    "    match_traits.update({trait : match_traits.get(trait,0)+unit_num for trait, unit_num in [[x.get('name'), x.get('num_units')] for x in match_user_traits]})\n",
    "    match_units.update({character : match_units.get(character,0)+1 for character, tier in [[x.get('character_id'), x.get('tier')] for x in match_user_units]})\n",
    "    for item in [item for items in [x.get('items') for x in match_user_units] for item in items] : \n",
    "        match_items[item] = match_items.get(item,0) + 1"
   ]
  },
  {
   "cell_type": "code",
   "execution_count": 26,
   "metadata": {
    "scrolled": false
   },
   "outputs": [
    {
     "name": "stdout",
     "output_type": "stream",
     "text": [
      "\n",
      "한 판당 평균 가한 데미지       : 147.9\n",
      "한 판당 평균 제거 적의 수      : 1.5\n",
      "한 판당 평균 남긴 골드 량      : 14.3\n",
      "한 판당 평균 레벨              : 8.3\n",
      "한 판당 평균 살아남은 라운드   : 35.1\n",
      "한 판당 평균 순위              : 2.75\n",
      "\n",
      "20판동안 가장 많이 사용한 특성 : ['Set6_Enchanter', 'Set6_Scholar', 'Set6_Scrap', 'Set6_Academy', 'Set6_Mutant'],\n",
      "20판동안 가장 많이 사용한 유닛 : ['TFT6_Janna', 'TFT6_Taric', 'TFT6_Yuumi', 'TFT6_Orianna', 'TFT6_Jayce'],\n",
      "20판동안 가장 많이 사용한 템   : ['Infinity Edge', 'Redemption', 'Bramble Vest', \"Banshee's Claw\", 'Ionic Spark'],\n",
      "\n",
      "\n"
     ]
    }
   ],
   "source": [
    "print(f\"\"\"\n",
    "한 판당 평균 가한 데미지       : {total_damage_to_players / 20}\n",
    "한 판당 평균 제거 적의 수      : {players_eliminated / 20}\n",
    "한 판당 평균 남긴 골드 량      : {gold_left / 20}\n",
    "한 판당 평균 레벨              : {level / 20}\n",
    "한 판당 평균 살아남은 라운드   : {last_round / 20}\n",
    "한 판당 평균 순위              : {placement / 20}\n",
    "\n",
    "20판동안 가장 많이 사용한 특성 : {[x[0] for x in sorted([[trait, num] for trait, num in match_traits.items()], key = lambda x: x[1], reverse= True)[:5]]},\n",
    "20판동안 가장 많이 사용한 유닛 : {[x[0] for x in sorted([[unit, num] for unit, num in match_units.items()], key = lambda x: x[1], reverse= True)[:5]]},\n",
    "20판동안 가장 많이 사용한 템   : {[items_dict.get(x[0]) for x in sorted([[item, num] for item, num in match_items.items()], key = lambda x: x[1], reverse= True)[:5]]},\n",
    "\n",
    "\"\"\")"
   ]
  },
  {
   "cell_type": "markdown",
   "metadata": {},
   "source": [
    "## 평균 순위 2.75... 그저 빛"
   ]
  }
 ],
 "metadata": {
  "kernelspec": {
   "display_name": "Python 3",
   "language": "python",
   "name": "python3"
  },
  "language_info": {
   "codemirror_mode": {
    "name": "ipython",
    "version": 3
   },
   "file_extension": ".py",
   "mimetype": "text/x-python",
   "name": "python",
   "nbconvert_exporter": "python",
   "pygments_lexer": "ipython3",
   "version": "3.8.3"
  }
 },
 "nbformat": 4,
 "nbformat_minor": 4
}
